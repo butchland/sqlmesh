{
 "cells": [
  {
   "cell_type": "code",
   "execution_count": 1,
   "id": "initial_id",
   "metadata": {},
   "outputs": [],
   "source": [
    "import os\n",
    "import tempfile\n",
    "import shutil\n",
    "import pathlib\n",
    "\n",
    "from freezegun import freeze_time\n",
    "\n",
    "# import to register magics\n",
    "import sqlmesh"
   ]
  },
  {
   "cell_type": "code",
   "execution_count": 2,
   "id": "e38a8ec8-3c54-4a21-aa28-a6fd1fdc86e9",
   "metadata": {},
   "outputs": [
    {
     "data": {
      "text/plain": [
       "<freezegun.api.FrozenDateTimeFactory at 0x7f7916fd6090>"
      ]
     },
     "execution_count": 2,
     "metadata": {},
     "output_type": "execute_result"
    }
   ],
   "source": [
    "freezer = freeze_time(\"2032-01-01 00:00:00\")\n",
    "freezer.start()"
   ]
  },
  {
   "cell_type": "code",
   "execution_count": 3,
   "id": "1a412470c028d252",
   "metadata": {
    "collapsed": false,
    "jupyter": {
     "outputs_hidden": false
    }
   },
   "outputs": [
    {
     "data": {
      "text/plain": [
       "'/home/butch2/play/study/learn-sqlmesh/sqlmesh2/examples/sushi'"
      ]
     },
     "execution_count": 3,
     "metadata": {},
     "output_type": "execute_result"
    }
   ],
   "source": [
    "# starting_dir = pathlib.Path(os.getcwd())\n",
    "# prev_parent_stem = \"\"\n",
    "# root_dir = None\n",
    "# for parent in starting_dir.parents:\n",
    "#     if parent.stem == \"sqlmesh\" and prev_parent_stem == \"tests\":\n",
    "#         root_dir = parent\n",
    "#         break\n",
    "#     prev_parent_stem = parent.stem\n",
    "# else:\n",
    "#     raise RuntimeError(\"Couldn't find root dir\")\n",
    "root_dir = pathlib.Path(os.getcwd()).parents[2]\n",
    "EXAMPLE_SUSHI_DIR = pathlib.Path(root_dir) / \"examples\" / \"sushi\"\n",
    "str(EXAMPLE_SUSHI_DIR)"
   ]
  },
  {
   "cell_type": "code",
   "execution_count": 4,
   "id": "78afd8b3-3f88-4bfc-a3e7-52770c64a647",
   "metadata": {},
   "outputs": [
    {
     "data": {
      "text/plain": [
       "'/tmp/test_jupyter_notebook'"
      ]
     },
     "execution_count": 4,
     "metadata": {},
     "output_type": "execute_result"
    }
   ],
   "source": [
    "TARGET_SUSHI_DIR = pathlib.Path(tempfile.gettempdir()) / \"test_jupyter_notebook\"\n",
    "str(TARGET_SUSHI_DIR)"
   ]
  },
  {
   "cell_type": "code",
   "execution_count": 5,
   "id": "5e36b791-d756-4a01-83f5-d126ca69621c",
   "metadata": {},
   "outputs": [
    {
     "data": {
      "text/plain": [
       "'/tmp/test_jupyter_notebook/models'"
      ]
     },
     "execution_count": 5,
     "metadata": {},
     "output_type": "execute_result"
    }
   ],
   "source": [
    "TARGET_MODEL_DIR = TARGET_SUSHI_DIR / \"models\"\n",
    "str(TARGET_MODEL_DIR)"
   ]
  },
  {
   "cell_type": "code",
   "execution_count": 6,
   "id": "d0f43c20-7fe4-448b-abc8-ced4dcb87ad7",
   "metadata": {},
   "outputs": [
    {
     "data": {
      "text/plain": [
       "'/tmp/test_jupyter_notebook'"
      ]
     },
     "execution_count": 6,
     "metadata": {},
     "output_type": "execute_result"
    }
   ],
   "source": [
    "def ignore(src, names):\n",
    "    if pathlib.Path(src).name in {\".cache\", \"__pycache__\", \"logs\", \"data\"}:\n",
    "        return names\n",
    "    return []\n",
    "\n",
    "if TARGET_SUSHI_DIR.exists():\n",
    "    shutil.rmtree(str(TARGET_SUSHI_DIR))\n",
    "shutil.copytree(str(EXAMPLE_SUSHI_DIR), str(TARGET_SUSHI_DIR), ignore=ignore)"
   ]
  },
  {
   "cell_type": "code",
   "execution_count": 7,
   "id": "6121c12f2cf70f05",
   "metadata": {
    "collapsed": false,
    "jupyter": {
     "outputs_hidden": false
    }
   },
   "outputs": [
    {
     "data": {
      "text/html": [
       "<pre style=\"white-space:pre;overflow-x:auto;line-height:normal;font-family:Menlo,'DejaVu Sans Mono',consolas,'Courier New',monospace\">\n",
       "<span style=\"color: #008000; text-decoration-color: #008000\">SQLMesh project context set to: /tmp/test_jupyter_notebook</span>\n",
       "\n",
       "</pre>\n"
      ],
      "text/plain": [
       "\n",
       "\u001b[32mSQLMesh project context set to: \u001b[0m\u001b[32m/tmp/\u001b[0m\u001b[32mtest_jupyter_notebook\u001b[0m\n",
       "\n"
      ]
     },
     "metadata": {},
     "output_type": "display_data"
    }
   ],
   "source": [
    "%context $TARGET_SUSHI_DIR"
   ]
  },
  {
   "cell_type": "markdown",
   "id": "0352bd04-bdef-476e-9b88-ca9f1a6a4e59",
   "metadata": {},
   "source": [
    "### Leaving plan unapplied to verify that the text boxes are printed"
   ]
  },
  {
   "cell_type": "code",
   "execution_count": 8,
   "id": "d1055eaa-533d-4bf5-adbc-4fb5b5e42aee",
   "metadata": {},
   "outputs": [
    {
     "name": "stderr",
     "output_type": "stream",
     "text": [
      "/home/butch2/play/study/learn-sqlmesh/sqlmesh2/sqlmesh/core/test/definition.py:185: FutureWarning: errors='ignore' is deprecated and will raise in a future version. Use to_datetime without passing `errors` and catch exceptions explicitly instead\n",
      "  expected[col] = pd.to_datetime(expected[col], errors=\"ignore\").dt.date  # type: ignore\n"
     ]
    },
    {
     "data": {
      "application/vnd.jupyter.widget-view+json": {
       "model_id": "c9fc7bb0167a41ac816d9474466e71b7",
       "version_major": 2,
       "version_minor": 0
      },
      "text/plain": [
       "HTML(value='<span style=\"font-size: 11px; font-weight: bold; font-family: Menlo,\\'DejaVu Sans Mono\\',consolas,…"
      ]
     },
     "metadata": {},
     "output_type": "display_data"
    },
    {
     "data": {
      "text/html": [
       "<pre style=\"white-space:pre;overflow-x:auto;line-height:normal;font-family:Menlo,'DejaVu Sans Mono',consolas,'Courier New',monospace\"><span style=\"font-weight: bold\">New environment `prod` will be created from `prod`</span>\n",
       "</pre>\n"
      ],
      "text/plain": [
       "\u001b[1mNew environment `prod` will be created from `prod`\u001b[0m\n"
      ]
     },
     "metadata": {},
     "output_type": "display_data"
    },
    {
     "data": {
      "text/html": [
       "<pre style=\"white-space:pre;overflow-x:auto;line-height:normal;font-family:Menlo,'DejaVu Sans Mono',consolas,'Courier New',monospace\"><span style=\"font-weight: bold\">Summary of differences against `prod`:</span>\n",
       "</pre>\n"
      ],
      "text/plain": [
       "\u001b[1mSummary of differences against `prod`:\u001b[0m\n"
      ]
     },
     "metadata": {},
     "output_type": "display_data"
    },
    {
     "data": {
      "text/html": [
       "<pre style=\"white-space:pre;overflow-x:auto;line-height:normal;font-family:Menlo,'DejaVu Sans Mono',consolas,'Courier New',monospace\"><span style=\"font-weight: bold\">Models:</span>\n",
       "└── <span style=\"color: #008000; text-decoration-color: #008000; font-weight: bold\">Added:</span>\n",
       "    ├── <span style=\"color: #008000; text-decoration-color: #008000\">sushi.waiter_revenue_by_day</span>\n",
       "    ├── <span style=\"color: #008000; text-decoration-color: #008000\">sushi.customers</span>\n",
       "    ├── <span style=\"color: #008000; text-decoration-color: #008000\">sushi.raw_marketing</span>\n",
       "    ├── <span style=\"color: #008000; text-decoration-color: #008000\">sushi.waiter_as_customer_by_day</span>\n",
       "    ├── <span style=\"color: #008000; text-decoration-color: #008000\">sushi.items</span>\n",
       "    ├── <span style=\"color: #008000; text-decoration-color: #008000\">sushi.order_items</span>\n",
       "    ├── <span style=\"color: #008000; text-decoration-color: #008000\">raw.model2</span>\n",
       "    ├── <span style=\"color: #008000; text-decoration-color: #008000\">sushi.customer_revenue_lifetime</span>\n",
       "    ├── <span style=\"color: #008000; text-decoration-color: #008000\">sushi.waiters</span>\n",
       "    ├── <span style=\"color: #008000; text-decoration-color: #008000\">sushi.top_waiters</span>\n",
       "    ├── <span style=\"color: #008000; text-decoration-color: #008000\">raw.model1</span>\n",
       "    ├── <span style=\"color: #008000; text-decoration-color: #008000\">sushi.customer_revenue_by_day</span>\n",
       "    ├── <span style=\"color: #008000; text-decoration-color: #008000\">sushi.marketing</span>\n",
       "    ├── <span style=\"color: #008000; text-decoration-color: #008000\">sushi.waiter_names</span>\n",
       "    ├── <span style=\"color: #008000; text-decoration-color: #008000\">raw.demographics</span>\n",
       "    └── <span style=\"color: #008000; text-decoration-color: #008000\">sushi.orders</span>\n",
       "</pre>\n"
      ],
      "text/plain": [
       "\u001b[1mModels:\u001b[0m\n",
       "└── \u001b[1;32mAdded:\u001b[0m\n",
       "    ├── \u001b[32msushi.waiter_revenue_by_day\u001b[0m\n",
       "    ├── \u001b[32msushi.customers\u001b[0m\n",
       "    ├── \u001b[32msushi.raw_marketing\u001b[0m\n",
       "    ├── \u001b[32msushi.waiter_as_customer_by_day\u001b[0m\n",
       "    ├── \u001b[32msushi.items\u001b[0m\n",
       "    ├── \u001b[32msushi.order_items\u001b[0m\n",
       "    ├── \u001b[32mraw.model2\u001b[0m\n",
       "    ├── \u001b[32msushi.customer_revenue_lifetime\u001b[0m\n",
       "    ├── \u001b[32msushi.waiters\u001b[0m\n",
       "    ├── \u001b[32msushi.top_waiters\u001b[0m\n",
       "    ├── \u001b[32mraw.model1\u001b[0m\n",
       "    ├── \u001b[32msushi.customer_revenue_by_day\u001b[0m\n",
       "    ├── \u001b[32msushi.marketing\u001b[0m\n",
       "    ├── \u001b[32msushi.waiter_names\u001b[0m\n",
       "    ├── \u001b[32mraw.demographics\u001b[0m\n",
       "    └── \u001b[32msushi.orders\u001b[0m\n"
      ]
     },
     "metadata": {},
     "output_type": "display_data"
    },
    {
     "data": {
      "text/html": [
       "<pre style=\"white-space:pre;overflow-x:auto;line-height:normal;font-family:Menlo,'DejaVu Sans Mono',consolas,'Courier New',monospace\"><span style=\"font-weight: bold\">Standalone Audits:</span>\n",
       "└── <span style=\"color: #008000; text-decoration-color: #008000; font-weight: bold\">Added:</span>\n",
       "    └── <span style=\"color: #008000; text-decoration-color: #008000\">assert_item_price_above_zero</span>\n",
       "</pre>\n"
      ],
      "text/plain": [
       "\u001b[1mStandalone Audits:\u001b[0m\n",
       "└── \u001b[1;32mAdded:\u001b[0m\n",
       "    └── \u001b[32massert_item_price_above_zero\u001b[0m\n"
      ]
     },
     "metadata": {},
     "output_type": "display_data"
    },
    {
     "data": {
      "application/vnd.jupyter.widget-view+json": {
       "model_id": "bddfc76ab6634d378bbb2774a35efcd4",
       "version_major": 2,
       "version_minor": 0
      },
      "text/plain": [
       "VBox()"
      ]
     },
     "metadata": {},
     "output_type": "display_data"
    }
   ],
   "source": [
    "%plan"
   ]
  },
  {
   "cell_type": "code",
   "execution_count": 9,
   "id": "825596d3292f4cf4",
   "metadata": {
    "collapsed": false,
    "jupyter": {
     "outputs_hidden": false
    }
   },
   "outputs": [
    {
     "name": "stderr",
     "output_type": "stream",
     "text": [
      "/home/butch2/play/study/learn-sqlmesh/sqlmesh2/sqlmesh/core/test/definition.py:185: FutureWarning: errors='ignore' is deprecated and will raise in a future version. Use to_datetime without passing `errors` and catch exceptions explicitly instead\n",
      "  expected[col] = pd.to_datetime(expected[col], errors=\"ignore\").dt.date  # type: ignore\n"
     ]
    },
    {
     "data": {
      "application/vnd.jupyter.widget-view+json": {
       "model_id": "e7028562c8fc4333b047a22aa5b43a94",
       "version_major": 2,
       "version_minor": 0
      },
      "text/plain": [
       "HTML(value='<span style=\"font-size: 11px; font-weight: bold; font-family: Menlo,\\'DejaVu Sans Mono\\',consolas,…"
      ]
     },
     "metadata": {},
     "output_type": "display_data"
    },
    {
     "data": {
      "text/html": [
       "<pre style=\"white-space:pre;overflow-x:auto;line-height:normal;font-family:Menlo,'DejaVu Sans Mono',consolas,'Courier New',monospace\"><span style=\"font-weight: bold\">New environment `prod` will be created from `prod`</span>\n",
       "</pre>\n"
      ],
      "text/plain": [
       "\u001b[1mNew environment `prod` will be created from `prod`\u001b[0m\n"
      ]
     },
     "metadata": {},
     "output_type": "display_data"
    },
    {
     "data": {
      "text/html": [
       "<pre style=\"white-space:pre;overflow-x:auto;line-height:normal;font-family:Menlo,'DejaVu Sans Mono',consolas,'Courier New',monospace\"><span style=\"font-weight: bold\">Summary of differences against `prod`:</span>\n",
       "</pre>\n"
      ],
      "text/plain": [
       "\u001b[1mSummary of differences against `prod`:\u001b[0m\n"
      ]
     },
     "metadata": {},
     "output_type": "display_data"
    },
    {
     "data": {
      "text/html": [
       "<pre style=\"white-space:pre;overflow-x:auto;line-height:normal;font-family:Menlo,'DejaVu Sans Mono',consolas,'Courier New',monospace\"><span style=\"font-weight: bold\">Models:</span>\n",
       "└── <span style=\"color: #008000; text-decoration-color: #008000; font-weight: bold\">Added:</span>\n",
       "    ├── <span style=\"color: #008000; text-decoration-color: #008000\">sushi.waiter_revenue_by_day</span>\n",
       "    ├── <span style=\"color: #008000; text-decoration-color: #008000\">sushi.customers</span>\n",
       "    ├── <span style=\"color: #008000; text-decoration-color: #008000\">sushi.raw_marketing</span>\n",
       "    ├── <span style=\"color: #008000; text-decoration-color: #008000\">sushi.waiter_as_customer_by_day</span>\n",
       "    ├── <span style=\"color: #008000; text-decoration-color: #008000\">sushi.items</span>\n",
       "    ├── <span style=\"color: #008000; text-decoration-color: #008000\">sushi.order_items</span>\n",
       "    ├── <span style=\"color: #008000; text-decoration-color: #008000\">raw.model2</span>\n",
       "    ├── <span style=\"color: #008000; text-decoration-color: #008000\">sushi.customer_revenue_lifetime</span>\n",
       "    ├── <span style=\"color: #008000; text-decoration-color: #008000\">sushi.waiters</span>\n",
       "    ├── <span style=\"color: #008000; text-decoration-color: #008000\">sushi.top_waiters</span>\n",
       "    ├── <span style=\"color: #008000; text-decoration-color: #008000\">raw.model1</span>\n",
       "    ├── <span style=\"color: #008000; text-decoration-color: #008000\">sushi.customer_revenue_by_day</span>\n",
       "    ├── <span style=\"color: #008000; text-decoration-color: #008000\">sushi.marketing</span>\n",
       "    ├── <span style=\"color: #008000; text-decoration-color: #008000\">sushi.waiter_names</span>\n",
       "    ├── <span style=\"color: #008000; text-decoration-color: #008000\">raw.demographics</span>\n",
       "    └── <span style=\"color: #008000; text-decoration-color: #008000\">sushi.orders</span>\n",
       "</pre>\n"
      ],
      "text/plain": [
       "\u001b[1mModels:\u001b[0m\n",
       "└── \u001b[1;32mAdded:\u001b[0m\n",
       "    ├── \u001b[32msushi.waiter_revenue_by_day\u001b[0m\n",
       "    ├── \u001b[32msushi.customers\u001b[0m\n",
       "    ├── \u001b[32msushi.raw_marketing\u001b[0m\n",
       "    ├── \u001b[32msushi.waiter_as_customer_by_day\u001b[0m\n",
       "    ├── \u001b[32msushi.items\u001b[0m\n",
       "    ├── \u001b[32msushi.order_items\u001b[0m\n",
       "    ├── \u001b[32mraw.model2\u001b[0m\n",
       "    ├── \u001b[32msushi.customer_revenue_lifetime\u001b[0m\n",
       "    ├── \u001b[32msushi.waiters\u001b[0m\n",
       "    ├── \u001b[32msushi.top_waiters\u001b[0m\n",
       "    ├── \u001b[32mraw.model1\u001b[0m\n",
       "    ├── \u001b[32msushi.customer_revenue_by_day\u001b[0m\n",
       "    ├── \u001b[32msushi.marketing\u001b[0m\n",
       "    ├── \u001b[32msushi.waiter_names\u001b[0m\n",
       "    ├── \u001b[32mraw.demographics\u001b[0m\n",
       "    └── \u001b[32msushi.orders\u001b[0m\n"
      ]
     },
     "metadata": {},
     "output_type": "display_data"
    },
    {
     "data": {
      "text/html": [
       "<pre style=\"white-space:pre;overflow-x:auto;line-height:normal;font-family:Menlo,'DejaVu Sans Mono',consolas,'Courier New',monospace\"><span style=\"font-weight: bold\">Standalone Audits:</span>\n",
       "└── <span style=\"color: #008000; text-decoration-color: #008000; font-weight: bold\">Added:</span>\n",
       "    └── <span style=\"color: #008000; text-decoration-color: #008000\">assert_item_price_above_zero</span>\n",
       "</pre>\n"
      ],
      "text/plain": [
       "\u001b[1mStandalone Audits:\u001b[0m\n",
       "└── \u001b[1;32mAdded:\u001b[0m\n",
       "    └── \u001b[32massert_item_price_above_zero\u001b[0m\n"
      ]
     },
     "metadata": {},
     "output_type": "display_data"
    },
    {
     "data": {
      "application/vnd.jupyter.widget-view+json": {
       "model_id": "08b906dc9c9c4de0912ef71c691b0b96",
       "version_major": 2,
       "version_minor": 0
      },
      "text/plain": [
       "Output()"
      ]
     },
     "metadata": {},
     "output_type": "display_data"
    },
    {
     "data": {
      "text/html": [
       "<pre style=\"white-space:pre;overflow-x:auto;line-height:normal;font-family:Menlo,'DejaVu Sans Mono',consolas,'Courier New',monospace\"></pre>\n"
      ],
      "text/plain": []
     },
     "metadata": {},
     "output_type": "display_data"
    },
    {
     "data": {
      "text/html": [
       "<pre style=\"white-space:pre;overflow-x:auto;line-height:normal;font-family:Menlo,'DejaVu Sans Mono',consolas,'Courier New',monospace\">\n",
       "</pre>\n"
      ],
      "text/plain": [
       "\n"
      ]
     },
     "metadata": {},
     "output_type": "display_data"
    },
    {
     "data": {
      "text/html": [
       "<pre style=\"white-space:pre;overflow-x:auto;line-height:normal;font-family:Menlo,'DejaVu Sans Mono',consolas,'Courier New',monospace\">\n",
       "<span style=\"color: #008000; text-decoration-color: #008000\">All model versions have been created successfully</span>\n",
       "\n",
       "</pre>\n"
      ],
      "text/plain": [
       "\n",
       "\u001b[32mAll model versions have been created successfully\u001b[0m\n",
       "\n"
      ]
     },
     "metadata": {},
     "output_type": "display_data"
    },
    {
     "data": {
      "application/vnd.jupyter.widget-view+json": {
       "model_id": "fba5ae9cc5714173ac6d30483f60247d",
       "version_major": 2,
       "version_minor": 0
      },
      "text/plain": [
       "Output()"
      ]
     },
     "metadata": {},
     "output_type": "display_data"
    },
    {
     "data": {
      "text/html": [
       "<pre style=\"white-space:pre;overflow-x:auto;line-height:normal;font-family:Menlo,'DejaVu Sans Mono',consolas,'Courier New',monospace\"></pre>\n"
      ],
      "text/plain": []
     },
     "metadata": {},
     "output_type": "display_data"
    },
    {
     "data": {
      "text/html": [
       "<pre style=\"white-space:pre;overflow-x:auto;line-height:normal;font-family:Menlo,'DejaVu Sans Mono',consolas,'Courier New',monospace\">\n",
       "<span style=\"color: #008000; text-decoration-color: #008000\">All model batches have been executed successfully</span>\n",
       "\n",
       "</pre>\n"
      ],
      "text/plain": [
       "\n",
       "\u001b[32mAll model batches have been executed successfully\u001b[0m\n",
       "\n"
      ]
     },
     "metadata": {},
     "output_type": "display_data"
    },
    {
     "data": {
      "application/vnd.jupyter.widget-view+json": {
       "model_id": "77947292b05948d2a4317237a3c33146",
       "version_major": 2,
       "version_minor": 0
      },
      "text/plain": [
       "Output()"
      ]
     },
     "metadata": {},
     "output_type": "display_data"
    },
    {
     "data": {
      "text/html": [
       "<pre style=\"white-space:pre;overflow-x:auto;line-height:normal;font-family:Menlo,'DejaVu Sans Mono',consolas,'Courier New',monospace\"></pre>\n"
      ],
      "text/plain": []
     },
     "metadata": {},
     "output_type": "display_data"
    },
    {
     "data": {
      "text/html": [
       "<pre style=\"white-space:pre;overflow-x:auto;line-height:normal;font-family:Menlo,'DejaVu Sans Mono',consolas,'Courier New',monospace\">\n",
       "</pre>\n"
      ],
      "text/plain": [
       "\n"
      ]
     },
     "metadata": {},
     "output_type": "display_data"
    },
    {
     "data": {
      "text/html": [
       "<pre style=\"white-space:pre;overflow-x:auto;line-height:normal;font-family:Menlo,'DejaVu Sans Mono',consolas,'Courier New',monospace\">\n",
       "<span style=\"color: #008000; text-decoration-color: #008000\">The target environment has been updated successfully</span>\n",
       "\n",
       "</pre>\n"
      ],
      "text/plain": [
       "\n",
       "\u001b[32mThe target environment has been updated successfully\u001b[0m\n",
       "\n"
      ]
     },
     "metadata": {},
     "output_type": "display_data"
    }
   ],
   "source": [
    "%plan --no-prompts --auto-apply"
   ]
  },
  {
   "cell_type": "code",
   "execution_count": 10,
   "id": "4478d80a-ee61-43b5-ac48-60b20a497a75",
   "metadata": {},
   "outputs": [
    {
     "name": "stderr",
     "output_type": "stream",
     "text": [
      "/home/butch2/play/study/learn-sqlmesh/sqlmesh2/sqlmesh/core/test/definition.py:185: FutureWarning: errors='ignore' is deprecated and will raise in a future version. Use to_datetime without passing `errors` and catch exceptions explicitly instead\n",
      "  expected[col] = pd.to_datetime(expected[col], errors=\"ignore\").dt.date  # type: ignore\n"
     ]
    },
    {
     "data": {
      "application/vnd.jupyter.widget-view+json": {
       "model_id": "9c901d548dac4c2bab507f1bde8a5a38",
       "version_major": 2,
       "version_minor": 0
      },
      "text/plain": [
       "HTML(value='<span style=\"font-size: 11px; font-weight: bold; font-family: Menlo,\\'DejaVu Sans Mono\\',consolas,…"
      ]
     },
     "metadata": {},
     "output_type": "display_data"
    },
    {
     "data": {
      "text/html": [
       "<pre style=\"white-space:pre;overflow-x:auto;line-height:normal;font-family:Menlo,'DejaVu Sans Mono',consolas,'Courier New',monospace\"><span style=\"font-weight: bold\">New environment `dev` will be created from `prod`</span>\n",
       "</pre>\n"
      ],
      "text/plain": [
       "\u001b[1mNew environment `dev` will be created from `prod`\u001b[0m\n"
      ]
     },
     "metadata": {},
     "output_type": "display_data"
    },
    {
     "data": {
      "application/vnd.jupyter.widget-view+json": {
       "model_id": "b1505d2ae0e1491ca154b791233f0092",
       "version_major": 2,
       "version_minor": 0
      },
      "text/plain": [
       "Output()"
      ]
     },
     "metadata": {},
     "output_type": "display_data"
    },
    {
     "data": {
      "text/html": [
       "<pre style=\"white-space:pre;overflow-x:auto;line-height:normal;font-family:Menlo,'DejaVu Sans Mono',consolas,'Courier New',monospace\"></pre>\n"
      ],
      "text/plain": []
     },
     "metadata": {},
     "output_type": "display_data"
    },
    {
     "data": {
      "text/html": [
       "<pre style=\"white-space:pre;overflow-x:auto;line-height:normal;font-family:Menlo,'DejaVu Sans Mono',consolas,'Courier New',monospace\">\n",
       "</pre>\n"
      ],
      "text/plain": [
       "\n"
      ]
     },
     "metadata": {},
     "output_type": "display_data"
    },
    {
     "data": {
      "text/html": [
       "<pre style=\"white-space:pre;overflow-x:auto;line-height:normal;font-family:Menlo,'DejaVu Sans Mono',consolas,'Courier New',monospace\">\n",
       "<span style=\"color: #008000; text-decoration-color: #008000\">All model versions have been created successfully</span>\n",
       "\n",
       "</pre>\n"
      ],
      "text/plain": [
       "\n",
       "\u001b[32mAll model versions have been created successfully\u001b[0m\n",
       "\n"
      ]
     },
     "metadata": {},
     "output_type": "display_data"
    },
    {
     "data": {
      "application/vnd.jupyter.widget-view+json": {
       "model_id": "b971569fb5294e4292a0cf32e4b9720a",
       "version_major": 2,
       "version_minor": 0
      },
      "text/plain": [
       "Output()"
      ]
     },
     "metadata": {},
     "output_type": "display_data"
    },
    {
     "data": {
      "text/html": [
       "<pre style=\"white-space:pre;overflow-x:auto;line-height:normal;font-family:Menlo,'DejaVu Sans Mono',consolas,'Courier New',monospace\"></pre>\n"
      ],
      "text/plain": []
     },
     "metadata": {},
     "output_type": "display_data"
    },
    {
     "data": {
      "text/html": [
       "<pre style=\"white-space:pre;overflow-x:auto;line-height:normal;font-family:Menlo,'DejaVu Sans Mono',consolas,'Courier New',monospace\">\n",
       "</pre>\n"
      ],
      "text/plain": [
       "\n"
      ]
     },
     "metadata": {},
     "output_type": "display_data"
    },
    {
     "data": {
      "text/html": [
       "<pre style=\"white-space:pre;overflow-x:auto;line-height:normal;font-family:Menlo,'DejaVu Sans Mono',consolas,'Courier New',monospace\">\n",
       "<span style=\"color: #008000; text-decoration-color: #008000\">The target environment has been updated successfully</span>\n",
       "\n",
       "</pre>\n"
      ],
      "text/plain": [
       "\n",
       "\u001b[32mThe target environment has been updated successfully\u001b[0m\n",
       "\n"
      ]
     },
     "metadata": {},
     "output_type": "display_data"
    },
    {
     "data": {
      "text/html": [
       "<pre style=\"white-space:pre;overflow-x:auto;line-height:normal;font-family:Menlo,'DejaVu Sans Mono',consolas,'Courier New',monospace\">\n",
       "<span style=\"color: #008000; text-decoration-color: #008000\">Virtual Update executed successfully</span>\n",
       "\n",
       "</pre>\n"
      ],
      "text/plain": [
       "\n",
       "\u001b[32mVirtual Update executed successfully\u001b[0m\n",
       "\n"
      ]
     },
     "metadata": {},
     "output_type": "display_data"
    }
   ],
   "source": [
    "%plan dev --no-prompts --auto-apply --include-unmodified"
   ]
  },
  {
   "cell_type": "code",
   "execution_count": 11,
   "id": "495225e4-1e23-4a76-87a2-881d1bb3b017",
   "metadata": {},
   "outputs": [
    {
     "data": {
      "text/html": [
       "<pre style=\"white-space:pre;overflow-x:auto;line-height:normal;font-family:Menlo,'DejaVu Sans Mono',consolas,'Courier New',monospace\"><span style=\"color: #66d9ef; text-decoration-color: #66d9ef; background-color: #272822\">SELECT</span><span style=\"background-color: #272822\">                                                                                                             </span>\n",
       "<span style=\"color: #f8f8f2; text-decoration-color: #f8f8f2; background-color: #272822\">  </span><span style=\"color: #66d9ef; text-decoration-color: #66d9ef; background-color: #272822\">CAST</span><span style=\"color: #f8f8f2; text-decoration-color: #f8f8f2; background-color: #272822\">(</span><span style=\"color: #e6db74; text-decoration-color: #e6db74; background-color: #272822\">\"waiter_revenue_by_day\"</span><span style=\"color: #f8f8f2; text-decoration-color: #f8f8f2; background-color: #272822\">.</span><span style=\"color: #e6db74; text-decoration-color: #e6db74; background-color: #272822\">\"waiter_id\"</span><span style=\"color: #f8f8f2; text-decoration-color: #f8f8f2; background-color: #272822\"> </span><span style=\"color: #66d9ef; text-decoration-color: #66d9ef; background-color: #272822\">AS</span><span style=\"color: #f8f8f2; text-decoration-color: #f8f8f2; background-color: #272822\"> INT) </span><span style=\"color: #66d9ef; text-decoration-color: #66d9ef; background-color: #272822\">AS</span><span style=\"color: #f8f8f2; text-decoration-color: #f8f8f2; background-color: #272822\"> </span><span style=\"color: #e6db74; text-decoration-color: #e6db74; background-color: #272822\">\"waiter_id\"</span><span style=\"color: #f8f8f2; text-decoration-color: #f8f8f2; background-color: #272822\">,</span><span style=\"background-color: #272822\">                                                 </span>\n",
       "<span style=\"color: #f8f8f2; text-decoration-color: #f8f8f2; background-color: #272822\">  </span><span style=\"color: #66d9ef; text-decoration-color: #66d9ef; background-color: #272822\">CAST</span><span style=\"color: #f8f8f2; text-decoration-color: #f8f8f2; background-color: #272822\">(</span><span style=\"color: #e6db74; text-decoration-color: #e6db74; background-color: #272822\">\"waiter_revenue_by_day\"</span><span style=\"color: #f8f8f2; text-decoration-color: #f8f8f2; background-color: #272822\">.</span><span style=\"color: #e6db74; text-decoration-color: #e6db74; background-color: #272822\">\"revenue\"</span><span style=\"color: #f8f8f2; text-decoration-color: #f8f8f2; background-color: #272822\"> </span><span style=\"color: #66d9ef; text-decoration-color: #66d9ef; background-color: #272822\">AS</span><span style=\"color: #f8f8f2; text-decoration-color: #f8f8f2; background-color: #272822\"> DOUBLE) </span><span style=\"color: #66d9ef; text-decoration-color: #66d9ef; background-color: #272822\">AS</span><span style=\"color: #f8f8f2; text-decoration-color: #f8f8f2; background-color: #272822\"> </span><span style=\"color: #e6db74; text-decoration-color: #e6db74; background-color: #272822\">\"revenue\"</span><span style=\"background-color: #272822\">                                                   </span>\n",
       "<span style=\"color: #66d9ef; text-decoration-color: #66d9ef; background-color: #272822\">FROM</span><span style=\"color: #f8f8f2; text-decoration-color: #f8f8f2; background-color: #272822\"> </span><span style=\"color: #e6db74; text-decoration-color: #e6db74; background-color: #272822\">\"memory\"</span><span style=\"color: #f8f8f2; text-decoration-color: #f8f8f2; background-color: #272822\">.</span><span style=\"color: #e6db74; text-decoration-color: #e6db74; background-color: #272822\">\"sqlmesh__sushi\"</span><span style=\"color: #f8f8f2; text-decoration-color: #f8f8f2; background-color: #272822\">.</span><span style=\"color: #e6db74; text-decoration-color: #e6db74; background-color: #272822\">\"sushi__waiter_revenue_by_day__2859311780\"</span><span style=\"color: #f8f8f2; text-decoration-color: #f8f8f2; background-color: #272822\"> </span><span style=\"color: #66d9ef; text-decoration-color: #66d9ef; background-color: #272822\">AS</span><span style=\"color: #f8f8f2; text-decoration-color: #f8f8f2; background-color: #272822\"> </span><span style=\"color: #e6db74; text-decoration-color: #e6db74; background-color: #272822\">\"waiter_revenue_by_day\"</span><span style=\"color: #f8f8f2; text-decoration-color: #f8f8f2; background-color: #272822\"> </span><span style=\"color: #959077; text-decoration-color: #959077; background-color: #272822\">/* </span><span style=\"background-color: #272822\">           </span>\n",
       "<span style=\"color: #959077; text-decoration-color: #959077; background-color: #272822\">memory.sushi.waiter_revenue_by_day */</span><span style=\"background-color: #272822\">                                                                              </span>\n",
       "<span style=\"color: #66d9ef; text-decoration-color: #66d9ef; background-color: #272822\">WHERE</span><span style=\"background-color: #272822\">                                                                                                              </span>\n",
       "<span style=\"color: #f8f8f2; text-decoration-color: #f8f8f2; background-color: #272822\">  </span><span style=\"color: #e6db74; text-decoration-color: #e6db74; background-color: #272822\">\"waiter_revenue_by_day\"</span><span style=\"color: #f8f8f2; text-decoration-color: #f8f8f2; background-color: #272822\">.</span><span style=\"color: #e6db74; text-decoration-color: #e6db74; background-color: #272822\">\"event_date\"</span><span style=\"color: #f8f8f2; text-decoration-color: #f8f8f2; background-color: #272822\"> </span><span style=\"color: #ff4689; text-decoration-color: #ff4689; background-color: #272822\">=</span><span style=\"color: #f8f8f2; text-decoration-color: #f8f8f2; background-color: #272822\"> (</span><span style=\"background-color: #272822\">                                                                         </span>\n",
       "<span style=\"color: #f8f8f2; text-decoration-color: #f8f8f2; background-color: #272822\">    </span><span style=\"color: #66d9ef; text-decoration-color: #66d9ef; background-color: #272822\">SELECT</span><span style=\"background-color: #272822\">                                                                                                         </span>\n",
       "<span style=\"color: #f8f8f2; text-decoration-color: #f8f8f2; background-color: #272822\">      </span><span style=\"color: #66d9ef; text-decoration-color: #66d9ef; background-color: #272822\">MAX</span><span style=\"color: #f8f8f2; text-decoration-color: #f8f8f2; background-color: #272822\">(</span><span style=\"color: #e6db74; text-decoration-color: #e6db74; background-color: #272822\">\"waiter_revenue_by_day\"</span><span style=\"color: #f8f8f2; text-decoration-color: #f8f8f2; background-color: #272822\">.</span><span style=\"color: #e6db74; text-decoration-color: #e6db74; background-color: #272822\">\"event_date\"</span><span style=\"color: #f8f8f2; text-decoration-color: #f8f8f2; background-color: #272822\">) </span><span style=\"color: #66d9ef; text-decoration-color: #66d9ef; background-color: #272822\">AS</span><span style=\"color: #f8f8f2; text-decoration-color: #f8f8f2; background-color: #272822\"> </span><span style=\"color: #e6db74; text-decoration-color: #e6db74; background-color: #272822\">\"_col_0\"</span><span style=\"background-color: #272822\">                                                        </span>\n",
       "<span style=\"color: #f8f8f2; text-decoration-color: #f8f8f2; background-color: #272822\">    </span><span style=\"color: #66d9ef; text-decoration-color: #66d9ef; background-color: #272822\">FROM</span><span style=\"color: #f8f8f2; text-decoration-color: #f8f8f2; background-color: #272822\"> </span><span style=\"color: #e6db74; text-decoration-color: #e6db74; background-color: #272822\">\"memory\"</span><span style=\"color: #f8f8f2; text-decoration-color: #f8f8f2; background-color: #272822\">.</span><span style=\"color: #e6db74; text-decoration-color: #e6db74; background-color: #272822\">\"sqlmesh__sushi\"</span><span style=\"color: #f8f8f2; text-decoration-color: #f8f8f2; background-color: #272822\">.</span><span style=\"color: #e6db74; text-decoration-color: #e6db74; background-color: #272822\">\"sushi__waiter_revenue_by_day__2859311780\"</span><span style=\"color: #f8f8f2; text-decoration-color: #f8f8f2; background-color: #272822\"> </span><span style=\"color: #66d9ef; text-decoration-color: #66d9ef; background-color: #272822\">AS</span><span style=\"color: #f8f8f2; text-decoration-color: #f8f8f2; background-color: #272822\"> </span><span style=\"color: #e6db74; text-decoration-color: #e6db74; background-color: #272822\">\"waiter_revenue_by_day\"</span><span style=\"color: #f8f8f2; text-decoration-color: #f8f8f2; background-color: #272822\"> </span><span style=\"color: #959077; text-decoration-color: #959077; background-color: #272822\">/* </span><span style=\"background-color: #272822\">       </span>\n",
       "<span style=\"color: #959077; text-decoration-color: #959077; background-color: #272822\">memory.sushi.waiter_revenue_by_day */</span><span style=\"background-color: #272822\">                                                                              </span>\n",
       "<span style=\"color: #f8f8f2; text-decoration-color: #f8f8f2; background-color: #272822\">  )</span><span style=\"background-color: #272822\">                                                                                                                </span>\n",
       "<span style=\"color: #66d9ef; text-decoration-color: #66d9ef; background-color: #272822\">ORDER</span><span style=\"color: #f8f8f2; text-decoration-color: #f8f8f2; background-color: #272822\"> </span><span style=\"color: #66d9ef; text-decoration-color: #66d9ef; background-color: #272822\">BY</span><span style=\"background-color: #272822\">                                                                                                           </span>\n",
       "<span style=\"color: #f8f8f2; text-decoration-color: #f8f8f2; background-color: #272822\">  </span><span style=\"color: #e6db74; text-decoration-color: #e6db74; background-color: #272822\">\"revenue\"</span><span style=\"color: #f8f8f2; text-decoration-color: #f8f8f2; background-color: #272822\"> </span><span style=\"color: #66d9ef; text-decoration-color: #66d9ef; background-color: #272822\">DESC</span><span style=\"background-color: #272822\">                                                                                                   </span>\n",
       "<span style=\"color: #66d9ef; text-decoration-color: #66d9ef; background-color: #272822\">LIMIT</span><span style=\"color: #f8f8f2; text-decoration-color: #f8f8f2; background-color: #272822\"> </span><span style=\"color: #ae81ff; text-decoration-color: #ae81ff; background-color: #272822\">10</span><span style=\"background-color: #272822\">                                                                                                           </span>\n",
       "</pre>\n"
      ],
      "text/plain": [
       "\u001b[38;2;102;217;239;48;2;39;40;34mSELECT\u001b[0m\u001b[48;2;39;40;34m                                                                                                             \u001b[0m\n",
       "\u001b[38;2;248;248;242;48;2;39;40;34m  \u001b[0m\u001b[38;2;102;217;239;48;2;39;40;34mCAST\u001b[0m\u001b[38;2;248;248;242;48;2;39;40;34m(\u001b[0m\u001b[38;2;230;219;116;48;2;39;40;34m\"waiter_revenue_by_day\"\u001b[0m\u001b[38;2;248;248;242;48;2;39;40;34m.\u001b[0m\u001b[38;2;230;219;116;48;2;39;40;34m\"waiter_id\"\u001b[0m\u001b[38;2;248;248;242;48;2;39;40;34m \u001b[0m\u001b[38;2;102;217;239;48;2;39;40;34mAS\u001b[0m\u001b[38;2;248;248;242;48;2;39;40;34m \u001b[0m\u001b[38;2;248;248;242;48;2;39;40;34mINT\u001b[0m\u001b[38;2;248;248;242;48;2;39;40;34m)\u001b[0m\u001b[38;2;248;248;242;48;2;39;40;34m \u001b[0m\u001b[38;2;102;217;239;48;2;39;40;34mAS\u001b[0m\u001b[38;2;248;248;242;48;2;39;40;34m \u001b[0m\u001b[38;2;230;219;116;48;2;39;40;34m\"waiter_id\"\u001b[0m\u001b[38;2;248;248;242;48;2;39;40;34m,\u001b[0m\u001b[48;2;39;40;34m                                                 \u001b[0m\n",
       "\u001b[38;2;248;248;242;48;2;39;40;34m  \u001b[0m\u001b[38;2;102;217;239;48;2;39;40;34mCAST\u001b[0m\u001b[38;2;248;248;242;48;2;39;40;34m(\u001b[0m\u001b[38;2;230;219;116;48;2;39;40;34m\"waiter_revenue_by_day\"\u001b[0m\u001b[38;2;248;248;242;48;2;39;40;34m.\u001b[0m\u001b[38;2;230;219;116;48;2;39;40;34m\"revenue\"\u001b[0m\u001b[38;2;248;248;242;48;2;39;40;34m \u001b[0m\u001b[38;2;102;217;239;48;2;39;40;34mAS\u001b[0m\u001b[38;2;248;248;242;48;2;39;40;34m \u001b[0m\u001b[38;2;248;248;242;48;2;39;40;34mDOUBLE\u001b[0m\u001b[38;2;248;248;242;48;2;39;40;34m)\u001b[0m\u001b[38;2;248;248;242;48;2;39;40;34m \u001b[0m\u001b[38;2;102;217;239;48;2;39;40;34mAS\u001b[0m\u001b[38;2;248;248;242;48;2;39;40;34m \u001b[0m\u001b[38;2;230;219;116;48;2;39;40;34m\"revenue\"\u001b[0m\u001b[48;2;39;40;34m                                                   \u001b[0m\n",
       "\u001b[38;2;102;217;239;48;2;39;40;34mFROM\u001b[0m\u001b[38;2;248;248;242;48;2;39;40;34m \u001b[0m\u001b[38;2;230;219;116;48;2;39;40;34m\"memory\"\u001b[0m\u001b[38;2;248;248;242;48;2;39;40;34m.\u001b[0m\u001b[38;2;230;219;116;48;2;39;40;34m\"sqlmesh__sushi\"\u001b[0m\u001b[38;2;248;248;242;48;2;39;40;34m.\u001b[0m\u001b[38;2;230;219;116;48;2;39;40;34m\"sushi__waiter_revenue_by_day__2859311780\"\u001b[0m\u001b[38;2;248;248;242;48;2;39;40;34m \u001b[0m\u001b[38;2;102;217;239;48;2;39;40;34mAS\u001b[0m\u001b[38;2;248;248;242;48;2;39;40;34m \u001b[0m\u001b[38;2;230;219;116;48;2;39;40;34m\"waiter_revenue_by_day\"\u001b[0m\u001b[38;2;248;248;242;48;2;39;40;34m \u001b[0m\u001b[38;2;149;144;119;48;2;39;40;34m/*\u001b[0m\u001b[38;2;149;144;119;48;2;39;40;34m \u001b[0m\u001b[48;2;39;40;34m           \u001b[0m\n",
       "\u001b[38;2;149;144;119;48;2;39;40;34mmemory.sushi.waiter_revenue_by_day \u001b[0m\u001b[38;2;149;144;119;48;2;39;40;34m*/\u001b[0m\u001b[48;2;39;40;34m                                                                              \u001b[0m\n",
       "\u001b[38;2;102;217;239;48;2;39;40;34mWHERE\u001b[0m\u001b[48;2;39;40;34m                                                                                                              \u001b[0m\n",
       "\u001b[38;2;248;248;242;48;2;39;40;34m  \u001b[0m\u001b[38;2;230;219;116;48;2;39;40;34m\"waiter_revenue_by_day\"\u001b[0m\u001b[38;2;248;248;242;48;2;39;40;34m.\u001b[0m\u001b[38;2;230;219;116;48;2;39;40;34m\"event_date\"\u001b[0m\u001b[38;2;248;248;242;48;2;39;40;34m \u001b[0m\u001b[38;2;255;70;137;48;2;39;40;34m=\u001b[0m\u001b[38;2;248;248;242;48;2;39;40;34m \u001b[0m\u001b[38;2;248;248;242;48;2;39;40;34m(\u001b[0m\u001b[48;2;39;40;34m                                                                         \u001b[0m\n",
       "\u001b[38;2;248;248;242;48;2;39;40;34m    \u001b[0m\u001b[38;2;102;217;239;48;2;39;40;34mSELECT\u001b[0m\u001b[48;2;39;40;34m                                                                                                         \u001b[0m\n",
       "\u001b[38;2;248;248;242;48;2;39;40;34m      \u001b[0m\u001b[38;2;102;217;239;48;2;39;40;34mMAX\u001b[0m\u001b[38;2;248;248;242;48;2;39;40;34m(\u001b[0m\u001b[38;2;230;219;116;48;2;39;40;34m\"waiter_revenue_by_day\"\u001b[0m\u001b[38;2;248;248;242;48;2;39;40;34m.\u001b[0m\u001b[38;2;230;219;116;48;2;39;40;34m\"event_date\"\u001b[0m\u001b[38;2;248;248;242;48;2;39;40;34m)\u001b[0m\u001b[38;2;248;248;242;48;2;39;40;34m \u001b[0m\u001b[38;2;102;217;239;48;2;39;40;34mAS\u001b[0m\u001b[38;2;248;248;242;48;2;39;40;34m \u001b[0m\u001b[38;2;230;219;116;48;2;39;40;34m\"_col_0\"\u001b[0m\u001b[48;2;39;40;34m                                                        \u001b[0m\n",
       "\u001b[38;2;248;248;242;48;2;39;40;34m    \u001b[0m\u001b[38;2;102;217;239;48;2;39;40;34mFROM\u001b[0m\u001b[38;2;248;248;242;48;2;39;40;34m \u001b[0m\u001b[38;2;230;219;116;48;2;39;40;34m\"memory\"\u001b[0m\u001b[38;2;248;248;242;48;2;39;40;34m.\u001b[0m\u001b[38;2;230;219;116;48;2;39;40;34m\"sqlmesh__sushi\"\u001b[0m\u001b[38;2;248;248;242;48;2;39;40;34m.\u001b[0m\u001b[38;2;230;219;116;48;2;39;40;34m\"sushi__waiter_revenue_by_day__2859311780\"\u001b[0m\u001b[38;2;248;248;242;48;2;39;40;34m \u001b[0m\u001b[38;2;102;217;239;48;2;39;40;34mAS\u001b[0m\u001b[38;2;248;248;242;48;2;39;40;34m \u001b[0m\u001b[38;2;230;219;116;48;2;39;40;34m\"waiter_revenue_by_day\"\u001b[0m\u001b[38;2;248;248;242;48;2;39;40;34m \u001b[0m\u001b[38;2;149;144;119;48;2;39;40;34m/*\u001b[0m\u001b[38;2;149;144;119;48;2;39;40;34m \u001b[0m\u001b[48;2;39;40;34m       \u001b[0m\n",
       "\u001b[38;2;149;144;119;48;2;39;40;34mmemory.sushi.waiter_revenue_by_day \u001b[0m\u001b[38;2;149;144;119;48;2;39;40;34m*/\u001b[0m\u001b[48;2;39;40;34m                                                                              \u001b[0m\n",
       "\u001b[38;2;248;248;242;48;2;39;40;34m  \u001b[0m\u001b[38;2;248;248;242;48;2;39;40;34m)\u001b[0m\u001b[48;2;39;40;34m                                                                                                                \u001b[0m\n",
       "\u001b[38;2;102;217;239;48;2;39;40;34mORDER\u001b[0m\u001b[38;2;248;248;242;48;2;39;40;34m \u001b[0m\u001b[38;2;102;217;239;48;2;39;40;34mBY\u001b[0m\u001b[48;2;39;40;34m                                                                                                           \u001b[0m\n",
       "\u001b[38;2;248;248;242;48;2;39;40;34m  \u001b[0m\u001b[38;2;230;219;116;48;2;39;40;34m\"revenue\"\u001b[0m\u001b[38;2;248;248;242;48;2;39;40;34m \u001b[0m\u001b[38;2;102;217;239;48;2;39;40;34mDESC\u001b[0m\u001b[48;2;39;40;34m                                                                                                   \u001b[0m\n",
       "\u001b[38;2;102;217;239;48;2;39;40;34mLIMIT\u001b[0m\u001b[38;2;248;248;242;48;2;39;40;34m \u001b[0m\u001b[38;2;174;129;255;48;2;39;40;34m10\u001b[0m\u001b[48;2;39;40;34m                                                                                                           \u001b[0m\n"
      ]
     },
     "metadata": {},
     "output_type": "display_data"
    }
   ],
   "source": [
    "%render sushi.top_waiters"
   ]
  },
  {
   "cell_type": "code",
   "execution_count": 12,
   "id": "9e40f213-5040-4659-957e-7fd478ce4c77",
   "metadata": {},
   "outputs": [
    {
     "data": {
      "text/html": [
       "<pre style=\"white-space:pre;overflow-x:auto;line-height:normal;font-family:Menlo,'DejaVu Sans Mono',consolas,'Courier New',monospace\">SELECT\n",
       "  <span style=\"color: #800080; text-decoration-color: #800080; font-weight: bold\">CAST</span><span style=\"font-weight: bold\">(</span><span style=\"color: #008000; text-decoration-color: #008000\">\"waiter_revenue_by_day\"</span>.<span style=\"color: #008000; text-decoration-color: #008000\">\"waiter_id\"</span> AS INT<span style=\"font-weight: bold\">)</span> AS <span style=\"color: #008000; text-decoration-color: #008000\">\"waiter_id\"</span>,\n",
       "  <span style=\"color: #800080; text-decoration-color: #800080; font-weight: bold\">CAST</span><span style=\"font-weight: bold\">(</span><span style=\"color: #008000; text-decoration-color: #008000\">\"waiter_revenue_by_day\"</span>.<span style=\"color: #008000; text-decoration-color: #008000\">\"revenue\"</span> AS DOUBLE<span style=\"font-weight: bold\">)</span> AS <span style=\"color: #008000; text-decoration-color: #008000\">\"revenue\"</span>\n",
       "FROM <span style=\"color: #008000; text-decoration-color: #008000\">\"memory\"</span>.<span style=\"color: #008000; text-decoration-color: #008000\">\"sqlmesh__sushi\"</span>.<span style=\"color: #008000; text-decoration-color: #008000\">\"sushi__waiter_revenue_by_day__2859311780\"</span> AS <span style=\"color: #008000; text-decoration-color: #008000\">\"waiter_revenue_by_day\"</span> <span style=\"color: #800080; text-decoration-color: #800080\">/</span>* \n",
       "memory.sushi.waiter_revenue_by_day *<span style=\"color: #800080; text-decoration-color: #800080\">/</span>\n",
       "WHERE\n",
       "  <span style=\"color: #008000; text-decoration-color: #008000\">\"waiter_revenue_by_day\"</span>.<span style=\"color: #008000; text-decoration-color: #008000\">\"event_date\"</span> = <span style=\"font-weight: bold\">(</span>\n",
       "    SELECT\n",
       "      <span style=\"color: #800080; text-decoration-color: #800080; font-weight: bold\">MAX</span><span style=\"font-weight: bold\">(</span><span style=\"color: #008000; text-decoration-color: #008000\">\"waiter_revenue_by_day\"</span>.<span style=\"color: #008000; text-decoration-color: #008000\">\"event_date\"</span><span style=\"font-weight: bold\">)</span> AS <span style=\"color: #008000; text-decoration-color: #008000\">\"_col_0\"</span>\n",
       "    FROM <span style=\"color: #008000; text-decoration-color: #008000\">\"memory\"</span>.<span style=\"color: #008000; text-decoration-color: #008000\">\"sqlmesh__sushi\"</span>.<span style=\"color: #008000; text-decoration-color: #008000\">\"sushi__waiter_revenue_by_day__2859311780\"</span> AS <span style=\"color: #008000; text-decoration-color: #008000\">\"waiter_revenue_by_day\"</span> <span style=\"color: #800080; text-decoration-color: #800080\">/</span>* \n",
       "memory.sushi.waiter_revenue_by_day *<span style=\"color: #800080; text-decoration-color: #800080\">/</span>\n",
       "  <span style=\"font-weight: bold\">)</span>\n",
       "ORDER BY\n",
       "  <span style=\"color: #008000; text-decoration-color: #008000\">\"revenue\"</span> DESC\n",
       "LIMIT <span style=\"color: #008080; text-decoration-color: #008080; font-weight: bold\">10</span>\n",
       "</pre>\n"
      ],
      "text/plain": [
       "SELECT\n",
       "  \u001b[1;35mCAST\u001b[0m\u001b[1m(\u001b[0m\u001b[32m\"waiter_revenue_by_day\"\u001b[0m.\u001b[32m\"waiter_id\"\u001b[0m AS INT\u001b[1m)\u001b[0m AS \u001b[32m\"waiter_id\"\u001b[0m,\n",
       "  \u001b[1;35mCAST\u001b[0m\u001b[1m(\u001b[0m\u001b[32m\"waiter_revenue_by_day\"\u001b[0m.\u001b[32m\"revenue\"\u001b[0m AS DOUBLE\u001b[1m)\u001b[0m AS \u001b[32m\"revenue\"\u001b[0m\n",
       "FROM \u001b[32m\"memory\"\u001b[0m.\u001b[32m\"sqlmesh__sushi\"\u001b[0m.\u001b[32m\"sushi__waiter_revenue_by_day__2859311780\"\u001b[0m AS \u001b[32m\"waiter_revenue_by_day\"\u001b[0m \u001b[35m/\u001b[0m* \n",
       "memory.sushi.waiter_revenue_by_day *\u001b[35m/\u001b[0m\n",
       "WHERE\n",
       "  \u001b[32m\"waiter_revenue_by_day\"\u001b[0m.\u001b[32m\"event_date\"\u001b[0m = \u001b[1m(\u001b[0m\n",
       "    SELECT\n",
       "      \u001b[1;35mMAX\u001b[0m\u001b[1m(\u001b[0m\u001b[32m\"waiter_revenue_by_day\"\u001b[0m.\u001b[32m\"event_date\"\u001b[0m\u001b[1m)\u001b[0m AS \u001b[32m\"_col_0\"\u001b[0m\n",
       "    FROM \u001b[32m\"memory\"\u001b[0m.\u001b[32m\"sqlmesh__sushi\"\u001b[0m.\u001b[32m\"sushi__waiter_revenue_by_day__2859311780\"\u001b[0m AS \u001b[32m\"waiter_revenue_by_day\"\u001b[0m \u001b[35m/\u001b[0m* \n",
       "memory.sushi.waiter_revenue_by_day *\u001b[35m/\u001b[0m\n",
       "  \u001b[1m)\u001b[0m\n",
       "ORDER BY\n",
       "  \u001b[32m\"revenue\"\u001b[0m DESC\n",
       "LIMIT \u001b[1;36m10\u001b[0m\n"
      ]
     },
     "metadata": {},
     "output_type": "display_data"
    }
   ],
   "source": [
    "%render sushi.top_waiters --no-format"
   ]
  },
  {
   "cell_type": "code",
   "execution_count": 13,
   "id": "bb381515-c214-4b85-83fd-136a1c2fb525",
   "metadata": {},
   "outputs": [
    {
     "data": {
      "text/html": [
       "<div>\n",
       "<style scoped>\n",
       "    .dataframe tbody tr th:only-of-type {\n",
       "        vertical-align: middle;\n",
       "    }\n",
       "\n",
       "    .dataframe tbody tr th {\n",
       "        vertical-align: top;\n",
       "    }\n",
       "\n",
       "    .dataframe thead th {\n",
       "        text-align: right;\n",
       "    }\n",
       "</style>\n",
       "<table border=\"1\" class=\"dataframe\">\n",
       "  <thead>\n",
       "    <tr style=\"text-align: right;\">\n",
       "      <th></th>\n",
       "      <th>waiter_id</th>\n",
       "      <th>revenue</th>\n",
       "    </tr>\n",
       "  </thead>\n",
       "  <tbody>\n",
       "    <tr>\n",
       "      <th>0</th>\n",
       "      <td>4</td>\n",
       "      <td>317.39</td>\n",
       "    </tr>\n",
       "    <tr>\n",
       "      <th>1</th>\n",
       "      <td>0</td>\n",
       "      <td>273.09</td>\n",
       "    </tr>\n",
       "    <tr>\n",
       "      <th>2</th>\n",
       "      <td>2</td>\n",
       "      <td>250.84</td>\n",
       "    </tr>\n",
       "    <tr>\n",
       "      <th>3</th>\n",
       "      <td>7</td>\n",
       "      <td>155.52</td>\n",
       "    </tr>\n",
       "    <tr>\n",
       "      <th>4</th>\n",
       "      <td>5</td>\n",
       "      <td>124.39</td>\n",
       "    </tr>\n",
       "    <tr>\n",
       "      <th>5</th>\n",
       "      <td>1</td>\n",
       "      <td>60.18</td>\n",
       "    </tr>\n",
       "    <tr>\n",
       "      <th>6</th>\n",
       "      <td>9</td>\n",
       "      <td>48.86</td>\n",
       "    </tr>\n",
       "    <tr>\n",
       "      <th>7</th>\n",
       "      <td>6</td>\n",
       "      <td>21.52</td>\n",
       "    </tr>\n",
       "  </tbody>\n",
       "</table>\n",
       "</div>"
      ],
      "text/plain": [
       "   waiter_id  revenue\n",
       "0          4   317.39\n",
       "1          0   273.09\n",
       "2          2   250.84\n",
       "3          7   155.52\n",
       "4          5   124.39\n",
       "5          1    60.18\n",
       "6          9    48.86\n",
       "7          6    21.52"
      ]
     },
     "metadata": {},
     "output_type": "display_data"
    }
   ],
   "source": [
    "%evaluate sushi.top_waiters"
   ]
  },
  {
   "cell_type": "code",
   "execution_count": 14,
   "id": "9241c2a5-1ca6-42db-9219-b7fd9ae0f118",
   "metadata": {},
   "outputs": [
    {
     "data": {
      "text/plain": [
       "397"
      ]
     },
     "execution_count": 14,
     "metadata": {},
     "output_type": "execute_result"
    }
   ],
   "source": [
    "top_waiters = TARGET_MODEL_DIR / \"top_waiters.sql\"\n",
    "top_waiters.write_text(\"\"\"/* View of top waiters. */\n",
    "MODEL (\n",
    "  name sushi.top_waiters,\n",
    "  owner jen,\n",
    "  audits (\n",
    "    unique_values(columns=[waiter_id])\n",
    "  ),\n",
    "  grain waiter_id\n",
    ");\n",
    "\n",
    "SELECT\n",
    "  waiter_id::INT AS waiter_id,\n",
    "  revenue::DOUBLE AS revenue,\n",
    "  1 as new_col\n",
    "FROM sushi.waiter_revenue_by_day\n",
    "WHERE\n",
    "  event_date = (\n",
    "    SELECT\n",
    "      MAX(event_date)\n",
    "    FROM sushi.waiter_revenue_by_day\n",
    "  )\n",
    "ORDER BY\n",
    "  revenue DESC\n",
    "LIMIT 10\n",
    "\"\"\")"
   ]
  },
  {
   "cell_type": "code",
   "execution_count": 15,
   "id": "bc9cc893-5954-4195-a0bc-785244678e42",
   "metadata": {},
   "outputs": [
    {
     "data": {
      "text/html": [
       "<pre style=\"white-space:pre;overflow-x:auto;line-height:normal;font-family:Menlo,'DejaVu Sans Mono',consolas,'Courier New',monospace\"><span style=\"font-weight: bold\">Summary of differences against `prod`:</span>\n",
       "</pre>\n"
      ],
      "text/plain": [
       "\u001b[1mSummary of differences against `prod`:\u001b[0m\n"
      ]
     },
     "metadata": {},
     "output_type": "display_data"
    },
    {
     "data": {
      "text/html": [
       "<pre style=\"white-space:pre;overflow-x:auto;line-height:normal;font-family:Menlo,'DejaVu Sans Mono',consolas,'Courier New',monospace\"><span style=\"font-weight: bold\">Models:</span>\n",
       "└── <span style=\"color: #800080; text-decoration-color: #800080; font-weight: bold\">Directly Modified:</span>\n",
       "    └── <span style=\"color: #800080; text-decoration-color: #800080\">sushi.top_waiters</span>\n",
       "</pre>\n"
      ],
      "text/plain": [
       "\u001b[1mModels:\u001b[0m\n",
       "└── \u001b[1;35mDirectly Modified:\u001b[0m\n",
       "    └── \u001b[35msushi.top_waiters\u001b[0m\n"
      ]
     },
     "metadata": {},
     "output_type": "display_data"
    }
   ],
   "source": [
    "%diff prod"
   ]
  },
  {
   "cell_type": "code",
   "execution_count": 16,
   "id": "ae7ffb02-4ab1-48ca-949c-908f0129c0a6",
   "metadata": {},
   "outputs": [
    {
     "name": "stderr",
     "output_type": "stream",
     "text": [
      "/home/butch2/play/study/learn-sqlmesh/sqlmesh2/sqlmesh/core/test/definition.py:185: FutureWarning: errors='ignore' is deprecated and will raise in a future version. Use to_datetime without passing `errors` and catch exceptions explicitly instead\n",
      "  expected[col] = pd.to_datetime(expected[col], errors=\"ignore\").dt.date  # type: ignore\n"
     ]
    },
    {
     "data": {
      "application/vnd.jupyter.widget-view+json": {
       "model_id": "a7b460ca831341579acd45178c90982d",
       "version_major": 2,
       "version_minor": 0
      },
      "text/plain": [
       "HTML(value='<span style=\"font-size: 11px; font-weight: bold; font-family: Menlo,\\'DejaVu Sans Mono\\',consolas,…"
      ]
     },
     "metadata": {},
     "output_type": "display_data"
    },
    {
     "data": {
      "text/html": [
       "<pre style=\"white-space:pre;overflow-x:auto;line-height:normal;font-family:Menlo,'DejaVu Sans Mono',consolas,'Courier New',monospace\"><span style=\"font-weight: bold\">Summary of differences against `dev`:</span>\n",
       "</pre>\n"
      ],
      "text/plain": [
       "\u001b[1mSummary of differences against `dev`:\u001b[0m\n"
      ]
     },
     "metadata": {},
     "output_type": "display_data"
    },
    {
     "data": {
      "text/html": [
       "<pre style=\"white-space:pre;overflow-x:auto;line-height:normal;font-family:Menlo,'DejaVu Sans Mono',consolas,'Courier New',monospace\"><span style=\"font-weight: bold\">Models:</span>\n",
       "└── <span style=\"color: #800080; text-decoration-color: #800080; font-weight: bold\">Directly Modified:</span>\n",
       "    └── <span style=\"color: #800080; text-decoration-color: #800080\">sushi__dev.top_waiters</span>\n",
       "</pre>\n"
      ],
      "text/plain": [
       "\u001b[1mModels:\u001b[0m\n",
       "└── \u001b[1;35mDirectly Modified:\u001b[0m\n",
       "    └── \u001b[35msushi__dev.top_waiters\u001b[0m\n"
      ]
     },
     "metadata": {},
     "output_type": "display_data"
    },
    {
     "data": {
      "text/html": [
       "<pre style=\"white-space:pre;overflow-x:auto;line-height:normal;font-family:Menlo,'DejaVu Sans Mono',consolas,'Courier New',monospace\"><span style=\"color: #959077; text-decoration-color: #959077; background-color: #272822\">--- </span><span style=\"background-color: #272822\">                                                                                                               </span>\n",
       "<span style=\"background-color: #272822\">                                                                                                                   </span>\n",
       "<span style=\"color: #ff4689; text-decoration-color: #ff4689; background-color: #272822\">+++</span><span style=\"color: #f8f8f2; text-decoration-color: #f8f8f2; background-color: #272822\"> </span><span style=\"background-color: #272822\">                                                                                                               </span>\n",
       "<span style=\"background-color: #272822\">                                                                                                                   </span>\n",
       "<span style=\"color: #ff4689; text-decoration-color: #ff4689; background-color: #272822\">@@</span><span style=\"color: #f8f8f2; text-decoration-color: #f8f8f2; background-color: #272822\"> </span><span style=\"color: #ff4689; text-decoration-color: #ff4689; background-color: #272822\">-</span><span style=\"color: #ae81ff; text-decoration-color: #ae81ff; background-color: #272822\">2</span><span style=\"color: #f8f8f2; text-decoration-color: #f8f8f2; background-color: #272822\">,</span><span style=\"color: #ae81ff; text-decoration-color: #ae81ff; background-color: #272822\">14</span><span style=\"color: #f8f8f2; text-decoration-color: #f8f8f2; background-color: #272822\"> </span><span style=\"color: #ff4689; text-decoration-color: #ff4689; background-color: #272822\">+</span><span style=\"color: #ae81ff; text-decoration-color: #ae81ff; background-color: #272822\">2</span><span style=\"color: #f8f8f2; text-decoration-color: #f8f8f2; background-color: #272822\">,</span><span style=\"color: #ae81ff; text-decoration-color: #ae81ff; background-color: #272822\">13</span><span style=\"color: #f8f8f2; text-decoration-color: #f8f8f2; background-color: #272822\"> </span><span style=\"color: #ff4689; text-decoration-color: #ff4689; background-color: #272822\">@@</span><span style=\"background-color: #272822\">                                                                                                  </span>\n",
       "<span style=\"background-color: #272822\">                                                                                                                   </span>\n",
       "<span style=\"color: #f8f8f2; text-decoration-color: #f8f8f2; background-color: #272822\">   name sushi.top_waiters,</span><span style=\"background-color: #272822\">                                                                                         </span>\n",
       "<span style=\"color: #f8f8f2; text-decoration-color: #f8f8f2; background-color: #272822\">   </span><span style=\"color: #66d9ef; text-decoration-color: #66d9ef; background-color: #272822\">owner</span><span style=\"color: #f8f8f2; text-decoration-color: #f8f8f2; background-color: #272822\"> jen,</span><span style=\"background-color: #272822\">                                                                                                      </span>\n",
       "<span style=\"color: #f8f8f2; text-decoration-color: #f8f8f2; background-color: #272822\">   dialect duckdb,</span><span style=\"background-color: #272822\">                                                                                                 </span>\n",
       "<span style=\"color: #ff4689; text-decoration-color: #ff4689; background-color: #272822\">-</span><span style=\"color: #f8f8f2; text-decoration-color: #f8f8f2; background-color: #272822\">  audits (UNIQUE_VALUES(</span><span style=\"color: #e6db74; text-decoration-color: #e6db74; background-color: #272822\">'columns'</span><span style=\"color: #f8f8f2; text-decoration-color: #f8f8f2; background-color: #272822\"> </span><span style=\"color: #ff4689; text-decoration-color: #ff4689; background-color: #272822\">=</span><span style=\"color: #f8f8f2; text-decoration-color: #f8f8f2; background-color: #272822\"> (</span><span style=\"background-color: #272822\">                                                                             </span>\n",
       "<span style=\"color: #ff4689; text-decoration-color: #ff4689; background-color: #272822\">-</span><span style=\"color: #f8f8f2; text-decoration-color: #f8f8f2; background-color: #272822\">    waiter_id</span><span style=\"background-color: #272822\">                                                                                                     </span>\n",
       "<span style=\"color: #ff4689; text-decoration-color: #ff4689; background-color: #272822\">-</span><span style=\"color: #f8f8f2; text-decoration-color: #f8f8f2; background-color: #272822\">  ))),</span><span style=\"background-color: #272822\">                                                                                                            </span>\n",
       "<span style=\"color: #ff4689; text-decoration-color: #ff4689; background-color: #272822\">+</span><span style=\"color: #f8f8f2; text-decoration-color: #f8f8f2; background-color: #272822\">  audits (UNIQUE_VALUES(</span><span style=\"color: #e6db74; text-decoration-color: #e6db74; background-color: #272822\">'columns'</span><span style=\"color: #f8f8f2; text-decoration-color: #f8f8f2; background-color: #272822\"> </span><span style=\"color: #ff4689; text-decoration-color: #ff4689; background-color: #272822\">=</span><span style=\"color: #f8f8f2; text-decoration-color: #f8f8f2; background-color: #272822\"> [waiter_id])),</span><span style=\"background-color: #272822\">                                                                </span>\n",
       "<span style=\"color: #f8f8f2; text-decoration-color: #f8f8f2; background-color: #272822\">   grains (waiter_id)</span><span style=\"background-color: #272822\">                                                                                              </span>\n",
       "<span style=\"color: #f8f8f2; text-decoration-color: #f8f8f2; background-color: #272822\"> )</span><span style=\"background-color: #272822\">                                                                                                                 </span>\n",
       "<span style=\"color: #f8f8f2; text-decoration-color: #f8f8f2; background-color: #272822\"> </span><span style=\"color: #66d9ef; text-decoration-color: #66d9ef; background-color: #272822\">SELECT</span><span style=\"background-color: #272822\">                                                                                                            </span>\n",
       "<span style=\"color: #f8f8f2; text-decoration-color: #f8f8f2; background-color: #272822\">   </span><span style=\"color: #66d9ef; text-decoration-color: #66d9ef; background-color: #272822\">CAST</span><span style=\"color: #f8f8f2; text-decoration-color: #f8f8f2; background-color: #272822\">(waiter_id </span><span style=\"color: #66d9ef; text-decoration-color: #66d9ef; background-color: #272822\">AS</span><span style=\"color: #f8f8f2; text-decoration-color: #f8f8f2; background-color: #272822\"> INT) </span><span style=\"color: #66d9ef; text-decoration-color: #66d9ef; background-color: #272822\">AS</span><span style=\"color: #f8f8f2; text-decoration-color: #f8f8f2; background-color: #272822\"> waiter_id,</span><span style=\"background-color: #272822\">                                                                            </span>\n",
       "<span style=\"color: #ff4689; text-decoration-color: #ff4689; background-color: #272822\">-</span><span style=\"color: #f8f8f2; text-decoration-color: #f8f8f2; background-color: #272822\">  </span><span style=\"color: #66d9ef; text-decoration-color: #66d9ef; background-color: #272822\">CAST</span><span style=\"color: #f8f8f2; text-decoration-color: #f8f8f2; background-color: #272822\">(revenue </span><span style=\"color: #66d9ef; text-decoration-color: #66d9ef; background-color: #272822\">AS</span><span style=\"color: #f8f8f2; text-decoration-color: #f8f8f2; background-color: #272822\"> DOUBLE) </span><span style=\"color: #66d9ef; text-decoration-color: #66d9ef; background-color: #272822\">AS</span><span style=\"color: #f8f8f2; text-decoration-color: #f8f8f2; background-color: #272822\"> revenue</span><span style=\"background-color: #272822\">                                                                              </span>\n",
       "<span style=\"color: #ff4689; text-decoration-color: #ff4689; background-color: #272822\">+</span><span style=\"color: #f8f8f2; text-decoration-color: #f8f8f2; background-color: #272822\">  </span><span style=\"color: #66d9ef; text-decoration-color: #66d9ef; background-color: #272822\">CAST</span><span style=\"color: #f8f8f2; text-decoration-color: #f8f8f2; background-color: #272822\">(revenue </span><span style=\"color: #66d9ef; text-decoration-color: #66d9ef; background-color: #272822\">AS</span><span style=\"color: #f8f8f2; text-decoration-color: #f8f8f2; background-color: #272822\"> DOUBLE) </span><span style=\"color: #66d9ef; text-decoration-color: #66d9ef; background-color: #272822\">AS</span><span style=\"color: #f8f8f2; text-decoration-color: #f8f8f2; background-color: #272822\"> revenue,</span><span style=\"background-color: #272822\">                                                                             </span>\n",
       "<span style=\"color: #ff4689; text-decoration-color: #ff4689; background-color: #272822\">+</span><span style=\"color: #f8f8f2; text-decoration-color: #f8f8f2; background-color: #272822\">  </span><span style=\"color: #ae81ff; text-decoration-color: #ae81ff; background-color: #272822\">1</span><span style=\"color: #f8f8f2; text-decoration-color: #f8f8f2; background-color: #272822\"> </span><span style=\"color: #66d9ef; text-decoration-color: #66d9ef; background-color: #272822\">AS</span><span style=\"color: #f8f8f2; text-decoration-color: #f8f8f2; background-color: #272822\"> new_col</span><span style=\"background-color: #272822\">                                                                                                    </span>\n",
       "<span style=\"color: #f8f8f2; text-decoration-color: #f8f8f2; background-color: #272822\"> </span><span style=\"color: #66d9ef; text-decoration-color: #66d9ef; background-color: #272822\">FROM</span><span style=\"color: #f8f8f2; text-decoration-color: #f8f8f2; background-color: #272822\"> sushi.waiter_revenue_by_day</span><span style=\"background-color: #272822\">                                                                                  </span>\n",
       "<span style=\"color: #f8f8f2; text-decoration-color: #f8f8f2; background-color: #272822\"> </span><span style=\"color: #66d9ef; text-decoration-color: #66d9ef; background-color: #272822\">WHERE</span><span style=\"background-color: #272822\">                                                                                                             </span>\n",
       "<span style=\"color: #f8f8f2; text-decoration-color: #f8f8f2; background-color: #272822\">   event_date </span><span style=\"color: #ff4689; text-decoration-color: #ff4689; background-color: #272822\">=</span><span style=\"color: #f8f8f2; text-decoration-color: #f8f8f2; background-color: #272822\"> (</span><span style=\"background-color: #272822\">                                                                                                  </span>\n",
       "</pre>\n"
      ],
      "text/plain": [
       "\u001b[38;2;149;144;119;48;2;39;40;34m--- \u001b[0m\u001b[48;2;39;40;34m                                                                                                               \u001b[0m\n",
       "\u001b[48;2;39;40;34m                                                                                                                   \u001b[0m\n",
       "\u001b[38;2;255;70;137;48;2;39;40;34m+\u001b[0m\u001b[38;2;255;70;137;48;2;39;40;34m+\u001b[0m\u001b[38;2;255;70;137;48;2;39;40;34m+\u001b[0m\u001b[38;2;248;248;242;48;2;39;40;34m \u001b[0m\u001b[48;2;39;40;34m                                                                                                               \u001b[0m\n",
       "\u001b[48;2;39;40;34m                                                                                                                   \u001b[0m\n",
       "\u001b[38;2;255;70;137;48;2;39;40;34m@\u001b[0m\u001b[38;2;255;70;137;48;2;39;40;34m@\u001b[0m\u001b[38;2;248;248;242;48;2;39;40;34m \u001b[0m\u001b[38;2;255;70;137;48;2;39;40;34m-\u001b[0m\u001b[38;2;174;129;255;48;2;39;40;34m2\u001b[0m\u001b[38;2;248;248;242;48;2;39;40;34m,\u001b[0m\u001b[38;2;174;129;255;48;2;39;40;34m14\u001b[0m\u001b[38;2;248;248;242;48;2;39;40;34m \u001b[0m\u001b[38;2;255;70;137;48;2;39;40;34m+\u001b[0m\u001b[38;2;174;129;255;48;2;39;40;34m2\u001b[0m\u001b[38;2;248;248;242;48;2;39;40;34m,\u001b[0m\u001b[38;2;174;129;255;48;2;39;40;34m13\u001b[0m\u001b[38;2;248;248;242;48;2;39;40;34m \u001b[0m\u001b[38;2;255;70;137;48;2;39;40;34m@\u001b[0m\u001b[38;2;255;70;137;48;2;39;40;34m@\u001b[0m\u001b[48;2;39;40;34m                                                                                                  \u001b[0m\n",
       "\u001b[48;2;39;40;34m                                                                                                                   \u001b[0m\n",
       "\u001b[38;2;248;248;242;48;2;39;40;34m   \u001b[0m\u001b[38;2;248;248;242;48;2;39;40;34mname\u001b[0m\u001b[38;2;248;248;242;48;2;39;40;34m \u001b[0m\u001b[38;2;248;248;242;48;2;39;40;34msushi\u001b[0m\u001b[38;2;248;248;242;48;2;39;40;34m.\u001b[0m\u001b[38;2;248;248;242;48;2;39;40;34mtop_waiters\u001b[0m\u001b[38;2;248;248;242;48;2;39;40;34m,\u001b[0m\u001b[48;2;39;40;34m                                                                                         \u001b[0m\n",
       "\u001b[38;2;248;248;242;48;2;39;40;34m   \u001b[0m\u001b[38;2;102;217;239;48;2;39;40;34mowner\u001b[0m\u001b[38;2;248;248;242;48;2;39;40;34m \u001b[0m\u001b[38;2;248;248;242;48;2;39;40;34mjen\u001b[0m\u001b[38;2;248;248;242;48;2;39;40;34m,\u001b[0m\u001b[48;2;39;40;34m                                                                                                      \u001b[0m\n",
       "\u001b[38;2;248;248;242;48;2;39;40;34m   \u001b[0m\u001b[38;2;248;248;242;48;2;39;40;34mdialect\u001b[0m\u001b[38;2;248;248;242;48;2;39;40;34m \u001b[0m\u001b[38;2;248;248;242;48;2;39;40;34mduckdb\u001b[0m\u001b[38;2;248;248;242;48;2;39;40;34m,\u001b[0m\u001b[48;2;39;40;34m                                                                                                 \u001b[0m\n",
       "\u001b[38;2;255;70;137;48;2;39;40;34m-\u001b[0m\u001b[38;2;248;248;242;48;2;39;40;34m  \u001b[0m\u001b[38;2;248;248;242;48;2;39;40;34maudits\u001b[0m\u001b[38;2;248;248;242;48;2;39;40;34m \u001b[0m\u001b[38;2;248;248;242;48;2;39;40;34m(\u001b[0m\u001b[38;2;248;248;242;48;2;39;40;34mUNIQUE_VALUES\u001b[0m\u001b[38;2;248;248;242;48;2;39;40;34m(\u001b[0m\u001b[38;2;230;219;116;48;2;39;40;34m'columns'\u001b[0m\u001b[38;2;248;248;242;48;2;39;40;34m \u001b[0m\u001b[38;2;255;70;137;48;2;39;40;34m=\u001b[0m\u001b[38;2;248;248;242;48;2;39;40;34m \u001b[0m\u001b[38;2;248;248;242;48;2;39;40;34m(\u001b[0m\u001b[48;2;39;40;34m                                                                             \u001b[0m\n",
       "\u001b[38;2;255;70;137;48;2;39;40;34m-\u001b[0m\u001b[38;2;248;248;242;48;2;39;40;34m    \u001b[0m\u001b[38;2;248;248;242;48;2;39;40;34mwaiter_id\u001b[0m\u001b[48;2;39;40;34m                                                                                                     \u001b[0m\n",
       "\u001b[38;2;255;70;137;48;2;39;40;34m-\u001b[0m\u001b[38;2;248;248;242;48;2;39;40;34m  \u001b[0m\u001b[38;2;248;248;242;48;2;39;40;34m)\u001b[0m\u001b[38;2;248;248;242;48;2;39;40;34m)\u001b[0m\u001b[38;2;248;248;242;48;2;39;40;34m)\u001b[0m\u001b[38;2;248;248;242;48;2;39;40;34m,\u001b[0m\u001b[48;2;39;40;34m                                                                                                            \u001b[0m\n",
       "\u001b[38;2;255;70;137;48;2;39;40;34m+\u001b[0m\u001b[38;2;248;248;242;48;2;39;40;34m  \u001b[0m\u001b[38;2;248;248;242;48;2;39;40;34maudits\u001b[0m\u001b[38;2;248;248;242;48;2;39;40;34m \u001b[0m\u001b[38;2;248;248;242;48;2;39;40;34m(\u001b[0m\u001b[38;2;248;248;242;48;2;39;40;34mUNIQUE_VALUES\u001b[0m\u001b[38;2;248;248;242;48;2;39;40;34m(\u001b[0m\u001b[38;2;230;219;116;48;2;39;40;34m'columns'\u001b[0m\u001b[38;2;248;248;242;48;2;39;40;34m \u001b[0m\u001b[38;2;255;70;137;48;2;39;40;34m=\u001b[0m\u001b[38;2;248;248;242;48;2;39;40;34m \u001b[0m\u001b[38;2;248;248;242;48;2;39;40;34m[\u001b[0m\u001b[38;2;248;248;242;48;2;39;40;34mwaiter_id\u001b[0m\u001b[38;2;248;248;242;48;2;39;40;34m]\u001b[0m\u001b[38;2;248;248;242;48;2;39;40;34m)\u001b[0m\u001b[38;2;248;248;242;48;2;39;40;34m)\u001b[0m\u001b[38;2;248;248;242;48;2;39;40;34m,\u001b[0m\u001b[48;2;39;40;34m                                                                \u001b[0m\n",
       "\u001b[38;2;248;248;242;48;2;39;40;34m   \u001b[0m\u001b[38;2;248;248;242;48;2;39;40;34mgrains\u001b[0m\u001b[38;2;248;248;242;48;2;39;40;34m \u001b[0m\u001b[38;2;248;248;242;48;2;39;40;34m(\u001b[0m\u001b[38;2;248;248;242;48;2;39;40;34mwaiter_id\u001b[0m\u001b[38;2;248;248;242;48;2;39;40;34m)\u001b[0m\u001b[48;2;39;40;34m                                                                                              \u001b[0m\n",
       "\u001b[38;2;248;248;242;48;2;39;40;34m \u001b[0m\u001b[38;2;248;248;242;48;2;39;40;34m)\u001b[0m\u001b[48;2;39;40;34m                                                                                                                 \u001b[0m\n",
       "\u001b[38;2;248;248;242;48;2;39;40;34m \u001b[0m\u001b[38;2;102;217;239;48;2;39;40;34mSELECT\u001b[0m\u001b[48;2;39;40;34m                                                                                                            \u001b[0m\n",
       "\u001b[38;2;248;248;242;48;2;39;40;34m   \u001b[0m\u001b[38;2;102;217;239;48;2;39;40;34mCAST\u001b[0m\u001b[38;2;248;248;242;48;2;39;40;34m(\u001b[0m\u001b[38;2;248;248;242;48;2;39;40;34mwaiter_id\u001b[0m\u001b[38;2;248;248;242;48;2;39;40;34m \u001b[0m\u001b[38;2;102;217;239;48;2;39;40;34mAS\u001b[0m\u001b[38;2;248;248;242;48;2;39;40;34m \u001b[0m\u001b[38;2;248;248;242;48;2;39;40;34mINT\u001b[0m\u001b[38;2;248;248;242;48;2;39;40;34m)\u001b[0m\u001b[38;2;248;248;242;48;2;39;40;34m \u001b[0m\u001b[38;2;102;217;239;48;2;39;40;34mAS\u001b[0m\u001b[38;2;248;248;242;48;2;39;40;34m \u001b[0m\u001b[38;2;248;248;242;48;2;39;40;34mwaiter_id\u001b[0m\u001b[38;2;248;248;242;48;2;39;40;34m,\u001b[0m\u001b[48;2;39;40;34m                                                                            \u001b[0m\n",
       "\u001b[38;2;255;70;137;48;2;39;40;34m-\u001b[0m\u001b[38;2;248;248;242;48;2;39;40;34m  \u001b[0m\u001b[38;2;102;217;239;48;2;39;40;34mCAST\u001b[0m\u001b[38;2;248;248;242;48;2;39;40;34m(\u001b[0m\u001b[38;2;248;248;242;48;2;39;40;34mrevenue\u001b[0m\u001b[38;2;248;248;242;48;2;39;40;34m \u001b[0m\u001b[38;2;102;217;239;48;2;39;40;34mAS\u001b[0m\u001b[38;2;248;248;242;48;2;39;40;34m \u001b[0m\u001b[38;2;248;248;242;48;2;39;40;34mDOUBLE\u001b[0m\u001b[38;2;248;248;242;48;2;39;40;34m)\u001b[0m\u001b[38;2;248;248;242;48;2;39;40;34m \u001b[0m\u001b[38;2;102;217;239;48;2;39;40;34mAS\u001b[0m\u001b[38;2;248;248;242;48;2;39;40;34m \u001b[0m\u001b[38;2;248;248;242;48;2;39;40;34mrevenue\u001b[0m\u001b[48;2;39;40;34m                                                                              \u001b[0m\n",
       "\u001b[38;2;255;70;137;48;2;39;40;34m+\u001b[0m\u001b[38;2;248;248;242;48;2;39;40;34m  \u001b[0m\u001b[38;2;102;217;239;48;2;39;40;34mCAST\u001b[0m\u001b[38;2;248;248;242;48;2;39;40;34m(\u001b[0m\u001b[38;2;248;248;242;48;2;39;40;34mrevenue\u001b[0m\u001b[38;2;248;248;242;48;2;39;40;34m \u001b[0m\u001b[38;2;102;217;239;48;2;39;40;34mAS\u001b[0m\u001b[38;2;248;248;242;48;2;39;40;34m \u001b[0m\u001b[38;2;248;248;242;48;2;39;40;34mDOUBLE\u001b[0m\u001b[38;2;248;248;242;48;2;39;40;34m)\u001b[0m\u001b[38;2;248;248;242;48;2;39;40;34m \u001b[0m\u001b[38;2;102;217;239;48;2;39;40;34mAS\u001b[0m\u001b[38;2;248;248;242;48;2;39;40;34m \u001b[0m\u001b[38;2;248;248;242;48;2;39;40;34mrevenue\u001b[0m\u001b[38;2;248;248;242;48;2;39;40;34m,\u001b[0m\u001b[48;2;39;40;34m                                                                             \u001b[0m\n",
       "\u001b[38;2;255;70;137;48;2;39;40;34m+\u001b[0m\u001b[38;2;248;248;242;48;2;39;40;34m  \u001b[0m\u001b[38;2;174;129;255;48;2;39;40;34m1\u001b[0m\u001b[38;2;248;248;242;48;2;39;40;34m \u001b[0m\u001b[38;2;102;217;239;48;2;39;40;34mAS\u001b[0m\u001b[38;2;248;248;242;48;2;39;40;34m \u001b[0m\u001b[38;2;248;248;242;48;2;39;40;34mnew_col\u001b[0m\u001b[48;2;39;40;34m                                                                                                    \u001b[0m\n",
       "\u001b[38;2;248;248;242;48;2;39;40;34m \u001b[0m\u001b[38;2;102;217;239;48;2;39;40;34mFROM\u001b[0m\u001b[38;2;248;248;242;48;2;39;40;34m \u001b[0m\u001b[38;2;248;248;242;48;2;39;40;34msushi\u001b[0m\u001b[38;2;248;248;242;48;2;39;40;34m.\u001b[0m\u001b[38;2;248;248;242;48;2;39;40;34mwaiter_revenue_by_day\u001b[0m\u001b[48;2;39;40;34m                                                                                  \u001b[0m\n",
       "\u001b[38;2;248;248;242;48;2;39;40;34m \u001b[0m\u001b[38;2;102;217;239;48;2;39;40;34mWHERE\u001b[0m\u001b[48;2;39;40;34m                                                                                                             \u001b[0m\n",
       "\u001b[38;2;248;248;242;48;2;39;40;34m   \u001b[0m\u001b[38;2;248;248;242;48;2;39;40;34mevent_date\u001b[0m\u001b[38;2;248;248;242;48;2;39;40;34m \u001b[0m\u001b[38;2;255;70;137;48;2;39;40;34m=\u001b[0m\u001b[38;2;248;248;242;48;2;39;40;34m \u001b[0m\u001b[38;2;248;248;242;48;2;39;40;34m(\u001b[0m\u001b[48;2;39;40;34m                                                                                                  \u001b[0m\n"
      ]
     },
     "metadata": {},
     "output_type": "display_data"
    },
    {
     "data": {
      "text/html": [
       "<pre style=\"white-space:pre;overflow-x:auto;line-height:normal;font-family:Menlo,'DejaVu Sans Mono',consolas,'Courier New',monospace\"><span style=\"color: #800080; text-decoration-color: #800080; font-weight: bold\">Directly Modified: sushi__dev.top_waiters (Non-breaking)</span>\n",
       "</pre>\n"
      ],
      "text/plain": [
       "\u001b[1;35mDirectly Modified: sushi__dev.top_waiters (Non-breaking)\u001b[0m\n"
      ]
     },
     "metadata": {},
     "output_type": "display_data"
    },
    {
     "data": {
      "application/vnd.jupyter.widget-view+json": {
       "model_id": "fc3ef2499b7b448cbbe39ac0b858f1aa",
       "version_major": 2,
       "version_minor": 0
      },
      "text/plain": [
       "Output()"
      ]
     },
     "metadata": {},
     "output_type": "display_data"
    },
    {
     "data": {
      "text/html": [
       "<pre style=\"white-space:pre;overflow-x:auto;line-height:normal;font-family:Menlo,'DejaVu Sans Mono',consolas,'Courier New',monospace\"></pre>\n"
      ],
      "text/plain": []
     },
     "metadata": {},
     "output_type": "display_data"
    },
    {
     "data": {
      "text/html": [
       "<pre style=\"white-space:pre;overflow-x:auto;line-height:normal;font-family:Menlo,'DejaVu Sans Mono',consolas,'Courier New',monospace\">\n",
       "</pre>\n"
      ],
      "text/plain": [
       "\n"
      ]
     },
     "metadata": {},
     "output_type": "display_data"
    },
    {
     "data": {
      "text/html": [
       "<pre style=\"white-space:pre;overflow-x:auto;line-height:normal;font-family:Menlo,'DejaVu Sans Mono',consolas,'Courier New',monospace\">\n",
       "<span style=\"color: #008000; text-decoration-color: #008000\">All model versions have been created successfully</span>\n",
       "\n",
       "</pre>\n"
      ],
      "text/plain": [
       "\n",
       "\u001b[32mAll model versions have been created successfully\u001b[0m\n",
       "\n"
      ]
     },
     "metadata": {},
     "output_type": "display_data"
    },
    {
     "data": {
      "text/html": [
       "<pre style=\"white-space:pre;overflow-x:auto;line-height:normal;font-family:Menlo,'DejaVu Sans Mono',consolas,'Courier New',monospace\"></pre>\n"
      ],
      "text/plain": []
     },
     "metadata": {},
     "output_type": "display_data"
    },
    {
     "data": {
      "text/html": [
       "<pre style=\"white-space:pre;overflow-x:auto;line-height:normal;font-family:Menlo,'DejaVu Sans Mono',consolas,'Courier New',monospace\">\n",
       "<span style=\"color: #008000; text-decoration-color: #008000\">All model batches have been executed successfully</span>\n",
       "\n",
       "</pre>\n"
      ],
      "text/plain": [
       "\n",
       "\u001b[32mAll model batches have been executed successfully\u001b[0m\n",
       "\n"
      ]
     },
     "metadata": {},
     "output_type": "display_data"
    },
    {
     "data": {
      "application/vnd.jupyter.widget-view+json": {
       "model_id": "0dff80d5f2ea43d8b7b1a77cf0a21e96",
       "version_major": 2,
       "version_minor": 0
      },
      "text/plain": [
       "Output()"
      ]
     },
     "metadata": {},
     "output_type": "display_data"
    },
    {
     "data": {
      "text/html": [
       "<pre style=\"white-space:pre;overflow-x:auto;line-height:normal;font-family:Menlo,'DejaVu Sans Mono',consolas,'Courier New',monospace\"></pre>\n"
      ],
      "text/plain": []
     },
     "metadata": {},
     "output_type": "display_data"
    },
    {
     "data": {
      "text/html": [
       "<pre style=\"white-space:pre;overflow-x:auto;line-height:normal;font-family:Menlo,'DejaVu Sans Mono',consolas,'Courier New',monospace\">\n",
       "</pre>\n"
      ],
      "text/plain": [
       "\n"
      ]
     },
     "metadata": {},
     "output_type": "display_data"
    },
    {
     "data": {
      "text/html": [
       "<pre style=\"white-space:pre;overflow-x:auto;line-height:normal;font-family:Menlo,'DejaVu Sans Mono',consolas,'Courier New',monospace\">\n",
       "<span style=\"color: #008000; text-decoration-color: #008000\">The target environment has been updated successfully</span>\n",
       "\n",
       "</pre>\n"
      ],
      "text/plain": [
       "\n",
       "\u001b[32mThe target environment has been updated successfully\u001b[0m\n",
       "\n"
      ]
     },
     "metadata": {},
     "output_type": "display_data"
    }
   ],
   "source": [
    "%plan dev --no-prompts --auto-apply"
   ]
  },
  {
   "cell_type": "code",
   "execution_count": 17,
   "id": "7e6fb605-f6fd-469b-a02c-cbd5d7f662ee",
   "metadata": {},
   "outputs": [
    {
     "data": {
      "text/html": [
       "<div>\n",
       "  <div id=\"sqlglot-lineage\"></div>\n",
       "  <script type=\"text/javascript\" src=\"https://unpkg.com/vis-data@latest/peer/umd/vis-data.min.js\"></script>\n",
       "  <script type=\"text/javascript\" src=\"https://unpkg.com/vis-network@latest/peer/umd/vis-network.min.js\"></script>\n",
       "  <link rel=\"stylesheet\" type=\"text/css\" href=\"https://unpkg.com/vis-network/styles/vis-network.min.css\" />\n",
       "  <script type=\"text/javascript\">\n",
       "    var nodes = new vis.DataSet([{\"id\": \"\\\"memory\\\".\\\"sushi\\\".\\\"waiter_revenue_by_day\\\"\", \"label\": \"\\\"waiter_revenue_by_day\\\"\", \"title\": \"<span>\\\"memory\\\".\\\"sushi\\\".\\\"waiter_revenue_by_day\\\"</span>\"}, {\"id\": \"\\\"memory\\\".\\\"sushi\\\".\\\"items\\\"\", \"label\": \"\\\"items\\\"\", \"title\": \"<span>\\\"memory\\\".\\\"sushi\\\".\\\"items\\\"</span>\"}, {\"id\": \"\\\"memory\\\".\\\"sushi\\\".\\\"order_items\\\"\", \"label\": \"\\\"order_items\\\"\", \"title\": \"<span>\\\"memory\\\".\\\"sushi\\\".\\\"order_items\\\"</span>\"}, {\"id\": \"\\\"memory\\\".\\\"sushi\\\".\\\"orders\\\"\", \"label\": \"\\\"orders\\\"\", \"title\": \"<span>\\\"memory\\\".\\\"sushi\\\".\\\"orders\\\"</span>\"}, {\"id\": \"\\\"memory\\\".\\\"sushi\\\".\\\"customers\\\"\", \"label\": \"\\\"customers\\\"\", \"title\": \"<span>\\\"memory\\\".\\\"sushi\\\".\\\"customers\\\"</span>\"}, {\"id\": \"\\\"memory\\\".\\\"raw\\\".\\\"demographics\\\"\", \"label\": \"\\\"demographics\\\"\", \"title\": \"<span>\\\"memory\\\".\\\"raw\\\".\\\"demographics\\\"</span>\"}, {\"id\": \"\\\"memory\\\".\\\"sushi\\\".\\\"marketing\\\"\", \"label\": \"\\\"marketing\\\"\", \"title\": \"<span>\\\"memory\\\".\\\"sushi\\\".\\\"marketing\\\"</span>\"}, {\"id\": \"\\\"memory\\\".\\\"sushi\\\".\\\"waiter_as_customer_by_day\\\"\", \"label\": \"\\\"waiter_as_customer_by_day\\\"\", \"title\": \"<span>\\\"memory\\\".\\\"sushi\\\".\\\"waiter_as_customer_by_day\\\"</span>\"}, {\"id\": \"\\\"memory\\\".\\\"sushi\\\".\\\"waiters\\\"\", \"label\": \"\\\"waiters\\\"\", \"title\": \"<span>\\\"memory\\\".\\\"sushi\\\".\\\"waiters\\\"</span>\"}, {\"id\": \"\\\"memory\\\".\\\"sushi\\\".\\\"waiter_names\\\"\", \"label\": \"\\\"waiter_names\\\"\", \"title\": \"<span>\\\"memory\\\".\\\"sushi\\\".\\\"waiter_names\\\"</span>\"}, {\"id\": \"\\\"memory\\\".\\\"sushi\\\".\\\"raw_marketing\\\"\", \"label\": \"\\\"raw_marketing\\\"\", \"title\": \"<span>\\\"memory\\\".\\\"sushi\\\".\\\"raw_marketing\\\"</span>\"}, {\"id\": \"\\\"memory\\\".\\\"sushi\\\".\\\"customer_revenue_lifetime\\\"\", \"label\": \"\\\"customer_revenue_lifetime\\\"\", \"title\": \"<span>\\\"memory\\\".\\\"sushi\\\".\\\"customer_revenue_lifetime\\\"</span>\"}, {\"id\": \"\\\"memory\\\".\\\"sushi\\\".\\\"top_waiters\\\"\", \"label\": \"\\\"top_waiters\\\"\", \"title\": \"<span>\\\"memory\\\".\\\"sushi\\\".\\\"top_waiters\\\"</span>\"}, {\"id\": \"\\\"memory\\\".\\\"sushi\\\".\\\"customer_revenue_by_day\\\"\", \"label\": \"\\\"customer_revenue_by_day\\\"\", \"title\": \"<span>\\\"memory\\\".\\\"sushi\\\".\\\"customer_revenue_by_day\\\"</span>\"}, {\"id\": \"\\\"memory\\\".\\\"raw\\\".\\\"model1\\\"\", \"label\": \"\\\"model1\\\"\", \"title\": \"<span>\\\"memory\\\".\\\"raw\\\".\\\"model1\\\"</span>\"}, {\"id\": \"\\\"memory\\\".\\\"raw\\\".\\\"model2\\\"\", \"label\": \"\\\"model2\\\"\", \"title\": \"<span>\\\"memory\\\".\\\"raw\\\".\\\"model2\\\"</span>\"}])\n",
       "    nodes.forEach(row => row[\"title\"] = new DOMParser().parseFromString(row[\"title\"], \"text/html\").body.childNodes[0])\n",
       "\n",
       "    new vis.Network(\n",
       "        document.getElementById(\"sqlglot-lineage\"),\n",
       "        {\n",
       "            nodes: nodes,\n",
       "            edges: new vis.DataSet([{\"from\": \"\\\"memory\\\".\\\"sushi\\\".\\\"items\\\"\", \"to\": \"\\\"memory\\\".\\\"sushi\\\".\\\"waiter_revenue_by_day\\\"\"}, {\"from\": \"\\\"memory\\\".\\\"sushi\\\".\\\"order_items\\\"\", \"to\": \"\\\"memory\\\".\\\"sushi\\\".\\\"waiter_revenue_by_day\\\"\"}, {\"from\": \"\\\"memory\\\".\\\"sushi\\\".\\\"orders\\\"\", \"to\": \"\\\"memory\\\".\\\"sushi\\\".\\\"waiter_revenue_by_day\\\"\"}, {\"from\": \"\\\"memory\\\".\\\"sushi\\\".\\\"items\\\"\", \"to\": \"\\\"memory\\\".\\\"sushi\\\".\\\"order_items\\\"\"}, {\"from\": \"\\\"memory\\\".\\\"sushi\\\".\\\"orders\\\"\", \"to\": \"\\\"memory\\\".\\\"sushi\\\".\\\"order_items\\\"\"}, {\"from\": \"\\\"memory\\\".\\\"raw\\\".\\\"demographics\\\"\", \"to\": \"\\\"memory\\\".\\\"sushi\\\".\\\"customers\\\"\"}, {\"from\": \"\\\"memory\\\".\\\"sushi\\\".\\\"marketing\\\"\", \"to\": \"\\\"memory\\\".\\\"sushi\\\".\\\"customers\\\"\"}, {\"from\": \"\\\"memory\\\".\\\"sushi\\\".\\\"orders\\\"\", \"to\": \"\\\"memory\\\".\\\"sushi\\\".\\\"customers\\\"\"}, {\"from\": \"\\\"memory\\\".\\\"sushi\\\".\\\"raw_marketing\\\"\", \"to\": \"\\\"memory\\\".\\\"sushi\\\".\\\"marketing\\\"\"}, {\"from\": \"\\\"memory\\\".\\\"sushi\\\".\\\"waiters\\\"\", \"to\": \"\\\"memory\\\".\\\"sushi\\\".\\\"waiter_as_customer_by_day\\\"\"}, {\"from\": \"\\\"memory\\\".\\\"sushi\\\".\\\"waiter_names\\\"\", \"to\": \"\\\"memory\\\".\\\"sushi\\\".\\\"waiter_as_customer_by_day\\\"\"}, {\"from\": \"\\\"memory\\\".\\\"sushi\\\".\\\"customers\\\"\", \"to\": \"\\\"memory\\\".\\\"sushi\\\".\\\"waiter_as_customer_by_day\\\"\"}, {\"from\": \"\\\"memory\\\".\\\"sushi\\\".\\\"orders\\\"\", \"to\": \"\\\"memory\\\".\\\"sushi\\\".\\\"waiters\\\"\"}, {\"from\": \"\\\"memory\\\".\\\"sushi\\\".\\\"items\\\"\", \"to\": \"\\\"memory\\\".\\\"sushi\\\".\\\"customer_revenue_lifetime\\\"\"}, {\"from\": \"\\\"memory\\\".\\\"sushi\\\".\\\"order_items\\\"\", \"to\": \"\\\"memory\\\".\\\"sushi\\\".\\\"customer_revenue_lifetime\\\"\"}, {\"from\": \"\\\"memory\\\".\\\"sushi\\\".\\\"orders\\\"\", \"to\": \"\\\"memory\\\".\\\"sushi\\\".\\\"customer_revenue_lifetime\\\"\"}, {\"from\": \"\\\"memory\\\".\\\"sushi\\\".\\\"waiter_revenue_by_day\\\"\", \"to\": \"\\\"memory\\\".\\\"sushi\\\".\\\"top_waiters\\\"\"}, {\"from\": \"\\\"memory\\\".\\\"sushi\\\".\\\"items\\\"\", \"to\": \"\\\"memory\\\".\\\"sushi\\\".\\\"customer_revenue_by_day\\\"\"}, {\"from\": \"\\\"memory\\\".\\\"sushi\\\".\\\"order_items\\\"\", \"to\": \"\\\"memory\\\".\\\"sushi\\\".\\\"customer_revenue_by_day\\\"\"}, {\"from\": \"\\\"memory\\\".\\\"sushi\\\".\\\"orders\\\"\", \"to\": \"\\\"memory\\\".\\\"sushi\\\".\\\"customer_revenue_by_day\\\"\"}])\n",
       "        },\n",
       "        {\"height\": \"100%\", \"width\": \"100%\", \"layout\": {\"hierarchical\": {\"enabled\": true, \"nodeSpacing\": 200, \"sortMethod\": \"directed\"}}, \"interaction\": {}, \"physics\": {\"enabled\": false}, \"edges\": {\"arrows\": \"to\"}, \"nodes\": {\"shape\": \"box\"}},\n",
       "    )\n",
       "  </script>\n",
       "</div>"
      ],
      "text/plain": [
       "<sqlglot.lineage.GraphHTML at 0x7f7901e78cd0>"
      ]
     },
     "metadata": {},
     "output_type": "display_data"
    }
   ],
   "source": [
    "%dag"
   ]
  },
  {
   "cell_type": "code",
   "execution_count": 18,
   "id": "5daa9a5d-93d7-489c-b9ae-fc62039c3208",
   "metadata": {},
   "outputs": [
    {
     "data": {
      "text/html": [
       "<pre style=\"white-space:pre;overflow-x:auto;line-height:normal;font-family:Menlo,'DejaVu Sans Mono',consolas,'Courier New',monospace\">\n",
       "<span style=\"color: #008000; text-decoration-color: #008000\">Migration complete</span>\n",
       "\n",
       "</pre>\n"
      ],
      "text/plain": [
       "\n",
       "\u001b[32mMigration complete\u001b[0m\n",
       "\n"
      ]
     },
     "metadata": {},
     "output_type": "display_data"
    }
   ],
   "source": [
    "%migrate"
   ]
  },
  {
   "cell_type": "code",
   "execution_count": 19,
   "id": "f35db811-3874-4faf-b74e-e6cae3dbd1b9",
   "metadata": {},
   "outputs": [
    {
     "data": {
      "text/html": [
       "<pre style=\"white-space:pre;overflow-x:auto;line-height:normal;font-family:Menlo,'DejaVu Sans Mono',consolas,'Courier New',monospace\">\n",
       "<span style=\"font-weight: bold\">Schema Diff Between '</span><span style=\"color: #808000; text-decoration-color: #808000; font-weight: bold\">PROD</span><span style=\"font-weight: bold\">' and '</span><span style=\"color: #008000; text-decoration-color: #008000; font-weight: bold\">DEV</span><span style=\"font-weight: bold\">' environments for model '</span><span style=\"color: #000080; text-decoration-color: #000080; font-weight: bold\">sushi.top_waiters</span><span style=\"font-weight: bold\">':</span>\n",
       "└── <span style=\"color: #008000; text-decoration-color: #008000\">Added Columns:</span>\n",
       "    └── <span style=\"color: #008000; text-decoration-color: #008000\">new_col (INT)</span>\n",
       "</pre>\n"
      ],
      "text/plain": [
       "\n",
       "\u001b[1mSchema Diff Between '\u001b[0m\u001b[1;33mPROD\u001b[0m\u001b[1m' and '\u001b[0m\u001b[1;32mDEV\u001b[0m\u001b[1m' environments for model '\u001b[0m\u001b[1;34msushi.top_waiters\u001b[0m\u001b[1m':\u001b[0m\n",
       "└── \u001b[32mAdded Columns:\u001b[0m\n",
       "    └── \u001b[32mnew_col (INT)\u001b[0m\n"
      ]
     },
     "metadata": {},
     "output_type": "display_data"
    },
    {
     "data": {
      "text/html": [
       "<pre style=\"white-space:pre;overflow-x:auto;line-height:normal;font-family:Menlo,'DejaVu Sans Mono',consolas,'Courier New',monospace\">\n",
       "\n",
       "<span style=\"font-weight: bold\">Row Counts:</span>\n",
       "├──  <span style=\"color: #000080; text-decoration-color: #000080; font-weight: bold\">COMMON</span><span style=\"font-weight: bold\">:</span> 8 rows\n",
       "├──  <span style=\"color: #808000; text-decoration-color: #808000; font-weight: bold\">PROD ONLY</span><span style=\"font-weight: bold\">:</span> 0 rows\n",
       "└──  <span style=\"color: #008000; text-decoration-color: #008000; font-weight: bold\">DEV ONLY</span><span style=\"font-weight: bold\">:</span> 0 rows\n",
       "</pre>\n"
      ],
      "text/plain": [
       "\n",
       "\n",
       "\u001b[1mRow Counts:\u001b[0m\n",
       "├──  \u001b[1;34mCOMMON\u001b[0m\u001b[1m:\u001b[0m 8 rows\n",
       "├──  \u001b[1;33mPROD ONLY\u001b[0m\u001b[1m:\u001b[0m 0 rows\n",
       "└──  \u001b[1;32mDEV ONLY\u001b[0m\u001b[1m:\u001b[0m 0 rows\n"
      ]
     },
     "metadata": {},
     "output_type": "display_data"
    },
    {
     "data": {
      "text/html": [
       "<pre style=\"white-space:pre;overflow-x:auto;line-height:normal;font-family:Menlo,'DejaVu Sans Mono',consolas,'Courier New',monospace\">\n",
       "<span style=\"color: #000080; text-decoration-color: #000080; font-weight: bold\">COMMON ROWS</span><span style=\"font-weight: bold\"> column comparison stats:</span>\n",
       "</pre>\n"
      ],
      "text/plain": [
       "\n",
       "\u001b[1;34mCOMMON ROWS\u001b[0m\u001b[1m column comparison stats:\u001b[0m\n"
      ]
     },
     "metadata": {},
     "output_type": "display_data"
    },
    {
     "data": {
      "text/html": [
       "<pre style=\"white-space:pre;overflow-x:auto;line-height:normal;font-family:Menlo,'DejaVu Sans Mono',consolas,'Courier New',monospace\">         pct_match\n",
       "revenue      <span style=\"color: #008080; text-decoration-color: #008080; font-weight: bold\">100.0</span>\n",
       "\n",
       "</pre>\n"
      ],
      "text/plain": [
       "         pct_match\n",
       "revenue      \u001b[1;36m100.0\u001b[0m\n",
       "\n"
      ]
     },
     "metadata": {},
     "output_type": "display_data"
    }
   ],
   "source": [
    "%table_diff prod:dev --model sushi.top_waiters"
   ]
  },
  {
   "cell_type": "code",
   "execution_count": 20,
   "id": "08a3d152-19b6-47a0-8ca2-fe95cb5484c3",
   "metadata": {},
   "outputs": [
    {
     "name": "stderr",
     "output_type": "stream",
     "text": [
      "\n",
      "----------------------------------------------------------------------\n",
      "Ran 1 test in 0.000s\n",
      "\n",
      "OK\n"
     ]
    }
   ],
   "source": [
    "%run_test {TARGET_SUSHI_DIR}/tests/test_customer_revenue_by_day.yaml::test_customer_revenue_by_day"
   ]
  },
  {
   "cell_type": "code",
   "execution_count": 21,
   "id": "4ad5ed56-89cd-4eb0-a64c-ab6d26e92e9c",
   "metadata": {},
   "outputs": [
    {
     "data": {
      "text/html": [
       "<pre style=\"white-space:pre;overflow-x:auto;line-height:normal;font-family:Menlo,'DejaVu Sans Mono',consolas,'Courier New',monospace\">Found <span style=\"color: #008080; text-decoration-color: #008080; font-weight: bold\">1</span> <span style=\"color: #800080; text-decoration-color: #800080; font-weight: bold\">audit</span><span style=\"font-weight: bold\">(</span>s<span style=\"font-weight: bold\">)</span>.\n",
       "</pre>\n"
      ],
      "text/plain": [
       "Found \u001b[1;36m1\u001b[0m \u001b[1;35maudit\u001b[0m\u001b[1m(\u001b[0ms\u001b[1m)\u001b[0m.\n"
      ]
     },
     "metadata": {},
     "output_type": "display_data"
    },
    {
     "data": {
      "text/html": [
       "<pre style=\"white-space:pre;overflow-x:auto;line-height:normal;font-family:Menlo,'DejaVu Sans Mono',consolas,'Courier New',monospace\">unique_values on model sushi.top_waiters ✅ <span style=\"color: #008000; text-decoration-color: #008000\">PASS</span>.\n",
       "</pre>\n"
      ],
      "text/plain": [
       "unique_values on model sushi.top_waiters ✅ \u001b[32mPASS\u001b[0m.\n"
      ]
     },
     "metadata": {},
     "output_type": "display_data"
    },
    {
     "data": {
      "text/html": [
       "<pre style=\"white-space:pre;overflow-x:auto;line-height:normal;font-family:Menlo,'DejaVu Sans Mono',consolas,'Courier New',monospace\">\n",
       "Finished with <span style=\"color: #008080; text-decoration-color: #008080; font-weight: bold\">0</span> audit errors and <span style=\"color: #008080; text-decoration-color: #008080; font-weight: bold\">0</span> audits skipped.\n",
       "</pre>\n"
      ],
      "text/plain": [
       "\n",
       "Finished with \u001b[1;36m0\u001b[0m audit errors and \u001b[1;36m0\u001b[0m audits skipped.\n"
      ]
     },
     "metadata": {},
     "output_type": "display_data"
    },
    {
     "data": {
      "text/html": [
       "<pre style=\"white-space:pre;overflow-x:auto;line-height:normal;font-family:Menlo,'DejaVu Sans Mono',consolas,'Courier New',monospace\">Done.\n",
       "</pre>\n"
      ],
      "text/plain": [
       "Done.\n"
      ]
     },
     "metadata": {},
     "output_type": "display_data"
    }
   ],
   "source": [
    "%audit sushi.top_waiters"
   ]
  },
  {
   "cell_type": "code",
   "execution_count": 22,
   "id": "347cbe5d-e8d4-4d0f-b9c9-9b920c8df314",
   "metadata": {},
   "outputs": [
    {
     "data": {
      "text/html": [
       "<div>\n",
       "<style scoped>\n",
       "    .dataframe tbody tr th:only-of-type {\n",
       "        vertical-align: middle;\n",
       "    }\n",
       "\n",
       "    .dataframe tbody tr th {\n",
       "        vertical-align: top;\n",
       "    }\n",
       "\n",
       "    .dataframe thead th {\n",
       "        text-align: right;\n",
       "    }\n",
       "</style>\n",
       "<table border=\"1\" class=\"dataframe\">\n",
       "  <thead>\n",
       "    <tr style=\"text-align: right;\">\n",
       "      <th></th>\n",
       "      <th>1</th>\n",
       "    </tr>\n",
       "  </thead>\n",
       "  <tbody>\n",
       "    <tr>\n",
       "      <th>0</th>\n",
       "      <td>1</td>\n",
       "    </tr>\n",
       "  </tbody>\n",
       "</table>\n",
       "</div>"
      ],
      "text/plain": [
       "   1\n",
       "0  1"
      ]
     },
     "metadata": {},
     "output_type": "display_data"
    }
   ],
   "source": [
    "%%fetchdf my_result\n",
    "SELECT 1"
   ]
  },
  {
   "cell_type": "code",
   "execution_count": 23,
   "id": "14a353df-26c0-4ab6-91ec-c8bab0847c6a",
   "metadata": {},
   "outputs": [
    {
     "data": {
      "text/html": [
       "<div>\n",
       "<style scoped>\n",
       "    .dataframe tbody tr th:only-of-type {\n",
       "        vertical-align: middle;\n",
       "    }\n",
       "\n",
       "    .dataframe tbody tr th {\n",
       "        vertical-align: top;\n",
       "    }\n",
       "\n",
       "    .dataframe thead th {\n",
       "        text-align: right;\n",
       "    }\n",
       "</style>\n",
       "<table border=\"1\" class=\"dataframe\">\n",
       "  <thead>\n",
       "    <tr style=\"text-align: right;\">\n",
       "      <th></th>\n",
       "      <th>1</th>\n",
       "    </tr>\n",
       "  </thead>\n",
       "  <tbody>\n",
       "    <tr>\n",
       "      <th>0</th>\n",
       "      <td>1</td>\n",
       "    </tr>\n",
       "  </tbody>\n",
       "</table>\n",
       "</div>"
      ],
      "text/plain": [
       "   1\n",
       "0  1"
      ]
     },
     "execution_count": 23,
     "metadata": {},
     "output_type": "execute_result"
    }
   ],
   "source": [
    "my_result"
   ]
  },
  {
   "cell_type": "code",
   "execution_count": 24,
   "id": "3eaf0519-bba8-4896-8c0f-1b30d9777988",
   "metadata": {},
   "outputs": [
    {
     "data": {
      "text/html": [
       "<pre style=\"white-space:pre;overflow-x:auto;line-height:normal;font-family:Menlo,'DejaVu Sans Mono',consolas,'Courier New',monospace\">Models: <span style=\"color: #008080; text-decoration-color: #008080; font-weight: bold\">16</span>\n",
       "</pre>\n"
      ],
      "text/plain": [
       "Models: \u001b[1;36m16\u001b[0m\n"
      ]
     },
     "metadata": {},
     "output_type": "display_data"
    },
    {
     "data": {
      "text/html": [
       "<pre style=\"white-space:pre;overflow-x:auto;line-height:normal;font-family:Menlo,'DejaVu Sans Mono',consolas,'Courier New',monospace\">Macros: <span style=\"color: #008080; text-decoration-color: #008080; font-weight: bold\">3</span>\n",
       "</pre>\n"
      ],
      "text/plain": [
       "Macros: \u001b[1;36m3\u001b[0m\n"
      ]
     },
     "metadata": {},
     "output_type": "display_data"
    },
    {
     "data": {
      "text/html": [
       "<pre style=\"white-space:pre;overflow-x:auto;line-height:normal;font-family:Menlo,'DejaVu Sans Mono',consolas,'Courier New',monospace\">Data warehouse connection <span style=\"color: #008000; text-decoration-color: #008000\">succeeded</span>\n",
       "</pre>\n"
      ],
      "text/plain": [
       "Data warehouse connection \u001b[32msucceeded\u001b[0m\n"
      ]
     },
     "metadata": {},
     "output_type": "display_data"
    },
    {
     "data": {
      "text/html": [
       "<pre style=\"white-space:pre;overflow-x:auto;line-height:normal;font-family:Menlo,'DejaVu Sans Mono',consolas,'Courier New',monospace\">Test connection <span style=\"color: #008000; text-decoration-color: #008000\">succeeded</span>\n",
       "</pre>\n"
      ],
      "text/plain": [
       "Test connection \u001b[32msucceeded\u001b[0m\n"
      ]
     },
     "metadata": {},
     "output_type": "display_data"
    }
   ],
   "source": [
    "%info"
   ]
  },
  {
   "cell_type": "code",
   "execution_count": 25,
   "id": "db0cc0ee-fd63-4376-8562-d5f9eab43710",
   "metadata": {},
   "outputs": [
    {
     "data": {
      "text/html": [
       "<pre style=\"white-space:pre;overflow-x:auto;line-height:normal;font-family:Menlo,'DejaVu Sans Mono',consolas,'Courier New',monospace\">\n",
       "<span style=\"color: #008000; text-decoration-color: #008000\">Migration complete</span>\n",
       "\n",
       "</pre>\n"
      ],
      "text/plain": [
       "\n",
       "\u001b[32mMigration complete\u001b[0m\n",
       "\n"
      ]
     },
     "metadata": {},
     "output_type": "display_data"
    }
   ],
   "source": [
    "%migrate"
   ]
  },
  {
   "cell_type": "code",
   "execution_count": 26,
   "id": "7c5009e8-fa98-48de-8d40-ec274d6cd97f",
   "metadata": {},
   "outputs": [
    {
     "data": {
      "text/plain": [
       "<freezegun.api.FrozenDateTimeFactory at 0x7f790b3cbcd0>"
      ]
     },
     "execution_count": 26,
     "metadata": {},
     "output_type": "execute_result"
    }
   ],
   "source": [
    "freezer = freeze_time(\"2032-01-02 00:00:00\")\n",
    "freezer.start()"
   ]
  },
  {
   "cell_type": "code",
   "execution_count": 27,
   "id": "f35ae832-de18-4d91-96f9-955af2cd9198",
   "metadata": {},
   "outputs": [
    {
     "data": {
      "application/vnd.jupyter.widget-view+json": {
       "model_id": "f7bdcaf7b34a484f878a478207a57eea",
       "version_major": 2,
       "version_minor": 0
      },
      "text/plain": [
       "Output()"
      ]
     },
     "metadata": {},
     "output_type": "display_data"
    },
    {
     "data": {
      "text/html": [
       "<pre style=\"white-space:pre;overflow-x:auto;line-height:normal;font-family:Menlo,'DejaVu Sans Mono',consolas,'Courier New',monospace\"></pre>\n"
      ],
      "text/plain": []
     },
     "metadata": {},
     "output_type": "display_data"
    },
    {
     "data": {
      "text/html": [
       "<pre style=\"white-space:pre;overflow-x:auto;line-height:normal;font-family:Menlo,'DejaVu Sans Mono',consolas,'Courier New',monospace\">\n",
       "<span style=\"color: #008000; text-decoration-color: #008000\">All model batches have been executed successfully</span>\n",
       "\n",
       "</pre>\n"
      ],
      "text/plain": [
       "\n",
       "\u001b[32mAll model batches have been executed successfully\u001b[0m\n",
       "\n"
      ]
     },
     "metadata": {},
     "output_type": "display_data"
    },
    {
     "data": {
      "text/html": [
       "<pre style=\"white-space:pre;overflow-x:auto;line-height:normal;font-family:Menlo,'DejaVu Sans Mono',consolas,'Courier New',monospace\">\n",
       "<span style=\"color: #008000; text-decoration-color: #008000\">Run finished for environment </span><span style=\"color: #008000; text-decoration-color: #008000\">'prod'</span>\n",
       "\n",
       "</pre>\n"
      ],
      "text/plain": [
       "\n",
       "\u001b[32mRun finished for environment \u001b[0m\u001b[32m'prod'\u001b[0m\n",
       "\n"
      ]
     },
     "metadata": {},
     "output_type": "display_data"
    }
   ],
   "source": [
    "%run_dag"
   ]
  },
  {
   "cell_type": "code",
   "execution_count": 28,
   "id": "0138a5df-f136-47fd-8146-62c762ef776d",
   "metadata": {},
   "outputs": [
    {
     "data": {
      "text/html": [
       "<pre style=\"white-space:pre;overflow-x:auto;line-height:normal;font-family:Menlo,'DejaVu Sans Mono',consolas,'Courier New',monospace\">\n",
       "<span style=\"color: #008000; text-decoration-color: #008000\">Environment </span><span style=\"color: #008000; text-decoration-color: #008000\">'dev'</span><span style=\"color: #008000; text-decoration-color: #008000\"> has been invalidated.</span>\n",
       "\n",
       "</pre>\n"
      ],
      "text/plain": [
       "\n",
       "\u001b[32mEnvironment \u001b[0m\u001b[32m'dev'\u001b[0m\u001b[32m has been invalidated.\u001b[0m\n",
       "\n"
      ]
     },
     "metadata": {},
     "output_type": "display_data"
    }
   ],
   "source": [
    "%invalidate dev"
   ]
  },
  {
   "cell_type": "code",
   "execution_count": 29,
   "id": "483ca2f5-585b-4baf-8a0a-77f6aac5c31e",
   "metadata": {},
   "outputs": [],
   "source": [
    "# %context"
   ]
  },
  {
   "cell_type": "code",
   "execution_count": 30,
   "id": "04d73a18-58d3-4599-9d56-7767c4320be1",
   "metadata": {},
   "outputs": [],
   "source": [
    "import sqlmesh"
   ]
  },
  {
   "cell_type": "code",
   "execution_count": 31,
   "id": "38116170-c40c-45cb-88d1-f6198020ec76",
   "metadata": {},
   "outputs": [
    {
     "data": {
      "text/plain": [
       "\u001b[0;31mDocstring:\u001b[0m\n",
       "::\n",
       "\n",
       "  %create_test --query QUERY [QUERY ...] [--overwrite]\n",
       "                   [--var VAR [VAR ...]] [--path PATH] [--name NAME]\n",
       "                   [--include-ctes]\n",
       "                   model\n",
       "\n",
       "Generate a unit test fixture for a given model.\n",
       "\n",
       "positional arguments:\n",
       "  model\n",
       "\n",
       "options:\n",
       "  --query <QUERY [QUERY ...]>, -q <QUERY [QUERY ...]>\n",
       "                        Queries that will be used to generate data for the\n",
       "                        model's dependencies.\n",
       "  --overwrite, -o       When true, the fixture file will be overwritten in\n",
       "                        case it already exists.\n",
       "  --var <VAR [VAR ...]>, -v <VAR [VAR ...]>\n",
       "                        Key-value pairs that will define variables needed by\n",
       "                        the model.\n",
       "  --path PATH, -p PATH  The file path corresponding to the fixture, relative\n",
       "                        to the test directory. By default, the fixture will be\n",
       "                        created under the test directory and the file name\n",
       "                        will be inferred based on the test's name.\n",
       "  --name NAME, -n NAME  The name of the test that will be created. By default,\n",
       "                        it's inferred based on the model's name.\n",
       "  --include-ctes        When true, CTE fixtures will also be generated.\n",
       "\u001b[0;31mFile:\u001b[0m      ~/play/study/learn-sqlmesh/sqlmesh2/sqlmesh/magics.py"
      ]
     },
     "metadata": {},
     "output_type": "display_data"
    }
   ],
   "source": [
    "%create_test?"
   ]
  },
  {
   "cell_type": "code",
   "execution_count": 32,
   "id": "849f85f0-f116-4a33-865f-e00f7176566f",
   "metadata": {},
   "outputs": [
    {
     "data": {
      "text/plain": [
       "\u001b[0;31mDocstring:\u001b[0m List currently available magic functions.\n",
       "\u001b[0;31mFile:\u001b[0m      ~/play/study/learn-sqlmesh/sqlmesh2/.venv/lib/python3.11/site-packages/IPython/core/magics/basic.py"
      ]
     },
     "metadata": {},
     "output_type": "display_data"
    }
   ],
   "source": [
    "%lsmagic?"
   ]
  },
  {
   "cell_type": "code",
   "execution_count": 33,
   "id": "9e85f5c7-37a9-4b32-8c76-ee444a83a36b",
   "metadata": {},
   "outputs": [
    {
     "data": {
      "application/json": {
       "cell": {
        "!": "OSMagics",
        "HTML": "Other",
        "SVG": "Other",
        "bash": "Other",
        "capture": "ExecutionMagics",
        "code_wrap": "ExecutionMagics",
        "debug": "ExecutionMagics",
        "fetchdf": "SQLMeshMagics",
        "file": "Other",
        "html": "DisplayMagics",
        "javascript": "DisplayMagics",
        "js": "DisplayMagics",
        "latex": "DisplayMagics",
        "markdown": "DisplayMagics",
        "model": "SQLMeshMagics",
        "perl": "Other",
        "prun": "ExecutionMagics",
        "pypy": "Other",
        "python": "Other",
        "python2": "Other",
        "python3": "Other",
        "rewrite": "SQLMeshMagics",
        "ruby": "Other",
        "script": "ScriptMagics",
        "sh": "Other",
        "svg": "DisplayMagics",
        "sx": "OSMagics",
        "system": "OSMagics",
        "test": "SQLMeshMagics",
        "time": "ExecutionMagics",
        "timeit": "ExecutionMagics",
        "writefile": "OSMagics"
       },
       "line": {
        "alias": "OSMagics",
        "alias_magic": "BasicMagics",
        "audit": "SQLMeshMagics",
        "autoawait": "AsyncMagics",
        "autocall": "AutoMagics",
        "automagic": "AutoMagics",
        "autosave": "KernelMagics",
        "bookmark": "OSMagics",
        "cat": "Other",
        "cd": "OSMagics",
        "clean": "SQLMeshMagics",
        "clear": "KernelMagics",
        "code_wrap": "ExecutionMagics",
        "colors": "BasicMagics",
        "conda": "PackagingMagics",
        "config": "ConfigMagics",
        "connect_info": "KernelMagics",
        "context": "SQLMeshMagics",
        "cp": "Other",
        "create_external_models": "SQLMeshMagics",
        "create_test": "SQLMeshMagics",
        "dag": "SQLMeshMagics",
        "debug": "ExecutionMagics",
        "dhist": "OSMagics",
        "diff": "SQLMeshMagics",
        "dirs": "OSMagics",
        "doctest_mode": "BasicMagics",
        "ed": "Other",
        "edit": "KernelMagics",
        "env": "OSMagics",
        "evaluate": "SQLMeshMagics",
        "format": "SQLMeshMagics",
        "gui": "BasicMagics",
        "hist": "Other",
        "history": "HistoryMagics",
        "info": "SQLMeshMagics",
        "init": "SQLMeshMagics",
        "invalidate": "SQLMeshMagics",
        "killbgscripts": "ScriptMagics",
        "ldir": "Other",
        "less": "KernelMagics",
        "lf": "Other",
        "lk": "Other",
        "ll": "Other",
        "load": "CodeMagics",
        "load_ext": "ExtensionMagics",
        "loadpy": "CodeMagics",
        "logoff": "LoggingMagics",
        "logon": "LoggingMagics",
        "logstart": "LoggingMagics",
        "logstate": "LoggingMagics",
        "logstop": "LoggingMagics",
        "ls": "Other",
        "lsmagic": "BasicMagics",
        "lx": "Other",
        "macro": "ExecutionMagics",
        "magic": "BasicMagics",
        "mamba": "PackagingMagics",
        "man": "KernelMagics",
        "matplotlib": "PylabMagics",
        "micromamba": "PackagingMagics",
        "migrate": "SQLMeshMagics",
        "mkdir": "Other",
        "model": "SQLMeshMagics",
        "more": "KernelMagics",
        "mv": "Other",
        "notebook": "BasicMagics",
        "page": "BasicMagics",
        "pastebin": "CodeMagics",
        "pdb": "ExecutionMagics",
        "pdef": "NamespaceMagics",
        "pdoc": "NamespaceMagics",
        "pfile": "NamespaceMagics",
        "pinfo": "NamespaceMagics",
        "pinfo2": "NamespaceMagics",
        "pip": "PackagingMagics",
        "plan": "SQLMeshMagics",
        "popd": "OSMagics",
        "pprint": "BasicMagics",
        "precision": "BasicMagics",
        "prun": "ExecutionMagics",
        "psearch": "NamespaceMagics",
        "psource": "NamespaceMagics",
        "pushd": "OSMagics",
        "pwd": "OSMagics",
        "pycat": "OSMagics",
        "pylab": "PylabMagics",
        "qtconsole": "KernelMagics",
        "quickref": "BasicMagics",
        "recall": "HistoryMagics",
        "rehashx": "OSMagics",
        "reload_ext": "ExtensionMagics",
        "render": "SQLMeshMagics",
        "rep": "Other",
        "rerun": "HistoryMagics",
        "reset": "NamespaceMagics",
        "reset_selective": "NamespaceMagics",
        "rewrite": "SQLMeshMagics",
        "rm": "Other",
        "rmdir": "Other",
        "rollback": "SQLMeshMagics",
        "run": "ExecutionMagics",
        "run_dag": "SQLMeshMagics",
        "run_test": "SQLMeshMagics",
        "save": "CodeMagics",
        "sc": "OSMagics",
        "set_env": "OSMagics",
        "store": "StoreMagics",
        "sx": "OSMagics",
        "system": "OSMagics",
        "table_diff": "SQLMeshMagics",
        "table_name": "SQLMeshMagics",
        "tb": "ExecutionMagics",
        "test": "SQLMeshMagics",
        "time": "ExecutionMagics",
        "timeit": "ExecutionMagics",
        "unalias": "OSMagics",
        "unload_ext": "ExtensionMagics",
        "who": "NamespaceMagics",
        "who_ls": "NamespaceMagics",
        "whos": "NamespaceMagics",
        "xdel": "NamespaceMagics",
        "xmode": "BasicMagics"
       }
      },
      "text/plain": [
       "Available line magics:\n",
       "%alias  %alias_magic  %audit  %autoawait  %autocall  %automagic  %autosave  %bookmark  %cat  %cd  %clean  %clear  %code_wrap  %colors  %conda  %config  %connect_info  %context  %cp  %create_external_models  %create_test  %dag  %debug  %dhist  %diff  %dirs  %doctest_mode  %ed  %edit  %env  %evaluate  %format  %gui  %hist  %history  %info  %init  %invalidate  %killbgscripts  %ldir  %less  %lf  %lk  %ll  %load  %load_ext  %loadpy  %logoff  %logon  %logstart  %logstate  %logstop  %ls  %lsmagic  %lx  %macro  %magic  %mamba  %man  %matplotlib  %micromamba  %migrate  %mkdir  %model  %more  %mv  %notebook  %page  %pastebin  %pdb  %pdef  %pdoc  %pfile  %pinfo  %pinfo2  %pip  %plan  %popd  %pprint  %precision  %prun  %psearch  %psource  %pushd  %pwd  %pycat  %pylab  %qtconsole  %quickref  %recall  %rehashx  %reload_ext  %render  %rep  %rerun  %reset  %reset_selective  %rewrite  %rm  %rmdir  %rollback  %run  %run_dag  %run_test  %save  %sc  %set_env  %store  %sx  %system  %table_diff  %table_name  %tb  %test  %time  %timeit  %unalias  %unload_ext  %who  %who_ls  %whos  %xdel  %xmode\n",
       "\n",
       "Available cell magics:\n",
       "%%!  %%HTML  %%SVG  %%bash  %%capture  %%code_wrap  %%debug  %%fetchdf  %%file  %%html  %%javascript  %%js  %%latex  %%markdown  %%model  %%perl  %%prun  %%pypy  %%python  %%python2  %%python3  %%rewrite  %%ruby  %%script  %%sh  %%svg  %%sx  %%system  %%test  %%time  %%timeit  %%writefile\n",
       "\n",
       "Automagic is ON, % prefix IS NOT needed for line magics."
      ]
     },
     "execution_count": 33,
     "metadata": {},
     "output_type": "execute_result"
    }
   ],
   "source": [
    "%lsmagic"
   ]
  },
  {
   "cell_type": "code",
   "execution_count": 34,
   "id": "5edbfc34-9b10-48ad-b963-9ba99c70220c",
   "metadata": {},
   "outputs": [
    {
     "data": {
      "text/html": [
       "<pre style=\"white-space:pre;overflow-x:auto;line-height:normal;font-family:Menlo,'DejaVu Sans Mono',consolas,'Courier New',monospace\">\n",
       "<span style=\"color: #008000; text-decoration-color: #008000\">Model `sushi.top_waiters` updated</span>\n",
       "\n",
       "</pre>\n"
      ],
      "text/plain": [
       "\n",
       "\u001b[32mModel `sushi.top_waiters` updated\u001b[0m\n",
       "\n"
      ]
     },
     "metadata": {},
     "output_type": "display_data"
    },
    {
     "data": {
      "text/html": [
       "<pre style=\"white-space:pre;overflow-x:auto;line-height:normal;font-family:Menlo,'DejaVu Sans Mono',consolas,'Courier New',monospace\"><span style=\"color: #66d9ef; text-decoration-color: #66d9ef; background-color: #272822\">SELECT</span><span style=\"background-color: #272822\">                                                                                                             </span>\n",
       "<span style=\"color: #f8f8f2; text-decoration-color: #f8f8f2; background-color: #272822\">  </span><span style=\"color: #66d9ef; text-decoration-color: #66d9ef; background-color: #272822\">CAST</span><span style=\"color: #f8f8f2; text-decoration-color: #f8f8f2; background-color: #272822\">(</span><span style=\"color: #e6db74; text-decoration-color: #e6db74; background-color: #272822\">\"waiter_revenue_by_day\"</span><span style=\"color: #f8f8f2; text-decoration-color: #f8f8f2; background-color: #272822\">.</span><span style=\"color: #e6db74; text-decoration-color: #e6db74; background-color: #272822\">\"waiter_id\"</span><span style=\"color: #f8f8f2; text-decoration-color: #f8f8f2; background-color: #272822\"> </span><span style=\"color: #66d9ef; text-decoration-color: #66d9ef; background-color: #272822\">AS</span><span style=\"color: #f8f8f2; text-decoration-color: #f8f8f2; background-color: #272822\"> INT) </span><span style=\"color: #66d9ef; text-decoration-color: #66d9ef; background-color: #272822\">AS</span><span style=\"color: #f8f8f2; text-decoration-color: #f8f8f2; background-color: #272822\"> </span><span style=\"color: #e6db74; text-decoration-color: #e6db74; background-color: #272822\">\"waiter_id\"</span><span style=\"color: #f8f8f2; text-decoration-color: #f8f8f2; background-color: #272822\">,</span><span style=\"background-color: #272822\">                                                 </span>\n",
       "<span style=\"color: #f8f8f2; text-decoration-color: #f8f8f2; background-color: #272822\">  </span><span style=\"color: #66d9ef; text-decoration-color: #66d9ef; background-color: #272822\">CAST</span><span style=\"color: #f8f8f2; text-decoration-color: #f8f8f2; background-color: #272822\">(</span><span style=\"color: #e6db74; text-decoration-color: #e6db74; background-color: #272822\">\"waiter_revenue_by_day\"</span><span style=\"color: #f8f8f2; text-decoration-color: #f8f8f2; background-color: #272822\">.</span><span style=\"color: #e6db74; text-decoration-color: #e6db74; background-color: #272822\">\"revenue\"</span><span style=\"color: #f8f8f2; text-decoration-color: #f8f8f2; background-color: #272822\"> </span><span style=\"color: #66d9ef; text-decoration-color: #66d9ef; background-color: #272822\">AS</span><span style=\"color: #f8f8f2; text-decoration-color: #f8f8f2; background-color: #272822\"> DOUBLE) </span><span style=\"color: #66d9ef; text-decoration-color: #66d9ef; background-color: #272822\">AS</span><span style=\"color: #f8f8f2; text-decoration-color: #f8f8f2; background-color: #272822\"> </span><span style=\"color: #e6db74; text-decoration-color: #e6db74; background-color: #272822\">\"revenue\"</span><span style=\"color: #f8f8f2; text-decoration-color: #f8f8f2; background-color: #272822\">,</span><span style=\"background-color: #272822\">                                                  </span>\n",
       "<span style=\"color: #f8f8f2; text-decoration-color: #f8f8f2; background-color: #272822\">  </span><span style=\"color: #ae81ff; text-decoration-color: #ae81ff; background-color: #272822\">1</span><span style=\"color: #f8f8f2; text-decoration-color: #f8f8f2; background-color: #272822\"> </span><span style=\"color: #66d9ef; text-decoration-color: #66d9ef; background-color: #272822\">AS</span><span style=\"color: #f8f8f2; text-decoration-color: #f8f8f2; background-color: #272822\"> </span><span style=\"color: #e6db74; text-decoration-color: #e6db74; background-color: #272822\">\"new_col\"</span><span style=\"color: #f8f8f2; text-decoration-color: #f8f8f2; background-color: #272822\">,</span><span style=\"background-color: #272822\">                                                                                                  </span>\n",
       "<span style=\"color: #f8f8f2; text-decoration-color: #f8f8f2; background-color: #272822\">  </span><span style=\"color: #ae81ff; text-decoration-color: #ae81ff; background-color: #272822\">2</span><span style=\"color: #f8f8f2; text-decoration-color: #f8f8f2; background-color: #272822\"> </span><span style=\"color: #66d9ef; text-decoration-color: #66d9ef; background-color: #272822\">AS</span><span style=\"color: #f8f8f2; text-decoration-color: #f8f8f2; background-color: #272822\"> </span><span style=\"color: #e6db74; text-decoration-color: #e6db74; background-color: #272822\">\"new_col2\"</span><span style=\"background-color: #272822\">                                                                                                  </span>\n",
       "<span style=\"color: #66d9ef; text-decoration-color: #66d9ef; background-color: #272822\">FROM</span><span style=\"color: #f8f8f2; text-decoration-color: #f8f8f2; background-color: #272822\"> </span><span style=\"color: #e6db74; text-decoration-color: #e6db74; background-color: #272822\">\"memory\"</span><span style=\"color: #f8f8f2; text-decoration-color: #f8f8f2; background-color: #272822\">.</span><span style=\"color: #e6db74; text-decoration-color: #e6db74; background-color: #272822\">\"sqlmesh__sushi\"</span><span style=\"color: #f8f8f2; text-decoration-color: #f8f8f2; background-color: #272822\">.</span><span style=\"color: #e6db74; text-decoration-color: #e6db74; background-color: #272822\">\"sushi__waiter_revenue_by_day__2859311780\"</span><span style=\"color: #f8f8f2; text-decoration-color: #f8f8f2; background-color: #272822\"> </span><span style=\"color: #66d9ef; text-decoration-color: #66d9ef; background-color: #272822\">AS</span><span style=\"color: #f8f8f2; text-decoration-color: #f8f8f2; background-color: #272822\"> </span><span style=\"color: #e6db74; text-decoration-color: #e6db74; background-color: #272822\">\"waiter_revenue_by_day\"</span><span style=\"color: #f8f8f2; text-decoration-color: #f8f8f2; background-color: #272822\"> </span><span style=\"color: #959077; text-decoration-color: #959077; background-color: #272822\">/* </span><span style=\"background-color: #272822\">           </span>\n",
       "<span style=\"color: #959077; text-decoration-color: #959077; background-color: #272822\">memory.sushi.waiter_revenue_by_day */</span><span style=\"background-color: #272822\">                                                                              </span>\n",
       "<span style=\"color: #66d9ef; text-decoration-color: #66d9ef; background-color: #272822\">WHERE</span><span style=\"background-color: #272822\">                                                                                                              </span>\n",
       "<span style=\"color: #f8f8f2; text-decoration-color: #f8f8f2; background-color: #272822\">  </span><span style=\"color: #e6db74; text-decoration-color: #e6db74; background-color: #272822\">\"waiter_revenue_by_day\"</span><span style=\"color: #f8f8f2; text-decoration-color: #f8f8f2; background-color: #272822\">.</span><span style=\"color: #e6db74; text-decoration-color: #e6db74; background-color: #272822\">\"event_date\"</span><span style=\"color: #f8f8f2; text-decoration-color: #f8f8f2; background-color: #272822\"> </span><span style=\"color: #ff4689; text-decoration-color: #ff4689; background-color: #272822\">=</span><span style=\"color: #f8f8f2; text-decoration-color: #f8f8f2; background-color: #272822\"> (</span><span style=\"background-color: #272822\">                                                                         </span>\n",
       "<span style=\"color: #f8f8f2; text-decoration-color: #f8f8f2; background-color: #272822\">    </span><span style=\"color: #66d9ef; text-decoration-color: #66d9ef; background-color: #272822\">SELECT</span><span style=\"background-color: #272822\">                                                                                                         </span>\n",
       "<span style=\"color: #f8f8f2; text-decoration-color: #f8f8f2; background-color: #272822\">      </span><span style=\"color: #66d9ef; text-decoration-color: #66d9ef; background-color: #272822\">MAX</span><span style=\"color: #f8f8f2; text-decoration-color: #f8f8f2; background-color: #272822\">(</span><span style=\"color: #e6db74; text-decoration-color: #e6db74; background-color: #272822\">\"waiter_revenue_by_day\"</span><span style=\"color: #f8f8f2; text-decoration-color: #f8f8f2; background-color: #272822\">.</span><span style=\"color: #e6db74; text-decoration-color: #e6db74; background-color: #272822\">\"event_date\"</span><span style=\"color: #f8f8f2; text-decoration-color: #f8f8f2; background-color: #272822\">) </span><span style=\"color: #66d9ef; text-decoration-color: #66d9ef; background-color: #272822\">AS</span><span style=\"color: #f8f8f2; text-decoration-color: #f8f8f2; background-color: #272822\"> </span><span style=\"color: #e6db74; text-decoration-color: #e6db74; background-color: #272822\">\"_col_0\"</span><span style=\"background-color: #272822\">                                                        </span>\n",
       "<span style=\"color: #f8f8f2; text-decoration-color: #f8f8f2; background-color: #272822\">    </span><span style=\"color: #66d9ef; text-decoration-color: #66d9ef; background-color: #272822\">FROM</span><span style=\"color: #f8f8f2; text-decoration-color: #f8f8f2; background-color: #272822\"> </span><span style=\"color: #e6db74; text-decoration-color: #e6db74; background-color: #272822\">\"memory\"</span><span style=\"color: #f8f8f2; text-decoration-color: #f8f8f2; background-color: #272822\">.</span><span style=\"color: #e6db74; text-decoration-color: #e6db74; background-color: #272822\">\"sqlmesh__sushi\"</span><span style=\"color: #f8f8f2; text-decoration-color: #f8f8f2; background-color: #272822\">.</span><span style=\"color: #e6db74; text-decoration-color: #e6db74; background-color: #272822\">\"sushi__waiter_revenue_by_day__2859311780\"</span><span style=\"color: #f8f8f2; text-decoration-color: #f8f8f2; background-color: #272822\"> </span><span style=\"color: #66d9ef; text-decoration-color: #66d9ef; background-color: #272822\">AS</span><span style=\"color: #f8f8f2; text-decoration-color: #f8f8f2; background-color: #272822\"> </span><span style=\"color: #e6db74; text-decoration-color: #e6db74; background-color: #272822\">\"waiter_revenue_by_day\"</span><span style=\"color: #f8f8f2; text-decoration-color: #f8f8f2; background-color: #272822\"> </span><span style=\"color: #959077; text-decoration-color: #959077; background-color: #272822\">/* </span><span style=\"background-color: #272822\">       </span>\n",
       "<span style=\"color: #959077; text-decoration-color: #959077; background-color: #272822\">memory.sushi.waiter_revenue_by_day */</span><span style=\"background-color: #272822\">                                                                              </span>\n",
       "<span style=\"color: #f8f8f2; text-decoration-color: #f8f8f2; background-color: #272822\">  )</span><span style=\"background-color: #272822\">                                                                                                                </span>\n",
       "<span style=\"color: #66d9ef; text-decoration-color: #66d9ef; background-color: #272822\">ORDER</span><span style=\"color: #f8f8f2; text-decoration-color: #f8f8f2; background-color: #272822\"> </span><span style=\"color: #66d9ef; text-decoration-color: #66d9ef; background-color: #272822\">BY</span><span style=\"background-color: #272822\">                                                                                                           </span>\n",
       "<span style=\"color: #f8f8f2; text-decoration-color: #f8f8f2; background-color: #272822\">  </span><span style=\"color: #e6db74; text-decoration-color: #e6db74; background-color: #272822\">\"revenue\"</span><span style=\"color: #f8f8f2; text-decoration-color: #f8f8f2; background-color: #272822\"> </span><span style=\"color: #66d9ef; text-decoration-color: #66d9ef; background-color: #272822\">DESC</span><span style=\"background-color: #272822\">                                                                                                   </span>\n",
       "<span style=\"color: #66d9ef; text-decoration-color: #66d9ef; background-color: #272822\">LIMIT</span><span style=\"color: #f8f8f2; text-decoration-color: #f8f8f2; background-color: #272822\"> </span><span style=\"color: #ae81ff; text-decoration-color: #ae81ff; background-color: #272822\">100</span><span style=\"background-color: #272822\">                                                                                                          </span>\n",
       "</pre>\n"
      ],
      "text/plain": [
       "\u001b[38;2;102;217;239;48;2;39;40;34mSELECT\u001b[0m\u001b[48;2;39;40;34m                                                                                                             \u001b[0m\n",
       "\u001b[38;2;248;248;242;48;2;39;40;34m  \u001b[0m\u001b[38;2;102;217;239;48;2;39;40;34mCAST\u001b[0m\u001b[38;2;248;248;242;48;2;39;40;34m(\u001b[0m\u001b[38;2;230;219;116;48;2;39;40;34m\"waiter_revenue_by_day\"\u001b[0m\u001b[38;2;248;248;242;48;2;39;40;34m.\u001b[0m\u001b[38;2;230;219;116;48;2;39;40;34m\"waiter_id\"\u001b[0m\u001b[38;2;248;248;242;48;2;39;40;34m \u001b[0m\u001b[38;2;102;217;239;48;2;39;40;34mAS\u001b[0m\u001b[38;2;248;248;242;48;2;39;40;34m \u001b[0m\u001b[38;2;248;248;242;48;2;39;40;34mINT\u001b[0m\u001b[38;2;248;248;242;48;2;39;40;34m)\u001b[0m\u001b[38;2;248;248;242;48;2;39;40;34m \u001b[0m\u001b[38;2;102;217;239;48;2;39;40;34mAS\u001b[0m\u001b[38;2;248;248;242;48;2;39;40;34m \u001b[0m\u001b[38;2;230;219;116;48;2;39;40;34m\"waiter_id\"\u001b[0m\u001b[38;2;248;248;242;48;2;39;40;34m,\u001b[0m\u001b[48;2;39;40;34m                                                 \u001b[0m\n",
       "\u001b[38;2;248;248;242;48;2;39;40;34m  \u001b[0m\u001b[38;2;102;217;239;48;2;39;40;34mCAST\u001b[0m\u001b[38;2;248;248;242;48;2;39;40;34m(\u001b[0m\u001b[38;2;230;219;116;48;2;39;40;34m\"waiter_revenue_by_day\"\u001b[0m\u001b[38;2;248;248;242;48;2;39;40;34m.\u001b[0m\u001b[38;2;230;219;116;48;2;39;40;34m\"revenue\"\u001b[0m\u001b[38;2;248;248;242;48;2;39;40;34m \u001b[0m\u001b[38;2;102;217;239;48;2;39;40;34mAS\u001b[0m\u001b[38;2;248;248;242;48;2;39;40;34m \u001b[0m\u001b[38;2;248;248;242;48;2;39;40;34mDOUBLE\u001b[0m\u001b[38;2;248;248;242;48;2;39;40;34m)\u001b[0m\u001b[38;2;248;248;242;48;2;39;40;34m \u001b[0m\u001b[38;2;102;217;239;48;2;39;40;34mAS\u001b[0m\u001b[38;2;248;248;242;48;2;39;40;34m \u001b[0m\u001b[38;2;230;219;116;48;2;39;40;34m\"revenue\"\u001b[0m\u001b[38;2;248;248;242;48;2;39;40;34m,\u001b[0m\u001b[48;2;39;40;34m                                                  \u001b[0m\n",
       "\u001b[38;2;248;248;242;48;2;39;40;34m  \u001b[0m\u001b[38;2;174;129;255;48;2;39;40;34m1\u001b[0m\u001b[38;2;248;248;242;48;2;39;40;34m \u001b[0m\u001b[38;2;102;217;239;48;2;39;40;34mAS\u001b[0m\u001b[38;2;248;248;242;48;2;39;40;34m \u001b[0m\u001b[38;2;230;219;116;48;2;39;40;34m\"new_col\"\u001b[0m\u001b[38;2;248;248;242;48;2;39;40;34m,\u001b[0m\u001b[48;2;39;40;34m                                                                                                  \u001b[0m\n",
       "\u001b[38;2;248;248;242;48;2;39;40;34m  \u001b[0m\u001b[38;2;174;129;255;48;2;39;40;34m2\u001b[0m\u001b[38;2;248;248;242;48;2;39;40;34m \u001b[0m\u001b[38;2;102;217;239;48;2;39;40;34mAS\u001b[0m\u001b[38;2;248;248;242;48;2;39;40;34m \u001b[0m\u001b[38;2;230;219;116;48;2;39;40;34m\"new_col2\"\u001b[0m\u001b[48;2;39;40;34m                                                                                                  \u001b[0m\n",
       "\u001b[38;2;102;217;239;48;2;39;40;34mFROM\u001b[0m\u001b[38;2;248;248;242;48;2;39;40;34m \u001b[0m\u001b[38;2;230;219;116;48;2;39;40;34m\"memory\"\u001b[0m\u001b[38;2;248;248;242;48;2;39;40;34m.\u001b[0m\u001b[38;2;230;219;116;48;2;39;40;34m\"sqlmesh__sushi\"\u001b[0m\u001b[38;2;248;248;242;48;2;39;40;34m.\u001b[0m\u001b[38;2;230;219;116;48;2;39;40;34m\"sushi__waiter_revenue_by_day__2859311780\"\u001b[0m\u001b[38;2;248;248;242;48;2;39;40;34m \u001b[0m\u001b[38;2;102;217;239;48;2;39;40;34mAS\u001b[0m\u001b[38;2;248;248;242;48;2;39;40;34m \u001b[0m\u001b[38;2;230;219;116;48;2;39;40;34m\"waiter_revenue_by_day\"\u001b[0m\u001b[38;2;248;248;242;48;2;39;40;34m \u001b[0m\u001b[38;2;149;144;119;48;2;39;40;34m/*\u001b[0m\u001b[38;2;149;144;119;48;2;39;40;34m \u001b[0m\u001b[48;2;39;40;34m           \u001b[0m\n",
       "\u001b[38;2;149;144;119;48;2;39;40;34mmemory.sushi.waiter_revenue_by_day \u001b[0m\u001b[38;2;149;144;119;48;2;39;40;34m*/\u001b[0m\u001b[48;2;39;40;34m                                                                              \u001b[0m\n",
       "\u001b[38;2;102;217;239;48;2;39;40;34mWHERE\u001b[0m\u001b[48;2;39;40;34m                                                                                                              \u001b[0m\n",
       "\u001b[38;2;248;248;242;48;2;39;40;34m  \u001b[0m\u001b[38;2;230;219;116;48;2;39;40;34m\"waiter_revenue_by_day\"\u001b[0m\u001b[38;2;248;248;242;48;2;39;40;34m.\u001b[0m\u001b[38;2;230;219;116;48;2;39;40;34m\"event_date\"\u001b[0m\u001b[38;2;248;248;242;48;2;39;40;34m \u001b[0m\u001b[38;2;255;70;137;48;2;39;40;34m=\u001b[0m\u001b[38;2;248;248;242;48;2;39;40;34m \u001b[0m\u001b[38;2;248;248;242;48;2;39;40;34m(\u001b[0m\u001b[48;2;39;40;34m                                                                         \u001b[0m\n",
       "\u001b[38;2;248;248;242;48;2;39;40;34m    \u001b[0m\u001b[38;2;102;217;239;48;2;39;40;34mSELECT\u001b[0m\u001b[48;2;39;40;34m                                                                                                         \u001b[0m\n",
       "\u001b[38;2;248;248;242;48;2;39;40;34m      \u001b[0m\u001b[38;2;102;217;239;48;2;39;40;34mMAX\u001b[0m\u001b[38;2;248;248;242;48;2;39;40;34m(\u001b[0m\u001b[38;2;230;219;116;48;2;39;40;34m\"waiter_revenue_by_day\"\u001b[0m\u001b[38;2;248;248;242;48;2;39;40;34m.\u001b[0m\u001b[38;2;230;219;116;48;2;39;40;34m\"event_date\"\u001b[0m\u001b[38;2;248;248;242;48;2;39;40;34m)\u001b[0m\u001b[38;2;248;248;242;48;2;39;40;34m \u001b[0m\u001b[38;2;102;217;239;48;2;39;40;34mAS\u001b[0m\u001b[38;2;248;248;242;48;2;39;40;34m \u001b[0m\u001b[38;2;230;219;116;48;2;39;40;34m\"_col_0\"\u001b[0m\u001b[48;2;39;40;34m                                                        \u001b[0m\n",
       "\u001b[38;2;248;248;242;48;2;39;40;34m    \u001b[0m\u001b[38;2;102;217;239;48;2;39;40;34mFROM\u001b[0m\u001b[38;2;248;248;242;48;2;39;40;34m \u001b[0m\u001b[38;2;230;219;116;48;2;39;40;34m\"memory\"\u001b[0m\u001b[38;2;248;248;242;48;2;39;40;34m.\u001b[0m\u001b[38;2;230;219;116;48;2;39;40;34m\"sqlmesh__sushi\"\u001b[0m\u001b[38;2;248;248;242;48;2;39;40;34m.\u001b[0m\u001b[38;2;230;219;116;48;2;39;40;34m\"sushi__waiter_revenue_by_day__2859311780\"\u001b[0m\u001b[38;2;248;248;242;48;2;39;40;34m \u001b[0m\u001b[38;2;102;217;239;48;2;39;40;34mAS\u001b[0m\u001b[38;2;248;248;242;48;2;39;40;34m \u001b[0m\u001b[38;2;230;219;116;48;2;39;40;34m\"waiter_revenue_by_day\"\u001b[0m\u001b[38;2;248;248;242;48;2;39;40;34m \u001b[0m\u001b[38;2;149;144;119;48;2;39;40;34m/*\u001b[0m\u001b[38;2;149;144;119;48;2;39;40;34m \u001b[0m\u001b[48;2;39;40;34m       \u001b[0m\n",
       "\u001b[38;2;149;144;119;48;2;39;40;34mmemory.sushi.waiter_revenue_by_day \u001b[0m\u001b[38;2;149;144;119;48;2;39;40;34m*/\u001b[0m\u001b[48;2;39;40;34m                                                                              \u001b[0m\n",
       "\u001b[38;2;248;248;242;48;2;39;40;34m  \u001b[0m\u001b[38;2;248;248;242;48;2;39;40;34m)\u001b[0m\u001b[48;2;39;40;34m                                                                                                                \u001b[0m\n",
       "\u001b[38;2;102;217;239;48;2;39;40;34mORDER\u001b[0m\u001b[38;2;248;248;242;48;2;39;40;34m \u001b[0m\u001b[38;2;102;217;239;48;2;39;40;34mBY\u001b[0m\u001b[48;2;39;40;34m                                                                                                           \u001b[0m\n",
       "\u001b[38;2;248;248;242;48;2;39;40;34m  \u001b[0m\u001b[38;2;230;219;116;48;2;39;40;34m\"revenue\"\u001b[0m\u001b[38;2;248;248;242;48;2;39;40;34m \u001b[0m\u001b[38;2;102;217;239;48;2;39;40;34mDESC\u001b[0m\u001b[48;2;39;40;34m                                                                                                   \u001b[0m\n",
       "\u001b[38;2;102;217;239;48;2;39;40;34mLIMIT\u001b[0m\u001b[38;2;248;248;242;48;2;39;40;34m \u001b[0m\u001b[38;2;174;129;255;48;2;39;40;34m100\u001b[0m\u001b[48;2;39;40;34m                                                                                                          \u001b[0m\n"
      ]
     },
     "metadata": {},
     "output_type": "display_data"
    }
   ],
   "source": [
    "%%model sushi.top_waiters\n",
    "/* View of top waiters. */\n",
    "MODEL (\n",
    "  name sushi.top_waiters,\n",
    "  owner jen,\n",
    "  dialect duckdb,\n",
    "  audits (UNIQUE_VALUES('columns' = [waiter_id])),\n",
    "  grains (waiter_id)\n",
    ");\n",
    "\n",
    "SELECT\n",
    "  waiter_id::INT AS waiter_id,\n",
    "  revenue::DOUBLE AS revenue,\n",
    "  1 AS new_col,\n",
    "  2 AS new_col2\n",
    "FROM sushi.waiter_revenue_by_day\n",
    "WHERE\n",
    "  event_date = (\n",
    "    SELECT\n",
    "      MAX(event_date)\n",
    "    FROM sushi.waiter_revenue_by_day\n",
    "  )\n",
    "ORDER BY\n",
    "  revenue DESC\n",
    "LIMIT 100"
   ]
  },
  {
   "cell_type": "code",
   "execution_count": 36,
   "id": "5361f286-770a-4cf7-ac5e-08706637fd62",
   "metadata": {},
   "outputs": [
    {
     "data": {
      "text/html": [
       "<pre style=\"white-space:pre;overflow-x:auto;line-height:normal;font-family:Menlo,'DejaVu Sans Mono',consolas,'Courier New',monospace\">\n",
       "<span style=\"color: #008000; text-decoration-color: #008000\">Model `sushi.top_waiters` updated</span>\n",
       "\n",
       "</pre>\n"
      ],
      "text/plain": [
       "\n",
       "\u001b[32mModel `sushi.top_waiters` updated\u001b[0m\n",
       "\n"
      ]
     },
     "metadata": {},
     "output_type": "display_data"
    },
    {
     "data": {
      "text/html": [
       "<pre style=\"white-space:pre;overflow-x:auto;line-height:normal;font-family:Menlo,'DejaVu Sans Mono',consolas,'Courier New',monospace\"><span style=\"color: #66d9ef; text-decoration-color: #66d9ef; background-color: #272822\">SELECT</span><span style=\"background-color: #272822\">                                                                                                             </span>\n",
       "<span style=\"color: #f8f8f2; text-decoration-color: #f8f8f2; background-color: #272822\">  </span><span style=\"color: #66d9ef; text-decoration-color: #66d9ef; background-color: #272822\">CAST</span><span style=\"color: #f8f8f2; text-decoration-color: #f8f8f2; background-color: #272822\">(</span><span style=\"color: #e6db74; text-decoration-color: #e6db74; background-color: #272822\">\"waiter_revenue_by_day\"</span><span style=\"color: #f8f8f2; text-decoration-color: #f8f8f2; background-color: #272822\">.</span><span style=\"color: #e6db74; text-decoration-color: #e6db74; background-color: #272822\">\"waiter_id\"</span><span style=\"color: #f8f8f2; text-decoration-color: #f8f8f2; background-color: #272822\"> </span><span style=\"color: #66d9ef; text-decoration-color: #66d9ef; background-color: #272822\">AS</span><span style=\"color: #f8f8f2; text-decoration-color: #f8f8f2; background-color: #272822\"> INT) </span><span style=\"color: #66d9ef; text-decoration-color: #66d9ef; background-color: #272822\">AS</span><span style=\"color: #f8f8f2; text-decoration-color: #f8f8f2; background-color: #272822\"> </span><span style=\"color: #e6db74; text-decoration-color: #e6db74; background-color: #272822\">\"waiter_id\"</span><span style=\"color: #f8f8f2; text-decoration-color: #f8f8f2; background-color: #272822\">,</span><span style=\"background-color: #272822\">                                                 </span>\n",
       "<span style=\"color: #f8f8f2; text-decoration-color: #f8f8f2; background-color: #272822\">  </span><span style=\"color: #66d9ef; text-decoration-color: #66d9ef; background-color: #272822\">CAST</span><span style=\"color: #f8f8f2; text-decoration-color: #f8f8f2; background-color: #272822\">(</span><span style=\"color: #e6db74; text-decoration-color: #e6db74; background-color: #272822\">\"waiter_revenue_by_day\"</span><span style=\"color: #f8f8f2; text-decoration-color: #f8f8f2; background-color: #272822\">.</span><span style=\"color: #e6db74; text-decoration-color: #e6db74; background-color: #272822\">\"revenue\"</span><span style=\"color: #f8f8f2; text-decoration-color: #f8f8f2; background-color: #272822\"> </span><span style=\"color: #66d9ef; text-decoration-color: #66d9ef; background-color: #272822\">AS</span><span style=\"color: #f8f8f2; text-decoration-color: #f8f8f2; background-color: #272822\"> DOUBLE) </span><span style=\"color: #66d9ef; text-decoration-color: #66d9ef; background-color: #272822\">AS</span><span style=\"color: #f8f8f2; text-decoration-color: #f8f8f2; background-color: #272822\"> </span><span style=\"color: #e6db74; text-decoration-color: #e6db74; background-color: #272822\">\"revenue\"</span><span style=\"color: #f8f8f2; text-decoration-color: #f8f8f2; background-color: #272822\">,</span><span style=\"background-color: #272822\">                                                  </span>\n",
       "<span style=\"color: #f8f8f2; text-decoration-color: #f8f8f2; background-color: #272822\">  </span><span style=\"color: #ae81ff; text-decoration-color: #ae81ff; background-color: #272822\">1</span><span style=\"color: #f8f8f2; text-decoration-color: #f8f8f2; background-color: #272822\"> </span><span style=\"color: #66d9ef; text-decoration-color: #66d9ef; background-color: #272822\">AS</span><span style=\"color: #f8f8f2; text-decoration-color: #f8f8f2; background-color: #272822\"> </span><span style=\"color: #e6db74; text-decoration-color: #e6db74; background-color: #272822\">\"new_col\"</span><span style=\"color: #f8f8f2; text-decoration-color: #f8f8f2; background-color: #272822\">,</span><span style=\"background-color: #272822\">                                                                                                  </span>\n",
       "<span style=\"color: #f8f8f2; text-decoration-color: #f8f8f2; background-color: #272822\">  </span><span style=\"color: #ae81ff; text-decoration-color: #ae81ff; background-color: #272822\">2</span><span style=\"color: #f8f8f2; text-decoration-color: #f8f8f2; background-color: #272822\"> </span><span style=\"color: #66d9ef; text-decoration-color: #66d9ef; background-color: #272822\">AS</span><span style=\"color: #f8f8f2; text-decoration-color: #f8f8f2; background-color: #272822\"> </span><span style=\"color: #e6db74; text-decoration-color: #e6db74; background-color: #272822\">\"new_col2\"</span><span style=\"color: #f8f8f2; text-decoration-color: #f8f8f2; background-color: #272822\">,</span><span style=\"background-color: #272822\">                                                                                                 </span>\n",
       "<span style=\"color: #f8f8f2; text-decoration-color: #f8f8f2; background-color: #272822\">  </span><span style=\"color: #ae81ff; text-decoration-color: #ae81ff; background-color: #272822\">3</span><span style=\"color: #f8f8f2; text-decoration-color: #f8f8f2; background-color: #272822\"> </span><span style=\"color: #66d9ef; text-decoration-color: #66d9ef; background-color: #272822\">AS</span><span style=\"color: #f8f8f2; text-decoration-color: #f8f8f2; background-color: #272822\"> </span><span style=\"color: #e6db74; text-decoration-color: #e6db74; background-color: #272822\">\"new_col3\"</span><span style=\"background-color: #272822\">                                                                                                  </span>\n",
       "<span style=\"color: #66d9ef; text-decoration-color: #66d9ef; background-color: #272822\">FROM</span><span style=\"color: #f8f8f2; text-decoration-color: #f8f8f2; background-color: #272822\"> </span><span style=\"color: #e6db74; text-decoration-color: #e6db74; background-color: #272822\">\"memory\"</span><span style=\"color: #f8f8f2; text-decoration-color: #f8f8f2; background-color: #272822\">.</span><span style=\"color: #e6db74; text-decoration-color: #e6db74; background-color: #272822\">\"sqlmesh__sushi\"</span><span style=\"color: #f8f8f2; text-decoration-color: #f8f8f2; background-color: #272822\">.</span><span style=\"color: #e6db74; text-decoration-color: #e6db74; background-color: #272822\">\"sushi__waiter_revenue_by_day__2859311780\"</span><span style=\"color: #f8f8f2; text-decoration-color: #f8f8f2; background-color: #272822\"> </span><span style=\"color: #66d9ef; text-decoration-color: #66d9ef; background-color: #272822\">AS</span><span style=\"color: #f8f8f2; text-decoration-color: #f8f8f2; background-color: #272822\"> </span><span style=\"color: #e6db74; text-decoration-color: #e6db74; background-color: #272822\">\"waiter_revenue_by_day\"</span><span style=\"color: #f8f8f2; text-decoration-color: #f8f8f2; background-color: #272822\"> </span><span style=\"color: #959077; text-decoration-color: #959077; background-color: #272822\">/* </span><span style=\"background-color: #272822\">           </span>\n",
       "<span style=\"color: #959077; text-decoration-color: #959077; background-color: #272822\">memory.sushi.waiter_revenue_by_day */</span><span style=\"background-color: #272822\">                                                                              </span>\n",
       "<span style=\"color: #66d9ef; text-decoration-color: #66d9ef; background-color: #272822\">WHERE</span><span style=\"background-color: #272822\">                                                                                                              </span>\n",
       "<span style=\"color: #f8f8f2; text-decoration-color: #f8f8f2; background-color: #272822\">  </span><span style=\"color: #e6db74; text-decoration-color: #e6db74; background-color: #272822\">\"waiter_revenue_by_day\"</span><span style=\"color: #f8f8f2; text-decoration-color: #f8f8f2; background-color: #272822\">.</span><span style=\"color: #e6db74; text-decoration-color: #e6db74; background-color: #272822\">\"event_date\"</span><span style=\"color: #f8f8f2; text-decoration-color: #f8f8f2; background-color: #272822\"> </span><span style=\"color: #ff4689; text-decoration-color: #ff4689; background-color: #272822\">=</span><span style=\"color: #f8f8f2; text-decoration-color: #f8f8f2; background-color: #272822\"> (</span><span style=\"background-color: #272822\">                                                                         </span>\n",
       "<span style=\"color: #f8f8f2; text-decoration-color: #f8f8f2; background-color: #272822\">    </span><span style=\"color: #66d9ef; text-decoration-color: #66d9ef; background-color: #272822\">SELECT</span><span style=\"background-color: #272822\">                                                                                                         </span>\n",
       "<span style=\"color: #f8f8f2; text-decoration-color: #f8f8f2; background-color: #272822\">      </span><span style=\"color: #66d9ef; text-decoration-color: #66d9ef; background-color: #272822\">MAX</span><span style=\"color: #f8f8f2; text-decoration-color: #f8f8f2; background-color: #272822\">(</span><span style=\"color: #e6db74; text-decoration-color: #e6db74; background-color: #272822\">\"waiter_revenue_by_day\"</span><span style=\"color: #f8f8f2; text-decoration-color: #f8f8f2; background-color: #272822\">.</span><span style=\"color: #e6db74; text-decoration-color: #e6db74; background-color: #272822\">\"event_date\"</span><span style=\"color: #f8f8f2; text-decoration-color: #f8f8f2; background-color: #272822\">) </span><span style=\"color: #66d9ef; text-decoration-color: #66d9ef; background-color: #272822\">AS</span><span style=\"color: #f8f8f2; text-decoration-color: #f8f8f2; background-color: #272822\"> </span><span style=\"color: #e6db74; text-decoration-color: #e6db74; background-color: #272822\">\"_col_0\"</span><span style=\"background-color: #272822\">                                                        </span>\n",
       "<span style=\"color: #f8f8f2; text-decoration-color: #f8f8f2; background-color: #272822\">    </span><span style=\"color: #66d9ef; text-decoration-color: #66d9ef; background-color: #272822\">FROM</span><span style=\"color: #f8f8f2; text-decoration-color: #f8f8f2; background-color: #272822\"> </span><span style=\"color: #e6db74; text-decoration-color: #e6db74; background-color: #272822\">\"memory\"</span><span style=\"color: #f8f8f2; text-decoration-color: #f8f8f2; background-color: #272822\">.</span><span style=\"color: #e6db74; text-decoration-color: #e6db74; background-color: #272822\">\"sqlmesh__sushi\"</span><span style=\"color: #f8f8f2; text-decoration-color: #f8f8f2; background-color: #272822\">.</span><span style=\"color: #e6db74; text-decoration-color: #e6db74; background-color: #272822\">\"sushi__waiter_revenue_by_day__2859311780\"</span><span style=\"color: #f8f8f2; text-decoration-color: #f8f8f2; background-color: #272822\"> </span><span style=\"color: #66d9ef; text-decoration-color: #66d9ef; background-color: #272822\">AS</span><span style=\"color: #f8f8f2; text-decoration-color: #f8f8f2; background-color: #272822\"> </span><span style=\"color: #e6db74; text-decoration-color: #e6db74; background-color: #272822\">\"waiter_revenue_by_day\"</span><span style=\"color: #f8f8f2; text-decoration-color: #f8f8f2; background-color: #272822\"> </span><span style=\"color: #959077; text-decoration-color: #959077; background-color: #272822\">/* </span><span style=\"background-color: #272822\">       </span>\n",
       "<span style=\"color: #959077; text-decoration-color: #959077; background-color: #272822\">memory.sushi.waiter_revenue_by_day */</span><span style=\"background-color: #272822\">                                                                              </span>\n",
       "<span style=\"color: #f8f8f2; text-decoration-color: #f8f8f2; background-color: #272822\">  )</span><span style=\"background-color: #272822\">                                                                                                                </span>\n",
       "<span style=\"color: #66d9ef; text-decoration-color: #66d9ef; background-color: #272822\">ORDER</span><span style=\"color: #f8f8f2; text-decoration-color: #f8f8f2; background-color: #272822\"> </span><span style=\"color: #66d9ef; text-decoration-color: #66d9ef; background-color: #272822\">BY</span><span style=\"background-color: #272822\">                                                                                                           </span>\n",
       "<span style=\"color: #f8f8f2; text-decoration-color: #f8f8f2; background-color: #272822\">  </span><span style=\"color: #e6db74; text-decoration-color: #e6db74; background-color: #272822\">\"revenue\"</span><span style=\"color: #f8f8f2; text-decoration-color: #f8f8f2; background-color: #272822\"> </span><span style=\"color: #66d9ef; text-decoration-color: #66d9ef; background-color: #272822\">DESC</span><span style=\"background-color: #272822\">                                                                                                   </span>\n",
       "<span style=\"color: #66d9ef; text-decoration-color: #66d9ef; background-color: #272822\">LIMIT</span><span style=\"color: #f8f8f2; text-decoration-color: #f8f8f2; background-color: #272822\"> </span><span style=\"color: #ae81ff; text-decoration-color: #ae81ff; background-color: #272822\">100</span><span style=\"background-color: #272822\">                                                                                                          </span>\n",
       "</pre>\n"
      ],
      "text/plain": [
       "\u001b[38;2;102;217;239;48;2;39;40;34mSELECT\u001b[0m\u001b[48;2;39;40;34m                                                                                                             \u001b[0m\n",
       "\u001b[38;2;248;248;242;48;2;39;40;34m  \u001b[0m\u001b[38;2;102;217;239;48;2;39;40;34mCAST\u001b[0m\u001b[38;2;248;248;242;48;2;39;40;34m(\u001b[0m\u001b[38;2;230;219;116;48;2;39;40;34m\"waiter_revenue_by_day\"\u001b[0m\u001b[38;2;248;248;242;48;2;39;40;34m.\u001b[0m\u001b[38;2;230;219;116;48;2;39;40;34m\"waiter_id\"\u001b[0m\u001b[38;2;248;248;242;48;2;39;40;34m \u001b[0m\u001b[38;2;102;217;239;48;2;39;40;34mAS\u001b[0m\u001b[38;2;248;248;242;48;2;39;40;34m \u001b[0m\u001b[38;2;248;248;242;48;2;39;40;34mINT\u001b[0m\u001b[38;2;248;248;242;48;2;39;40;34m)\u001b[0m\u001b[38;2;248;248;242;48;2;39;40;34m \u001b[0m\u001b[38;2;102;217;239;48;2;39;40;34mAS\u001b[0m\u001b[38;2;248;248;242;48;2;39;40;34m \u001b[0m\u001b[38;2;230;219;116;48;2;39;40;34m\"waiter_id\"\u001b[0m\u001b[38;2;248;248;242;48;2;39;40;34m,\u001b[0m\u001b[48;2;39;40;34m                                                 \u001b[0m\n",
       "\u001b[38;2;248;248;242;48;2;39;40;34m  \u001b[0m\u001b[38;2;102;217;239;48;2;39;40;34mCAST\u001b[0m\u001b[38;2;248;248;242;48;2;39;40;34m(\u001b[0m\u001b[38;2;230;219;116;48;2;39;40;34m\"waiter_revenue_by_day\"\u001b[0m\u001b[38;2;248;248;242;48;2;39;40;34m.\u001b[0m\u001b[38;2;230;219;116;48;2;39;40;34m\"revenue\"\u001b[0m\u001b[38;2;248;248;242;48;2;39;40;34m \u001b[0m\u001b[38;2;102;217;239;48;2;39;40;34mAS\u001b[0m\u001b[38;2;248;248;242;48;2;39;40;34m \u001b[0m\u001b[38;2;248;248;242;48;2;39;40;34mDOUBLE\u001b[0m\u001b[38;2;248;248;242;48;2;39;40;34m)\u001b[0m\u001b[38;2;248;248;242;48;2;39;40;34m \u001b[0m\u001b[38;2;102;217;239;48;2;39;40;34mAS\u001b[0m\u001b[38;2;248;248;242;48;2;39;40;34m \u001b[0m\u001b[38;2;230;219;116;48;2;39;40;34m\"revenue\"\u001b[0m\u001b[38;2;248;248;242;48;2;39;40;34m,\u001b[0m\u001b[48;2;39;40;34m                                                  \u001b[0m\n",
       "\u001b[38;2;248;248;242;48;2;39;40;34m  \u001b[0m\u001b[38;2;174;129;255;48;2;39;40;34m1\u001b[0m\u001b[38;2;248;248;242;48;2;39;40;34m \u001b[0m\u001b[38;2;102;217;239;48;2;39;40;34mAS\u001b[0m\u001b[38;2;248;248;242;48;2;39;40;34m \u001b[0m\u001b[38;2;230;219;116;48;2;39;40;34m\"new_col\"\u001b[0m\u001b[38;2;248;248;242;48;2;39;40;34m,\u001b[0m\u001b[48;2;39;40;34m                                                                                                  \u001b[0m\n",
       "\u001b[38;2;248;248;242;48;2;39;40;34m  \u001b[0m\u001b[38;2;174;129;255;48;2;39;40;34m2\u001b[0m\u001b[38;2;248;248;242;48;2;39;40;34m \u001b[0m\u001b[38;2;102;217;239;48;2;39;40;34mAS\u001b[0m\u001b[38;2;248;248;242;48;2;39;40;34m \u001b[0m\u001b[38;2;230;219;116;48;2;39;40;34m\"new_col2\"\u001b[0m\u001b[38;2;248;248;242;48;2;39;40;34m,\u001b[0m\u001b[48;2;39;40;34m                                                                                                 \u001b[0m\n",
       "\u001b[38;2;248;248;242;48;2;39;40;34m  \u001b[0m\u001b[38;2;174;129;255;48;2;39;40;34m3\u001b[0m\u001b[38;2;248;248;242;48;2;39;40;34m \u001b[0m\u001b[38;2;102;217;239;48;2;39;40;34mAS\u001b[0m\u001b[38;2;248;248;242;48;2;39;40;34m \u001b[0m\u001b[38;2;230;219;116;48;2;39;40;34m\"new_col3\"\u001b[0m\u001b[48;2;39;40;34m                                                                                                  \u001b[0m\n",
       "\u001b[38;2;102;217;239;48;2;39;40;34mFROM\u001b[0m\u001b[38;2;248;248;242;48;2;39;40;34m \u001b[0m\u001b[38;2;230;219;116;48;2;39;40;34m\"memory\"\u001b[0m\u001b[38;2;248;248;242;48;2;39;40;34m.\u001b[0m\u001b[38;2;230;219;116;48;2;39;40;34m\"sqlmesh__sushi\"\u001b[0m\u001b[38;2;248;248;242;48;2;39;40;34m.\u001b[0m\u001b[38;2;230;219;116;48;2;39;40;34m\"sushi__waiter_revenue_by_day__2859311780\"\u001b[0m\u001b[38;2;248;248;242;48;2;39;40;34m \u001b[0m\u001b[38;2;102;217;239;48;2;39;40;34mAS\u001b[0m\u001b[38;2;248;248;242;48;2;39;40;34m \u001b[0m\u001b[38;2;230;219;116;48;2;39;40;34m\"waiter_revenue_by_day\"\u001b[0m\u001b[38;2;248;248;242;48;2;39;40;34m \u001b[0m\u001b[38;2;149;144;119;48;2;39;40;34m/*\u001b[0m\u001b[38;2;149;144;119;48;2;39;40;34m \u001b[0m\u001b[48;2;39;40;34m           \u001b[0m\n",
       "\u001b[38;2;149;144;119;48;2;39;40;34mmemory.sushi.waiter_revenue_by_day \u001b[0m\u001b[38;2;149;144;119;48;2;39;40;34m*/\u001b[0m\u001b[48;2;39;40;34m                                                                              \u001b[0m\n",
       "\u001b[38;2;102;217;239;48;2;39;40;34mWHERE\u001b[0m\u001b[48;2;39;40;34m                                                                                                              \u001b[0m\n",
       "\u001b[38;2;248;248;242;48;2;39;40;34m  \u001b[0m\u001b[38;2;230;219;116;48;2;39;40;34m\"waiter_revenue_by_day\"\u001b[0m\u001b[38;2;248;248;242;48;2;39;40;34m.\u001b[0m\u001b[38;2;230;219;116;48;2;39;40;34m\"event_date\"\u001b[0m\u001b[38;2;248;248;242;48;2;39;40;34m \u001b[0m\u001b[38;2;255;70;137;48;2;39;40;34m=\u001b[0m\u001b[38;2;248;248;242;48;2;39;40;34m \u001b[0m\u001b[38;2;248;248;242;48;2;39;40;34m(\u001b[0m\u001b[48;2;39;40;34m                                                                         \u001b[0m\n",
       "\u001b[38;2;248;248;242;48;2;39;40;34m    \u001b[0m\u001b[38;2;102;217;239;48;2;39;40;34mSELECT\u001b[0m\u001b[48;2;39;40;34m                                                                                                         \u001b[0m\n",
       "\u001b[38;2;248;248;242;48;2;39;40;34m      \u001b[0m\u001b[38;2;102;217;239;48;2;39;40;34mMAX\u001b[0m\u001b[38;2;248;248;242;48;2;39;40;34m(\u001b[0m\u001b[38;2;230;219;116;48;2;39;40;34m\"waiter_revenue_by_day\"\u001b[0m\u001b[38;2;248;248;242;48;2;39;40;34m.\u001b[0m\u001b[38;2;230;219;116;48;2;39;40;34m\"event_date\"\u001b[0m\u001b[38;2;248;248;242;48;2;39;40;34m)\u001b[0m\u001b[38;2;248;248;242;48;2;39;40;34m \u001b[0m\u001b[38;2;102;217;239;48;2;39;40;34mAS\u001b[0m\u001b[38;2;248;248;242;48;2;39;40;34m \u001b[0m\u001b[38;2;230;219;116;48;2;39;40;34m\"_col_0\"\u001b[0m\u001b[48;2;39;40;34m                                                        \u001b[0m\n",
       "\u001b[38;2;248;248;242;48;2;39;40;34m    \u001b[0m\u001b[38;2;102;217;239;48;2;39;40;34mFROM\u001b[0m\u001b[38;2;248;248;242;48;2;39;40;34m \u001b[0m\u001b[38;2;230;219;116;48;2;39;40;34m\"memory\"\u001b[0m\u001b[38;2;248;248;242;48;2;39;40;34m.\u001b[0m\u001b[38;2;230;219;116;48;2;39;40;34m\"sqlmesh__sushi\"\u001b[0m\u001b[38;2;248;248;242;48;2;39;40;34m.\u001b[0m\u001b[38;2;230;219;116;48;2;39;40;34m\"sushi__waiter_revenue_by_day__2859311780\"\u001b[0m\u001b[38;2;248;248;242;48;2;39;40;34m \u001b[0m\u001b[38;2;102;217;239;48;2;39;40;34mAS\u001b[0m\u001b[38;2;248;248;242;48;2;39;40;34m \u001b[0m\u001b[38;2;230;219;116;48;2;39;40;34m\"waiter_revenue_by_day\"\u001b[0m\u001b[38;2;248;248;242;48;2;39;40;34m \u001b[0m\u001b[38;2;149;144;119;48;2;39;40;34m/*\u001b[0m\u001b[38;2;149;144;119;48;2;39;40;34m \u001b[0m\u001b[48;2;39;40;34m       \u001b[0m\n",
       "\u001b[38;2;149;144;119;48;2;39;40;34mmemory.sushi.waiter_revenue_by_day \u001b[0m\u001b[38;2;149;144;119;48;2;39;40;34m*/\u001b[0m\u001b[48;2;39;40;34m                                                                              \u001b[0m\n",
       "\u001b[38;2;248;248;242;48;2;39;40;34m  \u001b[0m\u001b[38;2;248;248;242;48;2;39;40;34m)\u001b[0m\u001b[48;2;39;40;34m                                                                                                                \u001b[0m\n",
       "\u001b[38;2;102;217;239;48;2;39;40;34mORDER\u001b[0m\u001b[38;2;248;248;242;48;2;39;40;34m \u001b[0m\u001b[38;2;102;217;239;48;2;39;40;34mBY\u001b[0m\u001b[48;2;39;40;34m                                                                                                           \u001b[0m\n",
       "\u001b[38;2;248;248;242;48;2;39;40;34m  \u001b[0m\u001b[38;2;230;219;116;48;2;39;40;34m\"revenue\"\u001b[0m\u001b[38;2;248;248;242;48;2;39;40;34m \u001b[0m\u001b[38;2;102;217;239;48;2;39;40;34mDESC\u001b[0m\u001b[48;2;39;40;34m                                                                                                   \u001b[0m\n",
       "\u001b[38;2;102;217;239;48;2;39;40;34mLIMIT\u001b[0m\u001b[38;2;248;248;242;48;2;39;40;34m \u001b[0m\u001b[38;2;174;129;255;48;2;39;40;34m100\u001b[0m\u001b[48;2;39;40;34m                                                                                                          \u001b[0m\n"
      ]
     },
     "metadata": {},
     "output_type": "display_data"
    }
   ],
   "source": [
    "%%model sushi.top_waiters\n",
    "/* View of top waiters. */\n",
    "MODEL (\n",
    "  name sushi.top_waiters,\n",
    "  owner jen,\n",
    "  dialect duckdb,\n",
    "  audits (UNIQUE_VALUES('columns' = [waiter_id])),\n",
    "  grains (waiter_id)\n",
    ");\n",
    "\n",
    "SELECT\n",
    "  waiter_id::INT AS waiter_id,\n",
    "  revenue::DOUBLE AS revenue,\n",
    "  1 AS new_col,\n",
    "  2 AS new_col2,\n",
    "  3 AS new_col3\n",
    "FROM sushi.waiter_revenue_by_day\n",
    "WHERE\n",
    "  event_date = (\n",
    "    SELECT\n",
    "      MAX(event_date)\n",
    "    FROM sushi.waiter_revenue_by_day\n",
    "  )\n",
    "ORDER BY\n",
    "  revenue DESC\n",
    "LIMIT 100"
   ]
  },
  {
   "cell_type": "code",
   "execution_count": null,
   "id": "b7f5b35f-99a8-48d2-b612-6b5008c43cf1",
   "metadata": {},
   "outputs": [],
   "source": []
  }
 ],
 "metadata": {
  "kernelspec": {
   "display_name": "Python 3 (ipykernel)",
   "language": "python",
   "name": "python3"
  },
  "language_info": {
   "codemirror_mode": {
    "name": "ipython",
    "version": 3
   },
   "file_extension": ".py",
   "mimetype": "text/x-python",
   "name": "python",
   "nbconvert_exporter": "python",
   "pygments_lexer": "ipython3",
   "version": "3.11.7"
  },
  "widgets": {
   "application/vnd.jupyter.widget-state+json": {
    "state": {},
    "version_major": 2,
    "version_minor": 0
   }
  }
 },
 "nbformat": 4,
 "nbformat_minor": 5
}
