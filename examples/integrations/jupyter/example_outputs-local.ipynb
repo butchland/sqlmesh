{
 "cells": [
  {
   "cell_type": "code",
   "execution_count": 1,
   "id": "initial_id",
   "metadata": {},
   "outputs": [],
   "source": [
    "import os\n",
    "import tempfile\n",
    "import shutil\n",
    "import pathlib\n",
    "\n",
    "from freezegun import freeze_time\n",
    "\n",
    "# import to register magics\n",
    "import sqlmesh"
   ]
  },
  {
   "cell_type": "code",
   "execution_count": 2,
   "id": "e38a8ec8-3c54-4a21-aa28-a6fd1fdc86e9",
   "metadata": {},
   "outputs": [
    {
     "data": {
      "text/plain": [
       "<freezegun.api.FrozenDateTimeFactory at 0x7faa0030cd90>"
      ]
     },
     "execution_count": 2,
     "metadata": {},
     "output_type": "execute_result"
    }
   ],
   "source": [
    "freezer = freeze_time(\"2032-01-01 00:00:00\")\n",
    "freezer.start()"
   ]
  },
  {
   "cell_type": "code",
   "execution_count": 3,
   "id": "1a412470c028d252",
   "metadata": {
    "collapsed": false,
    "jupyter": {
     "outputs_hidden": false
    }
   },
   "outputs": [
    {
     "data": {
      "text/plain": [
       "'/home/butch2/play/study/learn-sqlmesh/sqlmesh2/examples/sushi'"
      ]
     },
     "execution_count": 3,
     "metadata": {},
     "output_type": "execute_result"
    }
   ],
   "source": [
    "root_dir = pathlib.Path(os.getcwd()).parents[2]\n",
    "EXAMPLE_SUSHI_DIR = pathlib.Path(root_dir) / \"examples\" / \"sushi\"\n",
    "str(EXAMPLE_SUSHI_DIR)"
   ]
  },
  {
   "cell_type": "code",
   "execution_count": 4,
   "id": "78afd8b3-3f88-4bfc-a3e7-52770c64a647",
   "metadata": {},
   "outputs": [
    {
     "data": {
      "text/plain": [
       "'/tmp/test_local_jupyter_notebook'"
      ]
     },
     "execution_count": 4,
     "metadata": {},
     "output_type": "execute_result"
    }
   ],
   "source": [
    "TARGET_SUSHI_DIR = pathlib.Path(tempfile.gettempdir()) / \"test_local_jupyter_notebook\"\n",
    "str(TARGET_SUSHI_DIR)"
   ]
  },
  {
   "cell_type": "code",
   "execution_count": 5,
   "id": "5e36b791-d756-4a01-83f5-d126ca69621c",
   "metadata": {},
   "outputs": [
    {
     "data": {
      "text/plain": [
       "'/tmp/test_local_jupyter_notebook/models'"
      ]
     },
     "execution_count": 5,
     "metadata": {},
     "output_type": "execute_result"
    }
   ],
   "source": [
    "TARGET_MODEL_DIR = TARGET_SUSHI_DIR / \"models\"\n",
    "str(TARGET_MODEL_DIR)"
   ]
  },
  {
   "cell_type": "code",
   "execution_count": 6,
   "id": "d0f43c20-7fe4-448b-abc8-ced4dcb87ad7",
   "metadata": {},
   "outputs": [
    {
     "data": {
      "text/plain": [
       "'/tmp/test_local_jupyter_notebook'"
      ]
     },
     "execution_count": 6,
     "metadata": {},
     "output_type": "execute_result"
    }
   ],
   "source": [
    "def ignore(src, names):\n",
    "    if pathlib.Path(src).name in {\".cache\", \"__pycache__\", \"logs\", \"data\"}:\n",
    "        return names\n",
    "    return []\n",
    "\n",
    "if TARGET_SUSHI_DIR.exists():\n",
    "    shutil.rmtree(str(TARGET_SUSHI_DIR))\n",
    "shutil.copytree(str(EXAMPLE_SUSHI_DIR), str(TARGET_SUSHI_DIR), ignore=ignore)"
   ]
  },
  {
   "cell_type": "code",
   "execution_count": 7,
   "id": "6121c12f2cf70f05",
   "metadata": {
    "collapsed": false,
    "jupyter": {
     "outputs_hidden": false
    }
   },
   "outputs": [
    {
     "data": {
      "text/html": [
       "<pre style=\"white-space:pre;overflow-x:auto;line-height:normal;font-family:Menlo,'DejaVu Sans Mono',consolas,'Courier New',monospace\">\n",
       "<span style=\"color: #008000; text-decoration-color: #008000\">SQLMesh project context set to: /tmp/test_local_jupyter_notebook</span>\n",
       "\n",
       "</pre>\n"
      ],
      "text/plain": [
       "\n",
       "\u001b[32mSQLMesh project context set to: \u001b[0m\u001b[32m/tmp/\u001b[0m\u001b[32mtest_local_jupyter_notebook\u001b[0m\n",
       "\n"
      ]
     },
     "metadata": {},
     "output_type": "display_data"
    }
   ],
   "source": [
    "%context --config local_config $TARGET_SUSHI_DIR "
   ]
  },
  {
   "cell_type": "markdown",
   "id": "0352bd04-bdef-476e-9b88-ca9f1a6a4e59",
   "metadata": {},
   "source": [
    "### Leaving plan unapplied to verify that the text boxes are printed"
   ]
  },
  {
   "cell_type": "code",
   "execution_count": 8,
   "id": "9a92ac0d-b521-4240-922d-74706696c0d9",
   "metadata": {},
   "outputs": [
    {
     "name": "stdout",
     "output_type": "stream",
     "text": [
      "/tmp/test_local_jupyter_notebook\n"
     ]
    },
    {
     "name": "stderr",
     "output_type": "stream",
     "text": [
      "/home/butch2/play/study/learn-sqlmesh/sqlmesh2/.venv/lib/python3.11/site-packages/IPython/core/magics/osm.py:417: UserWarning: This is now an optional IPython functionality, setting dhist requires you to install the `pickleshare` library.\n",
      "  self.shell.db['dhist'] = compress_dhist(dhist)[-100:]\n"
     ]
    }
   ],
   "source": [
    "%cd $TARGET_SUSHI_DIR"
   ]
  },
  {
   "cell_type": "code",
   "execution_count": 9,
   "id": "d1055eaa-533d-4bf5-adbc-4fb5b5e42aee",
   "metadata": {},
   "outputs": [],
   "source": [
    "# %plan"
   ]
  },
  {
   "cell_type": "code",
   "execution_count": 10,
   "id": "825596d3292f4cf4",
   "metadata": {
    "collapsed": false,
    "jupyter": {
     "outputs_hidden": false
    }
   },
   "outputs": [
    {
     "name": "stderr",
     "output_type": "stream",
     "text": [
      "/home/butch2/play/study/learn-sqlmesh/sqlmesh2/sqlmesh/core/test/definition.py:185: FutureWarning: errors='ignore' is deprecated and will raise in a future version. Use to_datetime without passing `errors` and catch exceptions explicitly instead\n",
      "  expected[col] = pd.to_datetime(expected[col], errors=\"ignore\").dt.date  # type: ignore\n"
     ]
    },
    {
     "data": {
      "application/vnd.jupyter.widget-view+json": {
       "model_id": "79672b4bb4d14da487c71a148ca9d379",
       "version_major": 2,
       "version_minor": 0
      },
      "text/plain": [
       "HTML(value='<span style=\"font-size: 11px; font-weight: bold; font-family: Menlo,\\'DejaVu Sans Mono\\',consolas,…"
      ]
     },
     "metadata": {},
     "output_type": "display_data"
    },
    {
     "data": {
      "text/html": [
       "<pre style=\"white-space:pre;overflow-x:auto;line-height:normal;font-family:Menlo,'DejaVu Sans Mono',consolas,'Courier New',monospace\"><span style=\"font-weight: bold\">New environment `prod` will be created from `prod`</span>\n",
       "</pre>\n"
      ],
      "text/plain": [
       "\u001b[1mNew environment `prod` will be created from `prod`\u001b[0m\n"
      ]
     },
     "metadata": {},
     "output_type": "display_data"
    },
    {
     "data": {
      "text/html": [
       "<pre style=\"white-space:pre;overflow-x:auto;line-height:normal;font-family:Menlo,'DejaVu Sans Mono',consolas,'Courier New',monospace\"><span style=\"font-weight: bold\">Summary of differences against `prod`:</span>\n",
       "</pre>\n"
      ],
      "text/plain": [
       "\u001b[1mSummary of differences against `prod`:\u001b[0m\n"
      ]
     },
     "metadata": {},
     "output_type": "display_data"
    },
    {
     "data": {
      "text/html": [
       "<pre style=\"white-space:pre;overflow-x:auto;line-height:normal;font-family:Menlo,'DejaVu Sans Mono',consolas,'Courier New',monospace\"><span style=\"font-weight: bold\">Models:</span>\n",
       "└── <span style=\"color: #008000; text-decoration-color: #008000; font-weight: bold\">Added:</span>\n",
       "    ├── <span style=\"color: #008000; text-decoration-color: #008000\">sushi.marketing</span>\n",
       "    ├── <span style=\"color: #008000; text-decoration-color: #008000\">sushi.customers</span>\n",
       "    ├── <span style=\"color: #008000; text-decoration-color: #008000\">sushi.customer_revenue_by_day</span>\n",
       "    ├── <span style=\"color: #008000; text-decoration-color: #008000\">sushi.top_waiters</span>\n",
       "    ├── <span style=\"color: #008000; text-decoration-color: #008000\">sushi.order_items</span>\n",
       "    ├── <span style=\"color: #008000; text-decoration-color: #008000\">sushi.waiters</span>\n",
       "    ├── <span style=\"color: #008000; text-decoration-color: #008000\">sushi.waiter_names</span>\n",
       "    ├── <span style=\"color: #008000; text-decoration-color: #008000\">sushi.waiter_as_customer_by_day</span>\n",
       "    ├── <span style=\"color: #008000; text-decoration-color: #008000\">raw.model1</span>\n",
       "    ├── <span style=\"color: #008000; text-decoration-color: #008000\">sushi.orders</span>\n",
       "    ├── <span style=\"color: #008000; text-decoration-color: #008000\">sushi.items</span>\n",
       "    ├── <span style=\"color: #008000; text-decoration-color: #008000\">sushi.customer_revenue_lifetime</span>\n",
       "    ├── <span style=\"color: #008000; text-decoration-color: #008000\">sushi.raw_marketing</span>\n",
       "    ├── <span style=\"color: #008000; text-decoration-color: #008000\">sushi.waiter_revenue_by_day</span>\n",
       "    ├── <span style=\"color: #008000; text-decoration-color: #008000\">raw.model2</span>\n",
       "    └── <span style=\"color: #008000; text-decoration-color: #008000\">raw.demographics</span>\n",
       "</pre>\n"
      ],
      "text/plain": [
       "\u001b[1mModels:\u001b[0m\n",
       "└── \u001b[1;32mAdded:\u001b[0m\n",
       "    ├── \u001b[32msushi.marketing\u001b[0m\n",
       "    ├── \u001b[32msushi.customers\u001b[0m\n",
       "    ├── \u001b[32msushi.customer_revenue_by_day\u001b[0m\n",
       "    ├── \u001b[32msushi.top_waiters\u001b[0m\n",
       "    ├── \u001b[32msushi.order_items\u001b[0m\n",
       "    ├── \u001b[32msushi.waiters\u001b[0m\n",
       "    ├── \u001b[32msushi.waiter_names\u001b[0m\n",
       "    ├── \u001b[32msushi.waiter_as_customer_by_day\u001b[0m\n",
       "    ├── \u001b[32mraw.model1\u001b[0m\n",
       "    ├── \u001b[32msushi.orders\u001b[0m\n",
       "    ├── \u001b[32msushi.items\u001b[0m\n",
       "    ├── \u001b[32msushi.customer_revenue_lifetime\u001b[0m\n",
       "    ├── \u001b[32msushi.raw_marketing\u001b[0m\n",
       "    ├── \u001b[32msushi.waiter_revenue_by_day\u001b[0m\n",
       "    ├── \u001b[32mraw.model2\u001b[0m\n",
       "    └── \u001b[32mraw.demographics\u001b[0m\n"
      ]
     },
     "metadata": {},
     "output_type": "display_data"
    },
    {
     "data": {
      "text/html": [
       "<pre style=\"white-space:pre;overflow-x:auto;line-height:normal;font-family:Menlo,'DejaVu Sans Mono',consolas,'Courier New',monospace\"><span style=\"font-weight: bold\">Standalone Audits:</span>\n",
       "└── <span style=\"color: #008000; text-decoration-color: #008000; font-weight: bold\">Added:</span>\n",
       "    └── <span style=\"color: #008000; text-decoration-color: #008000\">assert_item_price_above_zero</span>\n",
       "</pre>\n"
      ],
      "text/plain": [
       "\u001b[1mStandalone Audits:\u001b[0m\n",
       "└── \u001b[1;32mAdded:\u001b[0m\n",
       "    └── \u001b[32massert_item_price_above_zero\u001b[0m\n"
      ]
     },
     "metadata": {},
     "output_type": "display_data"
    },
    {
     "data": {
      "application/vnd.jupyter.widget-view+json": {
       "model_id": "0b8189729ff541cabe045813caab9b5b",
       "version_major": 2,
       "version_minor": 0
      },
      "text/plain": [
       "Output()"
      ]
     },
     "metadata": {},
     "output_type": "display_data"
    },
    {
     "data": {
      "text/html": [
       "<pre style=\"white-space:pre;overflow-x:auto;line-height:normal;font-family:Menlo,'DejaVu Sans Mono',consolas,'Courier New',monospace\"></pre>\n"
      ],
      "text/plain": []
     },
     "metadata": {},
     "output_type": "display_data"
    },
    {
     "data": {
      "text/html": [
       "<pre style=\"white-space:pre;overflow-x:auto;line-height:normal;font-family:Menlo,'DejaVu Sans Mono',consolas,'Courier New',monospace\">\n",
       "</pre>\n"
      ],
      "text/plain": [
       "\n"
      ]
     },
     "metadata": {},
     "output_type": "display_data"
    },
    {
     "data": {
      "text/html": [
       "<pre style=\"white-space:pre;overflow-x:auto;line-height:normal;font-family:Menlo,'DejaVu Sans Mono',consolas,'Courier New',monospace\">\n",
       "<span style=\"color: #008000; text-decoration-color: #008000\">All model versions have been created successfully</span>\n",
       "\n",
       "</pre>\n"
      ],
      "text/plain": [
       "\n",
       "\u001b[32mAll model versions have been created successfully\u001b[0m\n",
       "\n"
      ]
     },
     "metadata": {},
     "output_type": "display_data"
    },
    {
     "data": {
      "application/vnd.jupyter.widget-view+json": {
       "model_id": "3882a239565847b8be5fe7a519287a69",
       "version_major": 2,
       "version_minor": 0
      },
      "text/plain": [
       "Output()"
      ]
     },
     "metadata": {},
     "output_type": "display_data"
    },
    {
     "data": {
      "text/html": [
       "<pre style=\"white-space:pre;overflow-x:auto;line-height:normal;font-family:Menlo,'DejaVu Sans Mono',consolas,'Courier New',monospace\"></pre>\n"
      ],
      "text/plain": []
     },
     "metadata": {},
     "output_type": "display_data"
    },
    {
     "data": {
      "text/html": [
       "<pre style=\"white-space:pre;overflow-x:auto;line-height:normal;font-family:Menlo,'DejaVu Sans Mono',consolas,'Courier New',monospace\">\n",
       "<span style=\"color: #008000; text-decoration-color: #008000\">All model batches have been executed successfully</span>\n",
       "\n",
       "</pre>\n"
      ],
      "text/plain": [
       "\n",
       "\u001b[32mAll model batches have been executed successfully\u001b[0m\n",
       "\n"
      ]
     },
     "metadata": {},
     "output_type": "display_data"
    },
    {
     "data": {
      "application/vnd.jupyter.widget-view+json": {
       "model_id": "d3649d9f05384ff7894bf8ae43de7405",
       "version_major": 2,
       "version_minor": 0
      },
      "text/plain": [
       "Output()"
      ]
     },
     "metadata": {},
     "output_type": "display_data"
    },
    {
     "data": {
      "text/html": [
       "<pre style=\"white-space:pre;overflow-x:auto;line-height:normal;font-family:Menlo,'DejaVu Sans Mono',consolas,'Courier New',monospace\"></pre>\n"
      ],
      "text/plain": []
     },
     "metadata": {},
     "output_type": "display_data"
    },
    {
     "data": {
      "text/html": [
       "<pre style=\"white-space:pre;overflow-x:auto;line-height:normal;font-family:Menlo,'DejaVu Sans Mono',consolas,'Courier New',monospace\">\n",
       "</pre>\n"
      ],
      "text/plain": [
       "\n"
      ]
     },
     "metadata": {},
     "output_type": "display_data"
    },
    {
     "data": {
      "text/html": [
       "<pre style=\"white-space:pre;overflow-x:auto;line-height:normal;font-family:Menlo,'DejaVu Sans Mono',consolas,'Courier New',monospace\">\n",
       "<span style=\"color: #008000; text-decoration-color: #008000\">The target environment has been updated successfully</span>\n",
       "\n",
       "</pre>\n"
      ],
      "text/plain": [
       "\n",
       "\u001b[32mThe target environment has been updated successfully\u001b[0m\n",
       "\n"
      ]
     },
     "metadata": {},
     "output_type": "display_data"
    }
   ],
   "source": [
    "%plan --no-prompts --auto-apply"
   ]
  },
  {
   "cell_type": "code",
   "execution_count": 11,
   "id": "4478d80a-ee61-43b5-ac48-60b20a497a75",
   "metadata": {},
   "outputs": [
    {
     "name": "stderr",
     "output_type": "stream",
     "text": [
      "/home/butch2/play/study/learn-sqlmesh/sqlmesh2/sqlmesh/core/test/definition.py:185: FutureWarning: errors='ignore' is deprecated and will raise in a future version. Use to_datetime without passing `errors` and catch exceptions explicitly instead\n",
      "  expected[col] = pd.to_datetime(expected[col], errors=\"ignore\").dt.date  # type: ignore\n"
     ]
    },
    {
     "data": {
      "application/vnd.jupyter.widget-view+json": {
       "model_id": "78d70be686b34558a9e89c1b2cc7865c",
       "version_major": 2,
       "version_minor": 0
      },
      "text/plain": [
       "HTML(value='<span style=\"font-size: 11px; font-weight: bold; font-family: Menlo,\\'DejaVu Sans Mono\\',consolas,…"
      ]
     },
     "metadata": {},
     "output_type": "display_data"
    },
    {
     "data": {
      "text/html": [
       "<pre style=\"white-space:pre;overflow-x:auto;line-height:normal;font-family:Menlo,'DejaVu Sans Mono',consolas,'Courier New',monospace\"><span style=\"font-weight: bold\">New environment `dev` will be created from `prod`</span>\n",
       "</pre>\n"
      ],
      "text/plain": [
       "\u001b[1mNew environment `dev` will be created from `prod`\u001b[0m\n"
      ]
     },
     "metadata": {},
     "output_type": "display_data"
    },
    {
     "data": {
      "application/vnd.jupyter.widget-view+json": {
       "model_id": "7faac5b28dfd4c33bb657b5775ed03f2",
       "version_major": 2,
       "version_minor": 0
      },
      "text/plain": [
       "Output()"
      ]
     },
     "metadata": {},
     "output_type": "display_data"
    },
    {
     "data": {
      "text/html": [
       "<pre style=\"white-space:pre;overflow-x:auto;line-height:normal;font-family:Menlo,'DejaVu Sans Mono',consolas,'Courier New',monospace\"></pre>\n"
      ],
      "text/plain": []
     },
     "metadata": {},
     "output_type": "display_data"
    },
    {
     "data": {
      "text/html": [
       "<pre style=\"white-space:pre;overflow-x:auto;line-height:normal;font-family:Menlo,'DejaVu Sans Mono',consolas,'Courier New',monospace\">\n",
       "</pre>\n"
      ],
      "text/plain": [
       "\n"
      ]
     },
     "metadata": {},
     "output_type": "display_data"
    },
    {
     "data": {
      "text/html": [
       "<pre style=\"white-space:pre;overflow-x:auto;line-height:normal;font-family:Menlo,'DejaVu Sans Mono',consolas,'Courier New',monospace\">\n",
       "<span style=\"color: #008000; text-decoration-color: #008000\">All model versions have been created successfully</span>\n",
       "\n",
       "</pre>\n"
      ],
      "text/plain": [
       "\n",
       "\u001b[32mAll model versions have been created successfully\u001b[0m\n",
       "\n"
      ]
     },
     "metadata": {},
     "output_type": "display_data"
    },
    {
     "data": {
      "application/vnd.jupyter.widget-view+json": {
       "model_id": "de4ca4f10d174a4bac6e04bca36f5f8d",
       "version_major": 2,
       "version_minor": 0
      },
      "text/plain": [
       "Output()"
      ]
     },
     "metadata": {},
     "output_type": "display_data"
    },
    {
     "data": {
      "text/html": [
       "<pre style=\"white-space:pre;overflow-x:auto;line-height:normal;font-family:Menlo,'DejaVu Sans Mono',consolas,'Courier New',monospace\"></pre>\n"
      ],
      "text/plain": []
     },
     "metadata": {},
     "output_type": "display_data"
    },
    {
     "data": {
      "text/html": [
       "<pre style=\"white-space:pre;overflow-x:auto;line-height:normal;font-family:Menlo,'DejaVu Sans Mono',consolas,'Courier New',monospace\">\n",
       "</pre>\n"
      ],
      "text/plain": [
       "\n"
      ]
     },
     "metadata": {},
     "output_type": "display_data"
    },
    {
     "data": {
      "text/html": [
       "<pre style=\"white-space:pre;overflow-x:auto;line-height:normal;font-family:Menlo,'DejaVu Sans Mono',consolas,'Courier New',monospace\">\n",
       "<span style=\"color: #008000; text-decoration-color: #008000\">The target environment has been updated successfully</span>\n",
       "\n",
       "</pre>\n"
      ],
      "text/plain": [
       "\n",
       "\u001b[32mThe target environment has been updated successfully\u001b[0m\n",
       "\n"
      ]
     },
     "metadata": {},
     "output_type": "display_data"
    },
    {
     "data": {
      "text/html": [
       "<pre style=\"white-space:pre;overflow-x:auto;line-height:normal;font-family:Menlo,'DejaVu Sans Mono',consolas,'Courier New',monospace\">\n",
       "<span style=\"color: #008000; text-decoration-color: #008000\">Virtual Update executed successfully</span>\n",
       "\n",
       "</pre>\n"
      ],
      "text/plain": [
       "\n",
       "\u001b[32mVirtual Update executed successfully\u001b[0m\n",
       "\n"
      ]
     },
     "metadata": {},
     "output_type": "display_data"
    }
   ],
   "source": [
    "%plan dev --no-prompts --auto-apply --include-unmodified"
   ]
  },
  {
   "cell_type": "code",
   "execution_count": 12,
   "id": "495225e4-1e23-4a76-87a2-881d1bb3b017",
   "metadata": {},
   "outputs": [
    {
     "data": {
      "text/html": [
       "<pre style=\"white-space:pre;overflow-x:auto;line-height:normal;font-family:Menlo,'DejaVu Sans Mono',consolas,'Courier New',monospace\"><span style=\"color: #66d9ef; text-decoration-color: #66d9ef; background-color: #272822\">SELECT</span><span style=\"background-color: #272822\">                                                                                                             </span>\n",
       "<span style=\"color: #f8f8f2; text-decoration-color: #f8f8f2; background-color: #272822\">  </span><span style=\"color: #66d9ef; text-decoration-color: #66d9ef; background-color: #272822\">CAST</span><span style=\"color: #f8f8f2; text-decoration-color: #f8f8f2; background-color: #272822\">(</span><span style=\"color: #e6db74; text-decoration-color: #e6db74; background-color: #272822\">\"waiter_revenue_by_day\"</span><span style=\"color: #f8f8f2; text-decoration-color: #f8f8f2; background-color: #272822\">.</span><span style=\"color: #e6db74; text-decoration-color: #e6db74; background-color: #272822\">\"waiter_id\"</span><span style=\"color: #f8f8f2; text-decoration-color: #f8f8f2; background-color: #272822\"> </span><span style=\"color: #66d9ef; text-decoration-color: #66d9ef; background-color: #272822\">AS</span><span style=\"color: #f8f8f2; text-decoration-color: #f8f8f2; background-color: #272822\"> INT) </span><span style=\"color: #66d9ef; text-decoration-color: #66d9ef; background-color: #272822\">AS</span><span style=\"color: #f8f8f2; text-decoration-color: #f8f8f2; background-color: #272822\"> </span><span style=\"color: #e6db74; text-decoration-color: #e6db74; background-color: #272822\">\"waiter_id\"</span><span style=\"color: #f8f8f2; text-decoration-color: #f8f8f2; background-color: #272822\">,</span><span style=\"background-color: #272822\">                                                 </span>\n",
       "<span style=\"color: #f8f8f2; text-decoration-color: #f8f8f2; background-color: #272822\">  </span><span style=\"color: #66d9ef; text-decoration-color: #66d9ef; background-color: #272822\">CAST</span><span style=\"color: #f8f8f2; text-decoration-color: #f8f8f2; background-color: #272822\">(</span><span style=\"color: #e6db74; text-decoration-color: #e6db74; background-color: #272822\">\"waiter_revenue_by_day\"</span><span style=\"color: #f8f8f2; text-decoration-color: #f8f8f2; background-color: #272822\">.</span><span style=\"color: #e6db74; text-decoration-color: #e6db74; background-color: #272822\">\"revenue\"</span><span style=\"color: #f8f8f2; text-decoration-color: #f8f8f2; background-color: #272822\"> </span><span style=\"color: #66d9ef; text-decoration-color: #66d9ef; background-color: #272822\">AS</span><span style=\"color: #f8f8f2; text-decoration-color: #f8f8f2; background-color: #272822\"> DOUBLE) </span><span style=\"color: #66d9ef; text-decoration-color: #66d9ef; background-color: #272822\">AS</span><span style=\"color: #f8f8f2; text-decoration-color: #f8f8f2; background-color: #272822\"> </span><span style=\"color: #e6db74; text-decoration-color: #e6db74; background-color: #272822\">\"revenue\"</span><span style=\"background-color: #272822\">                                                   </span>\n",
       "<span style=\"color: #66d9ef; text-decoration-color: #66d9ef; background-color: #272822\">FROM</span><span style=\"color: #f8f8f2; text-decoration-color: #f8f8f2; background-color: #272822\"> </span><span style=\"color: #e6db74; text-decoration-color: #e6db74; background-color: #272822\">\"local\"</span><span style=\"color: #f8f8f2; text-decoration-color: #f8f8f2; background-color: #272822\">.</span><span style=\"color: #e6db74; text-decoration-color: #e6db74; background-color: #272822\">\"sqlmesh__sushi\"</span><span style=\"color: #f8f8f2; text-decoration-color: #f8f8f2; background-color: #272822\">.</span><span style=\"color: #e6db74; text-decoration-color: #e6db74; background-color: #272822\">\"sushi__waiter_revenue_by_day__200393305\"</span><span style=\"color: #f8f8f2; text-decoration-color: #f8f8f2; background-color: #272822\"> </span><span style=\"color: #66d9ef; text-decoration-color: #66d9ef; background-color: #272822\">AS</span><span style=\"color: #f8f8f2; text-decoration-color: #f8f8f2; background-color: #272822\"> </span><span style=\"color: #e6db74; text-decoration-color: #e6db74; background-color: #272822\">\"waiter_revenue_by_day\"</span><span style=\"color: #f8f8f2; text-decoration-color: #f8f8f2; background-color: #272822\"> </span><span style=\"color: #959077; text-decoration-color: #959077; background-color: #272822\">/* </span><span style=\"background-color: #272822\">             </span>\n",
       "<span style=\"color: #959077; text-decoration-color: #959077; background-color: #272822\">local.sushi.waiter_revenue_by_day */</span><span style=\"background-color: #272822\">                                                                               </span>\n",
       "<span style=\"color: #66d9ef; text-decoration-color: #66d9ef; background-color: #272822\">WHERE</span><span style=\"background-color: #272822\">                                                                                                              </span>\n",
       "<span style=\"color: #f8f8f2; text-decoration-color: #f8f8f2; background-color: #272822\">  </span><span style=\"color: #e6db74; text-decoration-color: #e6db74; background-color: #272822\">\"waiter_revenue_by_day\"</span><span style=\"color: #f8f8f2; text-decoration-color: #f8f8f2; background-color: #272822\">.</span><span style=\"color: #e6db74; text-decoration-color: #e6db74; background-color: #272822\">\"event_date\"</span><span style=\"color: #f8f8f2; text-decoration-color: #f8f8f2; background-color: #272822\"> </span><span style=\"color: #ff4689; text-decoration-color: #ff4689; background-color: #272822\">=</span><span style=\"color: #f8f8f2; text-decoration-color: #f8f8f2; background-color: #272822\"> (</span><span style=\"background-color: #272822\">                                                                         </span>\n",
       "<span style=\"color: #f8f8f2; text-decoration-color: #f8f8f2; background-color: #272822\">    </span><span style=\"color: #66d9ef; text-decoration-color: #66d9ef; background-color: #272822\">SELECT</span><span style=\"background-color: #272822\">                                                                                                         </span>\n",
       "<span style=\"color: #f8f8f2; text-decoration-color: #f8f8f2; background-color: #272822\">      </span><span style=\"color: #66d9ef; text-decoration-color: #66d9ef; background-color: #272822\">MAX</span><span style=\"color: #f8f8f2; text-decoration-color: #f8f8f2; background-color: #272822\">(</span><span style=\"color: #e6db74; text-decoration-color: #e6db74; background-color: #272822\">\"waiter_revenue_by_day\"</span><span style=\"color: #f8f8f2; text-decoration-color: #f8f8f2; background-color: #272822\">.</span><span style=\"color: #e6db74; text-decoration-color: #e6db74; background-color: #272822\">\"event_date\"</span><span style=\"color: #f8f8f2; text-decoration-color: #f8f8f2; background-color: #272822\">) </span><span style=\"color: #66d9ef; text-decoration-color: #66d9ef; background-color: #272822\">AS</span><span style=\"color: #f8f8f2; text-decoration-color: #f8f8f2; background-color: #272822\"> </span><span style=\"color: #e6db74; text-decoration-color: #e6db74; background-color: #272822\">\"_col_0\"</span><span style=\"background-color: #272822\">                                                        </span>\n",
       "<span style=\"color: #f8f8f2; text-decoration-color: #f8f8f2; background-color: #272822\">    </span><span style=\"color: #66d9ef; text-decoration-color: #66d9ef; background-color: #272822\">FROM</span><span style=\"color: #f8f8f2; text-decoration-color: #f8f8f2; background-color: #272822\"> </span><span style=\"color: #e6db74; text-decoration-color: #e6db74; background-color: #272822\">\"local\"</span><span style=\"color: #f8f8f2; text-decoration-color: #f8f8f2; background-color: #272822\">.</span><span style=\"color: #e6db74; text-decoration-color: #e6db74; background-color: #272822\">\"sqlmesh__sushi\"</span><span style=\"color: #f8f8f2; text-decoration-color: #f8f8f2; background-color: #272822\">.</span><span style=\"color: #e6db74; text-decoration-color: #e6db74; background-color: #272822\">\"sushi__waiter_revenue_by_day__200393305\"</span><span style=\"color: #f8f8f2; text-decoration-color: #f8f8f2; background-color: #272822\"> </span><span style=\"color: #66d9ef; text-decoration-color: #66d9ef; background-color: #272822\">AS</span><span style=\"color: #f8f8f2; text-decoration-color: #f8f8f2; background-color: #272822\"> </span><span style=\"color: #e6db74; text-decoration-color: #e6db74; background-color: #272822\">\"waiter_revenue_by_day\"</span><span style=\"color: #f8f8f2; text-decoration-color: #f8f8f2; background-color: #272822\"> </span><span style=\"color: #959077; text-decoration-color: #959077; background-color: #272822\">/* </span><span style=\"background-color: #272822\">         </span>\n",
       "<span style=\"color: #959077; text-decoration-color: #959077; background-color: #272822\">local.sushi.waiter_revenue_by_day */</span><span style=\"background-color: #272822\">                                                                               </span>\n",
       "<span style=\"color: #f8f8f2; text-decoration-color: #f8f8f2; background-color: #272822\">  )</span><span style=\"background-color: #272822\">                                                                                                                </span>\n",
       "<span style=\"color: #66d9ef; text-decoration-color: #66d9ef; background-color: #272822\">ORDER</span><span style=\"color: #f8f8f2; text-decoration-color: #f8f8f2; background-color: #272822\"> </span><span style=\"color: #66d9ef; text-decoration-color: #66d9ef; background-color: #272822\">BY</span><span style=\"background-color: #272822\">                                                                                                           </span>\n",
       "<span style=\"color: #f8f8f2; text-decoration-color: #f8f8f2; background-color: #272822\">  </span><span style=\"color: #e6db74; text-decoration-color: #e6db74; background-color: #272822\">\"revenue\"</span><span style=\"color: #f8f8f2; text-decoration-color: #f8f8f2; background-color: #272822\"> </span><span style=\"color: #66d9ef; text-decoration-color: #66d9ef; background-color: #272822\">DESC</span><span style=\"background-color: #272822\">                                                                                                   </span>\n",
       "<span style=\"color: #66d9ef; text-decoration-color: #66d9ef; background-color: #272822\">LIMIT</span><span style=\"color: #f8f8f2; text-decoration-color: #f8f8f2; background-color: #272822\"> </span><span style=\"color: #ae81ff; text-decoration-color: #ae81ff; background-color: #272822\">10</span><span style=\"background-color: #272822\">                                                                                                           </span>\n",
       "</pre>\n"
      ],
      "text/plain": [
       "\u001b[38;2;102;217;239;48;2;39;40;34mSELECT\u001b[0m\u001b[48;2;39;40;34m                                                                                                             \u001b[0m\n",
       "\u001b[38;2;248;248;242;48;2;39;40;34m  \u001b[0m\u001b[38;2;102;217;239;48;2;39;40;34mCAST\u001b[0m\u001b[38;2;248;248;242;48;2;39;40;34m(\u001b[0m\u001b[38;2;230;219;116;48;2;39;40;34m\"waiter_revenue_by_day\"\u001b[0m\u001b[38;2;248;248;242;48;2;39;40;34m.\u001b[0m\u001b[38;2;230;219;116;48;2;39;40;34m\"waiter_id\"\u001b[0m\u001b[38;2;248;248;242;48;2;39;40;34m \u001b[0m\u001b[38;2;102;217;239;48;2;39;40;34mAS\u001b[0m\u001b[38;2;248;248;242;48;2;39;40;34m \u001b[0m\u001b[38;2;248;248;242;48;2;39;40;34mINT\u001b[0m\u001b[38;2;248;248;242;48;2;39;40;34m)\u001b[0m\u001b[38;2;248;248;242;48;2;39;40;34m \u001b[0m\u001b[38;2;102;217;239;48;2;39;40;34mAS\u001b[0m\u001b[38;2;248;248;242;48;2;39;40;34m \u001b[0m\u001b[38;2;230;219;116;48;2;39;40;34m\"waiter_id\"\u001b[0m\u001b[38;2;248;248;242;48;2;39;40;34m,\u001b[0m\u001b[48;2;39;40;34m                                                 \u001b[0m\n",
       "\u001b[38;2;248;248;242;48;2;39;40;34m  \u001b[0m\u001b[38;2;102;217;239;48;2;39;40;34mCAST\u001b[0m\u001b[38;2;248;248;242;48;2;39;40;34m(\u001b[0m\u001b[38;2;230;219;116;48;2;39;40;34m\"waiter_revenue_by_day\"\u001b[0m\u001b[38;2;248;248;242;48;2;39;40;34m.\u001b[0m\u001b[38;2;230;219;116;48;2;39;40;34m\"revenue\"\u001b[0m\u001b[38;2;248;248;242;48;2;39;40;34m \u001b[0m\u001b[38;2;102;217;239;48;2;39;40;34mAS\u001b[0m\u001b[38;2;248;248;242;48;2;39;40;34m \u001b[0m\u001b[38;2;248;248;242;48;2;39;40;34mDOUBLE\u001b[0m\u001b[38;2;248;248;242;48;2;39;40;34m)\u001b[0m\u001b[38;2;248;248;242;48;2;39;40;34m \u001b[0m\u001b[38;2;102;217;239;48;2;39;40;34mAS\u001b[0m\u001b[38;2;248;248;242;48;2;39;40;34m \u001b[0m\u001b[38;2;230;219;116;48;2;39;40;34m\"revenue\"\u001b[0m\u001b[48;2;39;40;34m                                                   \u001b[0m\n",
       "\u001b[38;2;102;217;239;48;2;39;40;34mFROM\u001b[0m\u001b[38;2;248;248;242;48;2;39;40;34m \u001b[0m\u001b[38;2;230;219;116;48;2;39;40;34m\"local\"\u001b[0m\u001b[38;2;248;248;242;48;2;39;40;34m.\u001b[0m\u001b[38;2;230;219;116;48;2;39;40;34m\"sqlmesh__sushi\"\u001b[0m\u001b[38;2;248;248;242;48;2;39;40;34m.\u001b[0m\u001b[38;2;230;219;116;48;2;39;40;34m\"sushi__waiter_revenue_by_day__200393305\"\u001b[0m\u001b[38;2;248;248;242;48;2;39;40;34m \u001b[0m\u001b[38;2;102;217;239;48;2;39;40;34mAS\u001b[0m\u001b[38;2;248;248;242;48;2;39;40;34m \u001b[0m\u001b[38;2;230;219;116;48;2;39;40;34m\"waiter_revenue_by_day\"\u001b[0m\u001b[38;2;248;248;242;48;2;39;40;34m \u001b[0m\u001b[38;2;149;144;119;48;2;39;40;34m/*\u001b[0m\u001b[38;2;149;144;119;48;2;39;40;34m \u001b[0m\u001b[48;2;39;40;34m             \u001b[0m\n",
       "\u001b[38;2;149;144;119;48;2;39;40;34mlocal.sushi.waiter_revenue_by_day \u001b[0m\u001b[38;2;149;144;119;48;2;39;40;34m*/\u001b[0m\u001b[48;2;39;40;34m                                                                               \u001b[0m\n",
       "\u001b[38;2;102;217;239;48;2;39;40;34mWHERE\u001b[0m\u001b[48;2;39;40;34m                                                                                                              \u001b[0m\n",
       "\u001b[38;2;248;248;242;48;2;39;40;34m  \u001b[0m\u001b[38;2;230;219;116;48;2;39;40;34m\"waiter_revenue_by_day\"\u001b[0m\u001b[38;2;248;248;242;48;2;39;40;34m.\u001b[0m\u001b[38;2;230;219;116;48;2;39;40;34m\"event_date\"\u001b[0m\u001b[38;2;248;248;242;48;2;39;40;34m \u001b[0m\u001b[38;2;255;70;137;48;2;39;40;34m=\u001b[0m\u001b[38;2;248;248;242;48;2;39;40;34m \u001b[0m\u001b[38;2;248;248;242;48;2;39;40;34m(\u001b[0m\u001b[48;2;39;40;34m                                                                         \u001b[0m\n",
       "\u001b[38;2;248;248;242;48;2;39;40;34m    \u001b[0m\u001b[38;2;102;217;239;48;2;39;40;34mSELECT\u001b[0m\u001b[48;2;39;40;34m                                                                                                         \u001b[0m\n",
       "\u001b[38;2;248;248;242;48;2;39;40;34m      \u001b[0m\u001b[38;2;102;217;239;48;2;39;40;34mMAX\u001b[0m\u001b[38;2;248;248;242;48;2;39;40;34m(\u001b[0m\u001b[38;2;230;219;116;48;2;39;40;34m\"waiter_revenue_by_day\"\u001b[0m\u001b[38;2;248;248;242;48;2;39;40;34m.\u001b[0m\u001b[38;2;230;219;116;48;2;39;40;34m\"event_date\"\u001b[0m\u001b[38;2;248;248;242;48;2;39;40;34m)\u001b[0m\u001b[38;2;248;248;242;48;2;39;40;34m \u001b[0m\u001b[38;2;102;217;239;48;2;39;40;34mAS\u001b[0m\u001b[38;2;248;248;242;48;2;39;40;34m \u001b[0m\u001b[38;2;230;219;116;48;2;39;40;34m\"_col_0\"\u001b[0m\u001b[48;2;39;40;34m                                                        \u001b[0m\n",
       "\u001b[38;2;248;248;242;48;2;39;40;34m    \u001b[0m\u001b[38;2;102;217;239;48;2;39;40;34mFROM\u001b[0m\u001b[38;2;248;248;242;48;2;39;40;34m \u001b[0m\u001b[38;2;230;219;116;48;2;39;40;34m\"local\"\u001b[0m\u001b[38;2;248;248;242;48;2;39;40;34m.\u001b[0m\u001b[38;2;230;219;116;48;2;39;40;34m\"sqlmesh__sushi\"\u001b[0m\u001b[38;2;248;248;242;48;2;39;40;34m.\u001b[0m\u001b[38;2;230;219;116;48;2;39;40;34m\"sushi__waiter_revenue_by_day__200393305\"\u001b[0m\u001b[38;2;248;248;242;48;2;39;40;34m \u001b[0m\u001b[38;2;102;217;239;48;2;39;40;34mAS\u001b[0m\u001b[38;2;248;248;242;48;2;39;40;34m \u001b[0m\u001b[38;2;230;219;116;48;2;39;40;34m\"waiter_revenue_by_day\"\u001b[0m\u001b[38;2;248;248;242;48;2;39;40;34m \u001b[0m\u001b[38;2;149;144;119;48;2;39;40;34m/*\u001b[0m\u001b[38;2;149;144;119;48;2;39;40;34m \u001b[0m\u001b[48;2;39;40;34m         \u001b[0m\n",
       "\u001b[38;2;149;144;119;48;2;39;40;34mlocal.sushi.waiter_revenue_by_day \u001b[0m\u001b[38;2;149;144;119;48;2;39;40;34m*/\u001b[0m\u001b[48;2;39;40;34m                                                                               \u001b[0m\n",
       "\u001b[38;2;248;248;242;48;2;39;40;34m  \u001b[0m\u001b[38;2;248;248;242;48;2;39;40;34m)\u001b[0m\u001b[48;2;39;40;34m                                                                                                                \u001b[0m\n",
       "\u001b[38;2;102;217;239;48;2;39;40;34mORDER\u001b[0m\u001b[38;2;248;248;242;48;2;39;40;34m \u001b[0m\u001b[38;2;102;217;239;48;2;39;40;34mBY\u001b[0m\u001b[48;2;39;40;34m                                                                                                           \u001b[0m\n",
       "\u001b[38;2;248;248;242;48;2;39;40;34m  \u001b[0m\u001b[38;2;230;219;116;48;2;39;40;34m\"revenue\"\u001b[0m\u001b[38;2;248;248;242;48;2;39;40;34m \u001b[0m\u001b[38;2;102;217;239;48;2;39;40;34mDESC\u001b[0m\u001b[48;2;39;40;34m                                                                                                   \u001b[0m\n",
       "\u001b[38;2;102;217;239;48;2;39;40;34mLIMIT\u001b[0m\u001b[38;2;248;248;242;48;2;39;40;34m \u001b[0m\u001b[38;2;174;129;255;48;2;39;40;34m10\u001b[0m\u001b[48;2;39;40;34m                                                                                                           \u001b[0m\n"
      ]
     },
     "metadata": {},
     "output_type": "display_data"
    }
   ],
   "source": [
    "%render sushi.top_waiters"
   ]
  },
  {
   "cell_type": "code",
   "execution_count": 13,
   "id": "9e40f213-5040-4659-957e-7fd478ce4c77",
   "metadata": {},
   "outputs": [
    {
     "data": {
      "text/html": [
       "<pre style=\"white-space:pre;overflow-x:auto;line-height:normal;font-family:Menlo,'DejaVu Sans Mono',consolas,'Courier New',monospace\">SELECT\n",
       "  <span style=\"color: #800080; text-decoration-color: #800080; font-weight: bold\">CAST</span><span style=\"font-weight: bold\">(</span><span style=\"color: #008000; text-decoration-color: #008000\">\"waiter_revenue_by_day\"</span>.<span style=\"color: #008000; text-decoration-color: #008000\">\"waiter_id\"</span> AS INT<span style=\"font-weight: bold\">)</span> AS <span style=\"color: #008000; text-decoration-color: #008000\">\"waiter_id\"</span>,\n",
       "  <span style=\"color: #800080; text-decoration-color: #800080; font-weight: bold\">CAST</span><span style=\"font-weight: bold\">(</span><span style=\"color: #008000; text-decoration-color: #008000\">\"waiter_revenue_by_day\"</span>.<span style=\"color: #008000; text-decoration-color: #008000\">\"revenue\"</span> AS DOUBLE<span style=\"font-weight: bold\">)</span> AS <span style=\"color: #008000; text-decoration-color: #008000\">\"revenue\"</span>\n",
       "FROM <span style=\"color: #008000; text-decoration-color: #008000\">\"local\"</span>.<span style=\"color: #008000; text-decoration-color: #008000\">\"sqlmesh__sushi\"</span>.<span style=\"color: #008000; text-decoration-color: #008000\">\"sushi__waiter_revenue_by_day__200393305\"</span> AS <span style=\"color: #008000; text-decoration-color: #008000\">\"waiter_revenue_by_day\"</span> <span style=\"color: #800080; text-decoration-color: #800080\">/</span>* \n",
       "local.sushi.waiter_revenue_by_day *<span style=\"color: #800080; text-decoration-color: #800080\">/</span>\n",
       "WHERE\n",
       "  <span style=\"color: #008000; text-decoration-color: #008000\">\"waiter_revenue_by_day\"</span>.<span style=\"color: #008000; text-decoration-color: #008000\">\"event_date\"</span> = <span style=\"font-weight: bold\">(</span>\n",
       "    SELECT\n",
       "      <span style=\"color: #800080; text-decoration-color: #800080; font-weight: bold\">MAX</span><span style=\"font-weight: bold\">(</span><span style=\"color: #008000; text-decoration-color: #008000\">\"waiter_revenue_by_day\"</span>.<span style=\"color: #008000; text-decoration-color: #008000\">\"event_date\"</span><span style=\"font-weight: bold\">)</span> AS <span style=\"color: #008000; text-decoration-color: #008000\">\"_col_0\"</span>\n",
       "    FROM <span style=\"color: #008000; text-decoration-color: #008000\">\"local\"</span>.<span style=\"color: #008000; text-decoration-color: #008000\">\"sqlmesh__sushi\"</span>.<span style=\"color: #008000; text-decoration-color: #008000\">\"sushi__waiter_revenue_by_day__200393305\"</span> AS <span style=\"color: #008000; text-decoration-color: #008000\">\"waiter_revenue_by_day\"</span> <span style=\"color: #800080; text-decoration-color: #800080\">/</span>* \n",
       "local.sushi.waiter_revenue_by_day *<span style=\"color: #800080; text-decoration-color: #800080\">/</span>\n",
       "  <span style=\"font-weight: bold\">)</span>\n",
       "ORDER BY\n",
       "  <span style=\"color: #008000; text-decoration-color: #008000\">\"revenue\"</span> DESC\n",
       "LIMIT <span style=\"color: #008080; text-decoration-color: #008080; font-weight: bold\">10</span>\n",
       "</pre>\n"
      ],
      "text/plain": [
       "SELECT\n",
       "  \u001b[1;35mCAST\u001b[0m\u001b[1m(\u001b[0m\u001b[32m\"waiter_revenue_by_day\"\u001b[0m.\u001b[32m\"waiter_id\"\u001b[0m AS INT\u001b[1m)\u001b[0m AS \u001b[32m\"waiter_id\"\u001b[0m,\n",
       "  \u001b[1;35mCAST\u001b[0m\u001b[1m(\u001b[0m\u001b[32m\"waiter_revenue_by_day\"\u001b[0m.\u001b[32m\"revenue\"\u001b[0m AS DOUBLE\u001b[1m)\u001b[0m AS \u001b[32m\"revenue\"\u001b[0m\n",
       "FROM \u001b[32m\"local\"\u001b[0m.\u001b[32m\"sqlmesh__sushi\"\u001b[0m.\u001b[32m\"sushi__waiter_revenue_by_day__200393305\"\u001b[0m AS \u001b[32m\"waiter_revenue_by_day\"\u001b[0m \u001b[35m/\u001b[0m* \n",
       "local.sushi.waiter_revenue_by_day *\u001b[35m/\u001b[0m\n",
       "WHERE\n",
       "  \u001b[32m\"waiter_revenue_by_day\"\u001b[0m.\u001b[32m\"event_date\"\u001b[0m = \u001b[1m(\u001b[0m\n",
       "    SELECT\n",
       "      \u001b[1;35mMAX\u001b[0m\u001b[1m(\u001b[0m\u001b[32m\"waiter_revenue_by_day\"\u001b[0m.\u001b[32m\"event_date\"\u001b[0m\u001b[1m)\u001b[0m AS \u001b[32m\"_col_0\"\u001b[0m\n",
       "    FROM \u001b[32m\"local\"\u001b[0m.\u001b[32m\"sqlmesh__sushi\"\u001b[0m.\u001b[32m\"sushi__waiter_revenue_by_day__200393305\"\u001b[0m AS \u001b[32m\"waiter_revenue_by_day\"\u001b[0m \u001b[35m/\u001b[0m* \n",
       "local.sushi.waiter_revenue_by_day *\u001b[35m/\u001b[0m\n",
       "  \u001b[1m)\u001b[0m\n",
       "ORDER BY\n",
       "  \u001b[32m\"revenue\"\u001b[0m DESC\n",
       "LIMIT \u001b[1;36m10\u001b[0m\n"
      ]
     },
     "metadata": {},
     "output_type": "display_data"
    }
   ],
   "source": [
    "%render sushi.top_waiters --no-format"
   ]
  },
  {
   "cell_type": "code",
   "execution_count": 14,
   "id": "bb381515-c214-4b85-83fd-136a1c2fb525",
   "metadata": {},
   "outputs": [
    {
     "data": {
      "text/html": [
       "<div>\n",
       "<style scoped>\n",
       "    .dataframe tbody tr th:only-of-type {\n",
       "        vertical-align: middle;\n",
       "    }\n",
       "\n",
       "    .dataframe tbody tr th {\n",
       "        vertical-align: top;\n",
       "    }\n",
       "\n",
       "    .dataframe thead th {\n",
       "        text-align: right;\n",
       "    }\n",
       "</style>\n",
       "<table border=\"1\" class=\"dataframe\">\n",
       "  <thead>\n",
       "    <tr style=\"text-align: right;\">\n",
       "      <th></th>\n",
       "      <th>waiter_id</th>\n",
       "      <th>revenue</th>\n",
       "    </tr>\n",
       "  </thead>\n",
       "  <tbody>\n",
       "    <tr>\n",
       "      <th>0</th>\n",
       "      <td>4</td>\n",
       "      <td>317.39</td>\n",
       "    </tr>\n",
       "    <tr>\n",
       "      <th>1</th>\n",
       "      <td>0</td>\n",
       "      <td>273.09</td>\n",
       "    </tr>\n",
       "    <tr>\n",
       "      <th>2</th>\n",
       "      <td>2</td>\n",
       "      <td>250.84</td>\n",
       "    </tr>\n",
       "    <tr>\n",
       "      <th>3</th>\n",
       "      <td>7</td>\n",
       "      <td>155.52</td>\n",
       "    </tr>\n",
       "    <tr>\n",
       "      <th>4</th>\n",
       "      <td>5</td>\n",
       "      <td>124.39</td>\n",
       "    </tr>\n",
       "    <tr>\n",
       "      <th>5</th>\n",
       "      <td>1</td>\n",
       "      <td>60.18</td>\n",
       "    </tr>\n",
       "    <tr>\n",
       "      <th>6</th>\n",
       "      <td>9</td>\n",
       "      <td>48.86</td>\n",
       "    </tr>\n",
       "    <tr>\n",
       "      <th>7</th>\n",
       "      <td>6</td>\n",
       "      <td>21.52</td>\n",
       "    </tr>\n",
       "  </tbody>\n",
       "</table>\n",
       "</div>"
      ],
      "text/plain": [
       "   waiter_id  revenue\n",
       "0          4   317.39\n",
       "1          0   273.09\n",
       "2          2   250.84\n",
       "3          7   155.52\n",
       "4          5   124.39\n",
       "5          1    60.18\n",
       "6          9    48.86\n",
       "7          6    21.52"
      ]
     },
     "metadata": {},
     "output_type": "display_data"
    }
   ],
   "source": [
    "%evaluate sushi.top_waiters"
   ]
  },
  {
   "cell_type": "code",
   "execution_count": null,
   "id": "9241c2a5-1ca6-42db-9219-b7fd9ae0f118",
   "metadata": {},
   "outputs": [],
   "source": [
    "# top_waiters = TARGET_MODEL_DIR / \"top_waiters.sql\"\n",
    "# top_waiters.write_text(\"\"\"/* View of top waiters. */\n",
    "# MODEL (\n",
    "#   name sushi.top_waiters,\n",
    "#   owner jen,\n",
    "#   audits (\n",
    "#     unique_values(columns=[waiter_id])\n",
    "#   ),\n",
    "#   grain waiter_id\n",
    "# );\n",
    "\n",
    "# SELECT\n",
    "#   waiter_id::INT AS waiter_id,\n",
    "#   revenue::DOUBLE AS revenue,\n",
    "#   1 as new_col\n",
    "# FROM sushi.waiter_revenue_by_day\n",
    "# WHERE\n",
    "#   event_date = (\n",
    "#     SELECT\n",
    "#       MAX(event_date)\n",
    "#     FROM sushi.waiter_revenue_by_day\n",
    "#   )\n",
    "# ORDER BY\n",
    "#   revenue DESC\n",
    "# LIMIT 10\n",
    "# \"\"\")"
   ]
  },
  {
   "cell_type": "code",
   "execution_count": 18,
   "id": "8cfeda05-a084-40a4-a874-5445c0e1e465",
   "metadata": {},
   "outputs": [
    {
     "data": {
      "text/html": [
       "<pre style=\"white-space:pre;overflow-x:auto;line-height:normal;font-family:Menlo,'DejaVu Sans Mono',consolas,'Courier New',monospace\">\n",
       "<span style=\"color: #008000; text-decoration-color: #008000\">Model `sushi.top_waiters` updated</span>\n",
       "\n",
       "</pre>\n"
      ],
      "text/plain": [
       "\n",
       "\u001b[32mModel `sushi.top_waiters` updated\u001b[0m\n",
       "\n"
      ]
     },
     "metadata": {},
     "output_type": "display_data"
    },
    {
     "data": {
      "text/html": [
       "<pre style=\"white-space:pre;overflow-x:auto;line-height:normal;font-family:Menlo,'DejaVu Sans Mono',consolas,'Courier New',monospace\"><span style=\"color: #66d9ef; text-decoration-color: #66d9ef; background-color: #272822\">SELECT</span><span style=\"background-color: #272822\">                                                                                                             </span>\n",
       "<span style=\"color: #f8f8f2; text-decoration-color: #f8f8f2; background-color: #272822\">  </span><span style=\"color: #66d9ef; text-decoration-color: #66d9ef; background-color: #272822\">CAST</span><span style=\"color: #f8f8f2; text-decoration-color: #f8f8f2; background-color: #272822\">(</span><span style=\"color: #e6db74; text-decoration-color: #e6db74; background-color: #272822\">\"waiter_revenue_by_day\"</span><span style=\"color: #f8f8f2; text-decoration-color: #f8f8f2; background-color: #272822\">.</span><span style=\"color: #e6db74; text-decoration-color: #e6db74; background-color: #272822\">\"waiter_id\"</span><span style=\"color: #f8f8f2; text-decoration-color: #f8f8f2; background-color: #272822\"> </span><span style=\"color: #66d9ef; text-decoration-color: #66d9ef; background-color: #272822\">AS</span><span style=\"color: #f8f8f2; text-decoration-color: #f8f8f2; background-color: #272822\"> INT) </span><span style=\"color: #66d9ef; text-decoration-color: #66d9ef; background-color: #272822\">AS</span><span style=\"color: #f8f8f2; text-decoration-color: #f8f8f2; background-color: #272822\"> </span><span style=\"color: #e6db74; text-decoration-color: #e6db74; background-color: #272822\">\"waiter_id\"</span><span style=\"color: #f8f8f2; text-decoration-color: #f8f8f2; background-color: #272822\">,</span><span style=\"background-color: #272822\">                                                 </span>\n",
       "<span style=\"color: #f8f8f2; text-decoration-color: #f8f8f2; background-color: #272822\">  </span><span style=\"color: #66d9ef; text-decoration-color: #66d9ef; background-color: #272822\">CAST</span><span style=\"color: #f8f8f2; text-decoration-color: #f8f8f2; background-color: #272822\">(</span><span style=\"color: #e6db74; text-decoration-color: #e6db74; background-color: #272822\">\"waiter_revenue_by_day\"</span><span style=\"color: #f8f8f2; text-decoration-color: #f8f8f2; background-color: #272822\">.</span><span style=\"color: #e6db74; text-decoration-color: #e6db74; background-color: #272822\">\"revenue\"</span><span style=\"color: #f8f8f2; text-decoration-color: #f8f8f2; background-color: #272822\"> </span><span style=\"color: #66d9ef; text-decoration-color: #66d9ef; background-color: #272822\">AS</span><span style=\"color: #f8f8f2; text-decoration-color: #f8f8f2; background-color: #272822\"> DOUBLE) </span><span style=\"color: #66d9ef; text-decoration-color: #66d9ef; background-color: #272822\">AS</span><span style=\"color: #f8f8f2; text-decoration-color: #f8f8f2; background-color: #272822\"> </span><span style=\"color: #e6db74; text-decoration-color: #e6db74; background-color: #272822\">\"revenue\"</span><span style=\"color: #f8f8f2; text-decoration-color: #f8f8f2; background-color: #272822\">,</span><span style=\"background-color: #272822\">                                                  </span>\n",
       "<span style=\"color: #f8f8f2; text-decoration-color: #f8f8f2; background-color: #272822\">  </span><span style=\"color: #66d9ef; text-decoration-color: #66d9ef; background-color: #272822\">CAST</span><span style=\"color: #f8f8f2; text-decoration-color: #f8f8f2; background-color: #272822\">(</span><span style=\"color: #ae81ff; text-decoration-color: #ae81ff; background-color: #272822\">1</span><span style=\"color: #f8f8f2; text-decoration-color: #f8f8f2; background-color: #272822\"> </span><span style=\"color: #66d9ef; text-decoration-color: #66d9ef; background-color: #272822\">AS</span><span style=\"color: #f8f8f2; text-decoration-color: #f8f8f2; background-color: #272822\"> INT) </span><span style=\"color: #66d9ef; text-decoration-color: #66d9ef; background-color: #272822\">AS</span><span style=\"color: #f8f8f2; text-decoration-color: #f8f8f2; background-color: #272822\"> </span><span style=\"color: #e6db74; text-decoration-color: #e6db74; background-color: #272822\">\"new_col\"</span><span style=\"background-color: #272822\">                                                                                      </span>\n",
       "<span style=\"color: #66d9ef; text-decoration-color: #66d9ef; background-color: #272822\">FROM</span><span style=\"color: #f8f8f2; text-decoration-color: #f8f8f2; background-color: #272822\"> </span><span style=\"color: #e6db74; text-decoration-color: #e6db74; background-color: #272822\">\"local\"</span><span style=\"color: #f8f8f2; text-decoration-color: #f8f8f2; background-color: #272822\">.</span><span style=\"color: #e6db74; text-decoration-color: #e6db74; background-color: #272822\">\"sqlmesh__sushi\"</span><span style=\"color: #f8f8f2; text-decoration-color: #f8f8f2; background-color: #272822\">.</span><span style=\"color: #e6db74; text-decoration-color: #e6db74; background-color: #272822\">\"sushi__waiter_revenue_by_day__200393305\"</span><span style=\"color: #f8f8f2; text-decoration-color: #f8f8f2; background-color: #272822\"> </span><span style=\"color: #66d9ef; text-decoration-color: #66d9ef; background-color: #272822\">AS</span><span style=\"color: #f8f8f2; text-decoration-color: #f8f8f2; background-color: #272822\"> </span><span style=\"color: #e6db74; text-decoration-color: #e6db74; background-color: #272822\">\"waiter_revenue_by_day\"</span><span style=\"color: #f8f8f2; text-decoration-color: #f8f8f2; background-color: #272822\"> </span><span style=\"color: #959077; text-decoration-color: #959077; background-color: #272822\">/* </span><span style=\"background-color: #272822\">             </span>\n",
       "<span style=\"color: #959077; text-decoration-color: #959077; background-color: #272822\">local.sushi.waiter_revenue_by_day */</span><span style=\"background-color: #272822\">                                                                               </span>\n",
       "<span style=\"color: #66d9ef; text-decoration-color: #66d9ef; background-color: #272822\">WHERE</span><span style=\"background-color: #272822\">                                                                                                              </span>\n",
       "<span style=\"color: #f8f8f2; text-decoration-color: #f8f8f2; background-color: #272822\">  </span><span style=\"color: #e6db74; text-decoration-color: #e6db74; background-color: #272822\">\"waiter_revenue_by_day\"</span><span style=\"color: #f8f8f2; text-decoration-color: #f8f8f2; background-color: #272822\">.</span><span style=\"color: #e6db74; text-decoration-color: #e6db74; background-color: #272822\">\"event_date\"</span><span style=\"color: #f8f8f2; text-decoration-color: #f8f8f2; background-color: #272822\"> </span><span style=\"color: #ff4689; text-decoration-color: #ff4689; background-color: #272822\">=</span><span style=\"color: #f8f8f2; text-decoration-color: #f8f8f2; background-color: #272822\"> (</span><span style=\"background-color: #272822\">                                                                         </span>\n",
       "<span style=\"color: #f8f8f2; text-decoration-color: #f8f8f2; background-color: #272822\">    </span><span style=\"color: #66d9ef; text-decoration-color: #66d9ef; background-color: #272822\">SELECT</span><span style=\"background-color: #272822\">                                                                                                         </span>\n",
       "<span style=\"color: #f8f8f2; text-decoration-color: #f8f8f2; background-color: #272822\">      </span><span style=\"color: #66d9ef; text-decoration-color: #66d9ef; background-color: #272822\">MAX</span><span style=\"color: #f8f8f2; text-decoration-color: #f8f8f2; background-color: #272822\">(</span><span style=\"color: #e6db74; text-decoration-color: #e6db74; background-color: #272822\">\"waiter_revenue_by_day\"</span><span style=\"color: #f8f8f2; text-decoration-color: #f8f8f2; background-color: #272822\">.</span><span style=\"color: #e6db74; text-decoration-color: #e6db74; background-color: #272822\">\"event_date\"</span><span style=\"color: #f8f8f2; text-decoration-color: #f8f8f2; background-color: #272822\">) </span><span style=\"color: #66d9ef; text-decoration-color: #66d9ef; background-color: #272822\">AS</span><span style=\"color: #f8f8f2; text-decoration-color: #f8f8f2; background-color: #272822\"> </span><span style=\"color: #e6db74; text-decoration-color: #e6db74; background-color: #272822\">\"_col_0\"</span><span style=\"background-color: #272822\">                                                        </span>\n",
       "<span style=\"color: #f8f8f2; text-decoration-color: #f8f8f2; background-color: #272822\">    </span><span style=\"color: #66d9ef; text-decoration-color: #66d9ef; background-color: #272822\">FROM</span><span style=\"color: #f8f8f2; text-decoration-color: #f8f8f2; background-color: #272822\"> </span><span style=\"color: #e6db74; text-decoration-color: #e6db74; background-color: #272822\">\"local\"</span><span style=\"color: #f8f8f2; text-decoration-color: #f8f8f2; background-color: #272822\">.</span><span style=\"color: #e6db74; text-decoration-color: #e6db74; background-color: #272822\">\"sqlmesh__sushi\"</span><span style=\"color: #f8f8f2; text-decoration-color: #f8f8f2; background-color: #272822\">.</span><span style=\"color: #e6db74; text-decoration-color: #e6db74; background-color: #272822\">\"sushi__waiter_revenue_by_day__200393305\"</span><span style=\"color: #f8f8f2; text-decoration-color: #f8f8f2; background-color: #272822\"> </span><span style=\"color: #66d9ef; text-decoration-color: #66d9ef; background-color: #272822\">AS</span><span style=\"color: #f8f8f2; text-decoration-color: #f8f8f2; background-color: #272822\"> </span><span style=\"color: #e6db74; text-decoration-color: #e6db74; background-color: #272822\">\"waiter_revenue_by_day\"</span><span style=\"color: #f8f8f2; text-decoration-color: #f8f8f2; background-color: #272822\"> </span><span style=\"color: #959077; text-decoration-color: #959077; background-color: #272822\">/* </span><span style=\"background-color: #272822\">         </span>\n",
       "<span style=\"color: #959077; text-decoration-color: #959077; background-color: #272822\">local.sushi.waiter_revenue_by_day */</span><span style=\"background-color: #272822\">                                                                               </span>\n",
       "<span style=\"color: #f8f8f2; text-decoration-color: #f8f8f2; background-color: #272822\">  )</span><span style=\"background-color: #272822\">                                                                                                                </span>\n",
       "<span style=\"color: #66d9ef; text-decoration-color: #66d9ef; background-color: #272822\">ORDER</span><span style=\"color: #f8f8f2; text-decoration-color: #f8f8f2; background-color: #272822\"> </span><span style=\"color: #66d9ef; text-decoration-color: #66d9ef; background-color: #272822\">BY</span><span style=\"background-color: #272822\">                                                                                                           </span>\n",
       "<span style=\"color: #f8f8f2; text-decoration-color: #f8f8f2; background-color: #272822\">  </span><span style=\"color: #e6db74; text-decoration-color: #e6db74; background-color: #272822\">\"revenue\"</span><span style=\"color: #f8f8f2; text-decoration-color: #f8f8f2; background-color: #272822\"> </span><span style=\"color: #66d9ef; text-decoration-color: #66d9ef; background-color: #272822\">DESC</span><span style=\"background-color: #272822\">                                                                                                   </span>\n",
       "<span style=\"color: #66d9ef; text-decoration-color: #66d9ef; background-color: #272822\">LIMIT</span><span style=\"color: #f8f8f2; text-decoration-color: #f8f8f2; background-color: #272822\"> </span><span style=\"color: #ae81ff; text-decoration-color: #ae81ff; background-color: #272822\">10</span><span style=\"background-color: #272822\">                                                                                                           </span>\n",
       "</pre>\n"
      ],
      "text/plain": [
       "\u001b[38;2;102;217;239;48;2;39;40;34mSELECT\u001b[0m\u001b[48;2;39;40;34m                                                                                                             \u001b[0m\n",
       "\u001b[38;2;248;248;242;48;2;39;40;34m  \u001b[0m\u001b[38;2;102;217;239;48;2;39;40;34mCAST\u001b[0m\u001b[38;2;248;248;242;48;2;39;40;34m(\u001b[0m\u001b[38;2;230;219;116;48;2;39;40;34m\"waiter_revenue_by_day\"\u001b[0m\u001b[38;2;248;248;242;48;2;39;40;34m.\u001b[0m\u001b[38;2;230;219;116;48;2;39;40;34m\"waiter_id\"\u001b[0m\u001b[38;2;248;248;242;48;2;39;40;34m \u001b[0m\u001b[38;2;102;217;239;48;2;39;40;34mAS\u001b[0m\u001b[38;2;248;248;242;48;2;39;40;34m \u001b[0m\u001b[38;2;248;248;242;48;2;39;40;34mINT\u001b[0m\u001b[38;2;248;248;242;48;2;39;40;34m)\u001b[0m\u001b[38;2;248;248;242;48;2;39;40;34m \u001b[0m\u001b[38;2;102;217;239;48;2;39;40;34mAS\u001b[0m\u001b[38;2;248;248;242;48;2;39;40;34m \u001b[0m\u001b[38;2;230;219;116;48;2;39;40;34m\"waiter_id\"\u001b[0m\u001b[38;2;248;248;242;48;2;39;40;34m,\u001b[0m\u001b[48;2;39;40;34m                                                 \u001b[0m\n",
       "\u001b[38;2;248;248;242;48;2;39;40;34m  \u001b[0m\u001b[38;2;102;217;239;48;2;39;40;34mCAST\u001b[0m\u001b[38;2;248;248;242;48;2;39;40;34m(\u001b[0m\u001b[38;2;230;219;116;48;2;39;40;34m\"waiter_revenue_by_day\"\u001b[0m\u001b[38;2;248;248;242;48;2;39;40;34m.\u001b[0m\u001b[38;2;230;219;116;48;2;39;40;34m\"revenue\"\u001b[0m\u001b[38;2;248;248;242;48;2;39;40;34m \u001b[0m\u001b[38;2;102;217;239;48;2;39;40;34mAS\u001b[0m\u001b[38;2;248;248;242;48;2;39;40;34m \u001b[0m\u001b[38;2;248;248;242;48;2;39;40;34mDOUBLE\u001b[0m\u001b[38;2;248;248;242;48;2;39;40;34m)\u001b[0m\u001b[38;2;248;248;242;48;2;39;40;34m \u001b[0m\u001b[38;2;102;217;239;48;2;39;40;34mAS\u001b[0m\u001b[38;2;248;248;242;48;2;39;40;34m \u001b[0m\u001b[38;2;230;219;116;48;2;39;40;34m\"revenue\"\u001b[0m\u001b[38;2;248;248;242;48;2;39;40;34m,\u001b[0m\u001b[48;2;39;40;34m                                                  \u001b[0m\n",
       "\u001b[38;2;248;248;242;48;2;39;40;34m  \u001b[0m\u001b[38;2;102;217;239;48;2;39;40;34mCAST\u001b[0m\u001b[38;2;248;248;242;48;2;39;40;34m(\u001b[0m\u001b[38;2;174;129;255;48;2;39;40;34m1\u001b[0m\u001b[38;2;248;248;242;48;2;39;40;34m \u001b[0m\u001b[38;2;102;217;239;48;2;39;40;34mAS\u001b[0m\u001b[38;2;248;248;242;48;2;39;40;34m \u001b[0m\u001b[38;2;248;248;242;48;2;39;40;34mINT\u001b[0m\u001b[38;2;248;248;242;48;2;39;40;34m)\u001b[0m\u001b[38;2;248;248;242;48;2;39;40;34m \u001b[0m\u001b[38;2;102;217;239;48;2;39;40;34mAS\u001b[0m\u001b[38;2;248;248;242;48;2;39;40;34m \u001b[0m\u001b[38;2;230;219;116;48;2;39;40;34m\"new_col\"\u001b[0m\u001b[48;2;39;40;34m                                                                                      \u001b[0m\n",
       "\u001b[38;2;102;217;239;48;2;39;40;34mFROM\u001b[0m\u001b[38;2;248;248;242;48;2;39;40;34m \u001b[0m\u001b[38;2;230;219;116;48;2;39;40;34m\"local\"\u001b[0m\u001b[38;2;248;248;242;48;2;39;40;34m.\u001b[0m\u001b[38;2;230;219;116;48;2;39;40;34m\"sqlmesh__sushi\"\u001b[0m\u001b[38;2;248;248;242;48;2;39;40;34m.\u001b[0m\u001b[38;2;230;219;116;48;2;39;40;34m\"sushi__waiter_revenue_by_day__200393305\"\u001b[0m\u001b[38;2;248;248;242;48;2;39;40;34m \u001b[0m\u001b[38;2;102;217;239;48;2;39;40;34mAS\u001b[0m\u001b[38;2;248;248;242;48;2;39;40;34m \u001b[0m\u001b[38;2;230;219;116;48;2;39;40;34m\"waiter_revenue_by_day\"\u001b[0m\u001b[38;2;248;248;242;48;2;39;40;34m \u001b[0m\u001b[38;2;149;144;119;48;2;39;40;34m/*\u001b[0m\u001b[38;2;149;144;119;48;2;39;40;34m \u001b[0m\u001b[48;2;39;40;34m             \u001b[0m\n",
       "\u001b[38;2;149;144;119;48;2;39;40;34mlocal.sushi.waiter_revenue_by_day \u001b[0m\u001b[38;2;149;144;119;48;2;39;40;34m*/\u001b[0m\u001b[48;2;39;40;34m                                                                               \u001b[0m\n",
       "\u001b[38;2;102;217;239;48;2;39;40;34mWHERE\u001b[0m\u001b[48;2;39;40;34m                                                                                                              \u001b[0m\n",
       "\u001b[38;2;248;248;242;48;2;39;40;34m  \u001b[0m\u001b[38;2;230;219;116;48;2;39;40;34m\"waiter_revenue_by_day\"\u001b[0m\u001b[38;2;248;248;242;48;2;39;40;34m.\u001b[0m\u001b[38;2;230;219;116;48;2;39;40;34m\"event_date\"\u001b[0m\u001b[38;2;248;248;242;48;2;39;40;34m \u001b[0m\u001b[38;2;255;70;137;48;2;39;40;34m=\u001b[0m\u001b[38;2;248;248;242;48;2;39;40;34m \u001b[0m\u001b[38;2;248;248;242;48;2;39;40;34m(\u001b[0m\u001b[48;2;39;40;34m                                                                         \u001b[0m\n",
       "\u001b[38;2;248;248;242;48;2;39;40;34m    \u001b[0m\u001b[38;2;102;217;239;48;2;39;40;34mSELECT\u001b[0m\u001b[48;2;39;40;34m                                                                                                         \u001b[0m\n",
       "\u001b[38;2;248;248;242;48;2;39;40;34m      \u001b[0m\u001b[38;2;102;217;239;48;2;39;40;34mMAX\u001b[0m\u001b[38;2;248;248;242;48;2;39;40;34m(\u001b[0m\u001b[38;2;230;219;116;48;2;39;40;34m\"waiter_revenue_by_day\"\u001b[0m\u001b[38;2;248;248;242;48;2;39;40;34m.\u001b[0m\u001b[38;2;230;219;116;48;2;39;40;34m\"event_date\"\u001b[0m\u001b[38;2;248;248;242;48;2;39;40;34m)\u001b[0m\u001b[38;2;248;248;242;48;2;39;40;34m \u001b[0m\u001b[38;2;102;217;239;48;2;39;40;34mAS\u001b[0m\u001b[38;2;248;248;242;48;2;39;40;34m \u001b[0m\u001b[38;2;230;219;116;48;2;39;40;34m\"_col_0\"\u001b[0m\u001b[48;2;39;40;34m                                                        \u001b[0m\n",
       "\u001b[38;2;248;248;242;48;2;39;40;34m    \u001b[0m\u001b[38;2;102;217;239;48;2;39;40;34mFROM\u001b[0m\u001b[38;2;248;248;242;48;2;39;40;34m \u001b[0m\u001b[38;2;230;219;116;48;2;39;40;34m\"local\"\u001b[0m\u001b[38;2;248;248;242;48;2;39;40;34m.\u001b[0m\u001b[38;2;230;219;116;48;2;39;40;34m\"sqlmesh__sushi\"\u001b[0m\u001b[38;2;248;248;242;48;2;39;40;34m.\u001b[0m\u001b[38;2;230;219;116;48;2;39;40;34m\"sushi__waiter_revenue_by_day__200393305\"\u001b[0m\u001b[38;2;248;248;242;48;2;39;40;34m \u001b[0m\u001b[38;2;102;217;239;48;2;39;40;34mAS\u001b[0m\u001b[38;2;248;248;242;48;2;39;40;34m \u001b[0m\u001b[38;2;230;219;116;48;2;39;40;34m\"waiter_revenue_by_day\"\u001b[0m\u001b[38;2;248;248;242;48;2;39;40;34m \u001b[0m\u001b[38;2;149;144;119;48;2;39;40;34m/*\u001b[0m\u001b[38;2;149;144;119;48;2;39;40;34m \u001b[0m\u001b[48;2;39;40;34m         \u001b[0m\n",
       "\u001b[38;2;149;144;119;48;2;39;40;34mlocal.sushi.waiter_revenue_by_day \u001b[0m\u001b[38;2;149;144;119;48;2;39;40;34m*/\u001b[0m\u001b[48;2;39;40;34m                                                                               \u001b[0m\n",
       "\u001b[38;2;248;248;242;48;2;39;40;34m  \u001b[0m\u001b[38;2;248;248;242;48;2;39;40;34m)\u001b[0m\u001b[48;2;39;40;34m                                                                                                                \u001b[0m\n",
       "\u001b[38;2;102;217;239;48;2;39;40;34mORDER\u001b[0m\u001b[38;2;248;248;242;48;2;39;40;34m \u001b[0m\u001b[38;2;102;217;239;48;2;39;40;34mBY\u001b[0m\u001b[48;2;39;40;34m                                                                                                           \u001b[0m\n",
       "\u001b[38;2;248;248;242;48;2;39;40;34m  \u001b[0m\u001b[38;2;230;219;116;48;2;39;40;34m\"revenue\"\u001b[0m\u001b[38;2;248;248;242;48;2;39;40;34m \u001b[0m\u001b[38;2;102;217;239;48;2;39;40;34mDESC\u001b[0m\u001b[48;2;39;40;34m                                                                                                   \u001b[0m\n",
       "\u001b[38;2;102;217;239;48;2;39;40;34mLIMIT\u001b[0m\u001b[38;2;248;248;242;48;2;39;40;34m \u001b[0m\u001b[38;2;174;129;255;48;2;39;40;34m10\u001b[0m\u001b[48;2;39;40;34m                                                                                                           \u001b[0m\n"
      ]
     },
     "metadata": {},
     "output_type": "display_data"
    }
   ],
   "source": [
    "%%model sushi.top_waiters\n",
    "/* View of top waiters. */\n",
    "MODEL (\n",
    "  name sushi.top_waiters,\n",
    "  owner jen,\n",
    "  dialect duckdb,\n",
    "  audits (UNIQUE_VALUES('columns' = (\n",
    "    waiter_id\n",
    "  ))),\n",
    "  grains (waiter_id)\n",
    ");\n",
    "\n",
    "SELECT\n",
    "  waiter_id::INT AS waiter_id,\n",
    "  revenue::DOUBLE AS revenue,\n",
    "  1::INT AS new_col\n",
    "FROM sushi.waiter_revenue_by_day\n",
    "WHERE\n",
    "  event_date = (\n",
    "    SELECT\n",
    "      MAX(event_date)\n",
    "    FROM sushi.waiter_revenue_by_day\n",
    "  )\n",
    "ORDER BY\n",
    "  revenue DESC\n",
    "LIMIT 10"
   ]
  },
  {
   "cell_type": "code",
   "execution_count": 19,
   "id": "bc9cc893-5954-4195-a0bc-785244678e42",
   "metadata": {},
   "outputs": [
    {
     "data": {
      "text/html": [
       "<pre style=\"white-space:pre;overflow-x:auto;line-height:normal;font-family:Menlo,'DejaVu Sans Mono',consolas,'Courier New',monospace\"><span style=\"font-weight: bold\">Summary of differences against `prod`:</span>\n",
       "</pre>\n"
      ],
      "text/plain": [
       "\u001b[1mSummary of differences against `prod`:\u001b[0m\n"
      ]
     },
     "metadata": {},
     "output_type": "display_data"
    },
    {
     "data": {
      "text/html": [
       "<pre style=\"white-space:pre;overflow-x:auto;line-height:normal;font-family:Menlo,'DejaVu Sans Mono',consolas,'Courier New',monospace\"><span style=\"font-weight: bold\">Models:</span>\n",
       "└── <span style=\"color: #800080; text-decoration-color: #800080; font-weight: bold\">Directly Modified:</span>\n",
       "    └── <span style=\"color: #800080; text-decoration-color: #800080\">sushi.top_waiters</span>\n",
       "</pre>\n"
      ],
      "text/plain": [
       "\u001b[1mModels:\u001b[0m\n",
       "└── \u001b[1;35mDirectly Modified:\u001b[0m\n",
       "    └── \u001b[35msushi.top_waiters\u001b[0m\n"
      ]
     },
     "metadata": {},
     "output_type": "display_data"
    }
   ],
   "source": [
    "%diff prod"
   ]
  },
  {
   "cell_type": "code",
   "execution_count": 23,
   "id": "ae7ffb02-4ab1-48ca-949c-908f0129c0a6",
   "metadata": {},
   "outputs": [
    {
     "name": "stderr",
     "output_type": "stream",
     "text": [
      "/home/butch2/play/study/learn-sqlmesh/sqlmesh2/sqlmesh/core/test/definition.py:185: FutureWarning: errors='ignore' is deprecated and will raise in a future version. Use to_datetime without passing `errors` and catch exceptions explicitly instead\n",
      "  expected[col] = pd.to_datetime(expected[col], errors=\"ignore\").dt.date  # type: ignore\n"
     ]
    },
    {
     "data": {
      "application/vnd.jupyter.widget-view+json": {
       "model_id": "dac79fe204964dd9966cf3f6c2048896",
       "version_major": 2,
       "version_minor": 0
      },
      "text/plain": [
       "HTML(value='<span style=\"font-size: 11px; font-weight: bold; font-family: Menlo,\\'DejaVu Sans Mono\\',consolas,…"
      ]
     },
     "metadata": {},
     "output_type": "display_data"
    },
    {
     "data": {
      "text/html": [
       "<pre style=\"white-space:pre;overflow-x:auto;line-height:normal;font-family:Menlo,'DejaVu Sans Mono',consolas,'Courier New',monospace\"><span style=\"font-weight: bold\">Summary of differences against `dev`:</span>\n",
       "</pre>\n"
      ],
      "text/plain": [
       "\u001b[1mSummary of differences against `dev`:\u001b[0m\n"
      ]
     },
     "metadata": {},
     "output_type": "display_data"
    },
    {
     "data": {
      "text/html": [
       "<pre style=\"white-space:pre;overflow-x:auto;line-height:normal;font-family:Menlo,'DejaVu Sans Mono',consolas,'Courier New',monospace\"><span style=\"font-weight: bold\">Models:</span>\n",
       "└── <span style=\"color: #800080; text-decoration-color: #800080; font-weight: bold\">Directly Modified:</span>\n",
       "    └── <span style=\"color: #800080; text-decoration-color: #800080\">sushi__dev.top_waiters</span>\n",
       "</pre>\n"
      ],
      "text/plain": [
       "\u001b[1mModels:\u001b[0m\n",
       "└── \u001b[1;35mDirectly Modified:\u001b[0m\n",
       "    └── \u001b[35msushi__dev.top_waiters\u001b[0m\n"
      ]
     },
     "metadata": {},
     "output_type": "display_data"
    },
    {
     "data": {
      "text/html": [
       "<pre style=\"white-space:pre;overflow-x:auto;line-height:normal;font-family:Menlo,'DejaVu Sans Mono',consolas,'Courier New',monospace\"><span style=\"color: #959077; text-decoration-color: #959077; background-color: #272822\">--- </span><span style=\"background-color: #272822\">                                                                                                               </span>\n",
       "<span style=\"background-color: #272822\">                                                                                                                   </span>\n",
       "<span style=\"color: #ff4689; text-decoration-color: #ff4689; background-color: #272822\">+++</span><span style=\"color: #f8f8f2; text-decoration-color: #f8f8f2; background-color: #272822\"> </span><span style=\"background-color: #272822\">                                                                                                               </span>\n",
       "<span style=\"background-color: #272822\">                                                                                                                   </span>\n",
       "<span style=\"color: #ff4689; text-decoration-color: #ff4689; background-color: #272822\">@@</span><span style=\"color: #f8f8f2; text-decoration-color: #f8f8f2; background-color: #272822\"> </span><span style=\"color: #ff4689; text-decoration-color: #ff4689; background-color: #272822\">-</span><span style=\"color: #ae81ff; text-decoration-color: #ae81ff; background-color: #272822\">9</span><span style=\"color: #f8f8f2; text-decoration-color: #f8f8f2; background-color: #272822\">,</span><span style=\"color: #ae81ff; text-decoration-color: #ae81ff; background-color: #272822\">7</span><span style=\"color: #f8f8f2; text-decoration-color: #f8f8f2; background-color: #272822\"> </span><span style=\"color: #ff4689; text-decoration-color: #ff4689; background-color: #272822\">+</span><span style=\"color: #ae81ff; text-decoration-color: #ae81ff; background-color: #272822\">9</span><span style=\"color: #f8f8f2; text-decoration-color: #f8f8f2; background-color: #272822\">,</span><span style=\"color: #ae81ff; text-decoration-color: #ae81ff; background-color: #272822\">8</span><span style=\"color: #f8f8f2; text-decoration-color: #f8f8f2; background-color: #272822\"> </span><span style=\"color: #ff4689; text-decoration-color: #ff4689; background-color: #272822\">@@</span><span style=\"background-color: #272822\">                                                                                                    </span>\n",
       "<span style=\"background-color: #272822\">                                                                                                                   </span>\n",
       "<span style=\"color: #f8f8f2; text-decoration-color: #f8f8f2; background-color: #272822\"> )</span><span style=\"background-color: #272822\">                                                                                                                 </span>\n",
       "<span style=\"color: #f8f8f2; text-decoration-color: #f8f8f2; background-color: #272822\"> </span><span style=\"color: #66d9ef; text-decoration-color: #66d9ef; background-color: #272822\">SELECT</span><span style=\"background-color: #272822\">                                                                                                            </span>\n",
       "<span style=\"color: #f8f8f2; text-decoration-color: #f8f8f2; background-color: #272822\">   </span><span style=\"color: #66d9ef; text-decoration-color: #66d9ef; background-color: #272822\">CAST</span><span style=\"color: #f8f8f2; text-decoration-color: #f8f8f2; background-color: #272822\">(waiter_id </span><span style=\"color: #66d9ef; text-decoration-color: #66d9ef; background-color: #272822\">AS</span><span style=\"color: #f8f8f2; text-decoration-color: #f8f8f2; background-color: #272822\"> INT) </span><span style=\"color: #66d9ef; text-decoration-color: #66d9ef; background-color: #272822\">AS</span><span style=\"color: #f8f8f2; text-decoration-color: #f8f8f2; background-color: #272822\"> waiter_id,</span><span style=\"background-color: #272822\">                                                                            </span>\n",
       "<span style=\"color: #ff4689; text-decoration-color: #ff4689; background-color: #272822\">-</span><span style=\"color: #f8f8f2; text-decoration-color: #f8f8f2; background-color: #272822\">  </span><span style=\"color: #66d9ef; text-decoration-color: #66d9ef; background-color: #272822\">CAST</span><span style=\"color: #f8f8f2; text-decoration-color: #f8f8f2; background-color: #272822\">(revenue </span><span style=\"color: #66d9ef; text-decoration-color: #66d9ef; background-color: #272822\">AS</span><span style=\"color: #f8f8f2; text-decoration-color: #f8f8f2; background-color: #272822\"> DOUBLE) </span><span style=\"color: #66d9ef; text-decoration-color: #66d9ef; background-color: #272822\">AS</span><span style=\"color: #f8f8f2; text-decoration-color: #f8f8f2; background-color: #272822\"> revenue</span><span style=\"background-color: #272822\">                                                                              </span>\n",
       "<span style=\"color: #ff4689; text-decoration-color: #ff4689; background-color: #272822\">+</span><span style=\"color: #f8f8f2; text-decoration-color: #f8f8f2; background-color: #272822\">  </span><span style=\"color: #66d9ef; text-decoration-color: #66d9ef; background-color: #272822\">CAST</span><span style=\"color: #f8f8f2; text-decoration-color: #f8f8f2; background-color: #272822\">(revenue </span><span style=\"color: #66d9ef; text-decoration-color: #66d9ef; background-color: #272822\">AS</span><span style=\"color: #f8f8f2; text-decoration-color: #f8f8f2; background-color: #272822\"> DOUBLE) </span><span style=\"color: #66d9ef; text-decoration-color: #66d9ef; background-color: #272822\">AS</span><span style=\"color: #f8f8f2; text-decoration-color: #f8f8f2; background-color: #272822\"> revenue,</span><span style=\"background-color: #272822\">                                                                             </span>\n",
       "<span style=\"color: #ff4689; text-decoration-color: #ff4689; background-color: #272822\">+</span><span style=\"color: #f8f8f2; text-decoration-color: #f8f8f2; background-color: #272822\">  </span><span style=\"color: #66d9ef; text-decoration-color: #66d9ef; background-color: #272822\">CAST</span><span style=\"color: #f8f8f2; text-decoration-color: #f8f8f2; background-color: #272822\">(</span><span style=\"color: #ae81ff; text-decoration-color: #ae81ff; background-color: #272822\">1</span><span style=\"color: #f8f8f2; text-decoration-color: #f8f8f2; background-color: #272822\"> </span><span style=\"color: #66d9ef; text-decoration-color: #66d9ef; background-color: #272822\">AS</span><span style=\"color: #f8f8f2; text-decoration-color: #f8f8f2; background-color: #272822\"> INT) </span><span style=\"color: #66d9ef; text-decoration-color: #66d9ef; background-color: #272822\">AS</span><span style=\"color: #f8f8f2; text-decoration-color: #f8f8f2; background-color: #272822\"> new_col</span><span style=\"background-color: #272822\">                                                                                       </span>\n",
       "<span style=\"color: #f8f8f2; text-decoration-color: #f8f8f2; background-color: #272822\"> </span><span style=\"color: #66d9ef; text-decoration-color: #66d9ef; background-color: #272822\">FROM</span><span style=\"color: #f8f8f2; text-decoration-color: #f8f8f2; background-color: #272822\"> sushi.waiter_revenue_by_day</span><span style=\"background-color: #272822\">                                                                                  </span>\n",
       "<span style=\"color: #f8f8f2; text-decoration-color: #f8f8f2; background-color: #272822\"> </span><span style=\"color: #66d9ef; text-decoration-color: #66d9ef; background-color: #272822\">WHERE</span><span style=\"background-color: #272822\">                                                                                                             </span>\n",
       "<span style=\"color: #f8f8f2; text-decoration-color: #f8f8f2; background-color: #272822\">   event_date </span><span style=\"color: #ff4689; text-decoration-color: #ff4689; background-color: #272822\">=</span><span style=\"color: #f8f8f2; text-decoration-color: #f8f8f2; background-color: #272822\"> (</span><span style=\"background-color: #272822\">                                                                                                  </span>\n",
       "</pre>\n"
      ],
      "text/plain": [
       "\u001b[38;2;149;144;119;48;2;39;40;34m--- \u001b[0m\u001b[48;2;39;40;34m                                                                                                               \u001b[0m\n",
       "\u001b[48;2;39;40;34m                                                                                                                   \u001b[0m\n",
       "\u001b[38;2;255;70;137;48;2;39;40;34m+\u001b[0m\u001b[38;2;255;70;137;48;2;39;40;34m+\u001b[0m\u001b[38;2;255;70;137;48;2;39;40;34m+\u001b[0m\u001b[38;2;248;248;242;48;2;39;40;34m \u001b[0m\u001b[48;2;39;40;34m                                                                                                               \u001b[0m\n",
       "\u001b[48;2;39;40;34m                                                                                                                   \u001b[0m\n",
       "\u001b[38;2;255;70;137;48;2;39;40;34m@\u001b[0m\u001b[38;2;255;70;137;48;2;39;40;34m@\u001b[0m\u001b[38;2;248;248;242;48;2;39;40;34m \u001b[0m\u001b[38;2;255;70;137;48;2;39;40;34m-\u001b[0m\u001b[38;2;174;129;255;48;2;39;40;34m9\u001b[0m\u001b[38;2;248;248;242;48;2;39;40;34m,\u001b[0m\u001b[38;2;174;129;255;48;2;39;40;34m7\u001b[0m\u001b[38;2;248;248;242;48;2;39;40;34m \u001b[0m\u001b[38;2;255;70;137;48;2;39;40;34m+\u001b[0m\u001b[38;2;174;129;255;48;2;39;40;34m9\u001b[0m\u001b[38;2;248;248;242;48;2;39;40;34m,\u001b[0m\u001b[38;2;174;129;255;48;2;39;40;34m8\u001b[0m\u001b[38;2;248;248;242;48;2;39;40;34m \u001b[0m\u001b[38;2;255;70;137;48;2;39;40;34m@\u001b[0m\u001b[38;2;255;70;137;48;2;39;40;34m@\u001b[0m\u001b[48;2;39;40;34m                                                                                                    \u001b[0m\n",
       "\u001b[48;2;39;40;34m                                                                                                                   \u001b[0m\n",
       "\u001b[38;2;248;248;242;48;2;39;40;34m \u001b[0m\u001b[38;2;248;248;242;48;2;39;40;34m)\u001b[0m\u001b[48;2;39;40;34m                                                                                                                 \u001b[0m\n",
       "\u001b[38;2;248;248;242;48;2;39;40;34m \u001b[0m\u001b[38;2;102;217;239;48;2;39;40;34mSELECT\u001b[0m\u001b[48;2;39;40;34m                                                                                                            \u001b[0m\n",
       "\u001b[38;2;248;248;242;48;2;39;40;34m   \u001b[0m\u001b[38;2;102;217;239;48;2;39;40;34mCAST\u001b[0m\u001b[38;2;248;248;242;48;2;39;40;34m(\u001b[0m\u001b[38;2;248;248;242;48;2;39;40;34mwaiter_id\u001b[0m\u001b[38;2;248;248;242;48;2;39;40;34m \u001b[0m\u001b[38;2;102;217;239;48;2;39;40;34mAS\u001b[0m\u001b[38;2;248;248;242;48;2;39;40;34m \u001b[0m\u001b[38;2;248;248;242;48;2;39;40;34mINT\u001b[0m\u001b[38;2;248;248;242;48;2;39;40;34m)\u001b[0m\u001b[38;2;248;248;242;48;2;39;40;34m \u001b[0m\u001b[38;2;102;217;239;48;2;39;40;34mAS\u001b[0m\u001b[38;2;248;248;242;48;2;39;40;34m \u001b[0m\u001b[38;2;248;248;242;48;2;39;40;34mwaiter_id\u001b[0m\u001b[38;2;248;248;242;48;2;39;40;34m,\u001b[0m\u001b[48;2;39;40;34m                                                                            \u001b[0m\n",
       "\u001b[38;2;255;70;137;48;2;39;40;34m-\u001b[0m\u001b[38;2;248;248;242;48;2;39;40;34m  \u001b[0m\u001b[38;2;102;217;239;48;2;39;40;34mCAST\u001b[0m\u001b[38;2;248;248;242;48;2;39;40;34m(\u001b[0m\u001b[38;2;248;248;242;48;2;39;40;34mrevenue\u001b[0m\u001b[38;2;248;248;242;48;2;39;40;34m \u001b[0m\u001b[38;2;102;217;239;48;2;39;40;34mAS\u001b[0m\u001b[38;2;248;248;242;48;2;39;40;34m \u001b[0m\u001b[38;2;248;248;242;48;2;39;40;34mDOUBLE\u001b[0m\u001b[38;2;248;248;242;48;2;39;40;34m)\u001b[0m\u001b[38;2;248;248;242;48;2;39;40;34m \u001b[0m\u001b[38;2;102;217;239;48;2;39;40;34mAS\u001b[0m\u001b[38;2;248;248;242;48;2;39;40;34m \u001b[0m\u001b[38;2;248;248;242;48;2;39;40;34mrevenue\u001b[0m\u001b[48;2;39;40;34m                                                                              \u001b[0m\n",
       "\u001b[38;2;255;70;137;48;2;39;40;34m+\u001b[0m\u001b[38;2;248;248;242;48;2;39;40;34m  \u001b[0m\u001b[38;2;102;217;239;48;2;39;40;34mCAST\u001b[0m\u001b[38;2;248;248;242;48;2;39;40;34m(\u001b[0m\u001b[38;2;248;248;242;48;2;39;40;34mrevenue\u001b[0m\u001b[38;2;248;248;242;48;2;39;40;34m \u001b[0m\u001b[38;2;102;217;239;48;2;39;40;34mAS\u001b[0m\u001b[38;2;248;248;242;48;2;39;40;34m \u001b[0m\u001b[38;2;248;248;242;48;2;39;40;34mDOUBLE\u001b[0m\u001b[38;2;248;248;242;48;2;39;40;34m)\u001b[0m\u001b[38;2;248;248;242;48;2;39;40;34m \u001b[0m\u001b[38;2;102;217;239;48;2;39;40;34mAS\u001b[0m\u001b[38;2;248;248;242;48;2;39;40;34m \u001b[0m\u001b[38;2;248;248;242;48;2;39;40;34mrevenue\u001b[0m\u001b[38;2;248;248;242;48;2;39;40;34m,\u001b[0m\u001b[48;2;39;40;34m                                                                             \u001b[0m\n",
       "\u001b[38;2;255;70;137;48;2;39;40;34m+\u001b[0m\u001b[38;2;248;248;242;48;2;39;40;34m  \u001b[0m\u001b[38;2;102;217;239;48;2;39;40;34mCAST\u001b[0m\u001b[38;2;248;248;242;48;2;39;40;34m(\u001b[0m\u001b[38;2;174;129;255;48;2;39;40;34m1\u001b[0m\u001b[38;2;248;248;242;48;2;39;40;34m \u001b[0m\u001b[38;2;102;217;239;48;2;39;40;34mAS\u001b[0m\u001b[38;2;248;248;242;48;2;39;40;34m \u001b[0m\u001b[38;2;248;248;242;48;2;39;40;34mINT\u001b[0m\u001b[38;2;248;248;242;48;2;39;40;34m)\u001b[0m\u001b[38;2;248;248;242;48;2;39;40;34m \u001b[0m\u001b[38;2;102;217;239;48;2;39;40;34mAS\u001b[0m\u001b[38;2;248;248;242;48;2;39;40;34m \u001b[0m\u001b[38;2;248;248;242;48;2;39;40;34mnew_col\u001b[0m\u001b[48;2;39;40;34m                                                                                       \u001b[0m\n",
       "\u001b[38;2;248;248;242;48;2;39;40;34m \u001b[0m\u001b[38;2;102;217;239;48;2;39;40;34mFROM\u001b[0m\u001b[38;2;248;248;242;48;2;39;40;34m \u001b[0m\u001b[38;2;248;248;242;48;2;39;40;34msushi\u001b[0m\u001b[38;2;248;248;242;48;2;39;40;34m.\u001b[0m\u001b[38;2;248;248;242;48;2;39;40;34mwaiter_revenue_by_day\u001b[0m\u001b[48;2;39;40;34m                                                                                  \u001b[0m\n",
       "\u001b[38;2;248;248;242;48;2;39;40;34m \u001b[0m\u001b[38;2;102;217;239;48;2;39;40;34mWHERE\u001b[0m\u001b[48;2;39;40;34m                                                                                                             \u001b[0m\n",
       "\u001b[38;2;248;248;242;48;2;39;40;34m   \u001b[0m\u001b[38;2;248;248;242;48;2;39;40;34mevent_date\u001b[0m\u001b[38;2;248;248;242;48;2;39;40;34m \u001b[0m\u001b[38;2;255;70;137;48;2;39;40;34m=\u001b[0m\u001b[38;2;248;248;242;48;2;39;40;34m \u001b[0m\u001b[38;2;248;248;242;48;2;39;40;34m(\u001b[0m\u001b[48;2;39;40;34m                                                                                                  \u001b[0m\n"
      ]
     },
     "metadata": {},
     "output_type": "display_data"
    },
    {
     "data": {
      "text/html": [
       "<pre style=\"white-space:pre;overflow-x:auto;line-height:normal;font-family:Menlo,'DejaVu Sans Mono',consolas,'Courier New',monospace\"><span style=\"color: #800080; text-decoration-color: #800080; font-weight: bold\">Directly Modified: sushi__dev.top_waiters (Non-breaking)</span>\n",
       "</pre>\n"
      ],
      "text/plain": [
       "\u001b[1;35mDirectly Modified: sushi__dev.top_waiters (Non-breaking)\u001b[0m\n"
      ]
     },
     "metadata": {},
     "output_type": "display_data"
    },
    {
     "data": {
      "application/vnd.jupyter.widget-view+json": {
       "model_id": "915d37f317da4837bb3538b71ccd8776",
       "version_major": 2,
       "version_minor": 0
      },
      "text/plain": [
       "Output()"
      ]
     },
     "metadata": {},
     "output_type": "display_data"
    },
    {
     "data": {
      "text/html": [
       "<pre style=\"white-space:pre;overflow-x:auto;line-height:normal;font-family:Menlo,'DejaVu Sans Mono',consolas,'Courier New',monospace\"></pre>\n"
      ],
      "text/plain": []
     },
     "metadata": {},
     "output_type": "display_data"
    },
    {
     "data": {
      "text/html": [
       "<pre style=\"white-space:pre;overflow-x:auto;line-height:normal;font-family:Menlo,'DejaVu Sans Mono',consolas,'Courier New',monospace\">\n",
       "</pre>\n"
      ],
      "text/plain": [
       "\n"
      ]
     },
     "metadata": {},
     "output_type": "display_data"
    },
    {
     "data": {
      "text/html": [
       "<pre style=\"white-space:pre;overflow-x:auto;line-height:normal;font-family:Menlo,'DejaVu Sans Mono',consolas,'Courier New',monospace\">\n",
       "<span style=\"color: #008000; text-decoration-color: #008000\">All model versions have been created successfully</span>\n",
       "\n",
       "</pre>\n"
      ],
      "text/plain": [
       "\n",
       "\u001b[32mAll model versions have been created successfully\u001b[0m\n",
       "\n"
      ]
     },
     "metadata": {},
     "output_type": "display_data"
    },
    {
     "data": {
      "text/html": [
       "<pre style=\"white-space:pre;overflow-x:auto;line-height:normal;font-family:Menlo,'DejaVu Sans Mono',consolas,'Courier New',monospace\"></pre>\n"
      ],
      "text/plain": []
     },
     "metadata": {},
     "output_type": "display_data"
    },
    {
     "data": {
      "text/html": [
       "<pre style=\"white-space:pre;overflow-x:auto;line-height:normal;font-family:Menlo,'DejaVu Sans Mono',consolas,'Courier New',monospace\">\n",
       "<span style=\"color: #008000; text-decoration-color: #008000\">All model batches have been executed successfully</span>\n",
       "\n",
       "</pre>\n"
      ],
      "text/plain": [
       "\n",
       "\u001b[32mAll model batches have been executed successfully\u001b[0m\n",
       "\n"
      ]
     },
     "metadata": {},
     "output_type": "display_data"
    },
    {
     "data": {
      "application/vnd.jupyter.widget-view+json": {
       "model_id": "9278e8f714c948989d367afd1c961727",
       "version_major": 2,
       "version_minor": 0
      },
      "text/plain": [
       "Output()"
      ]
     },
     "metadata": {},
     "output_type": "display_data"
    },
    {
     "data": {
      "text/html": [
       "<pre style=\"white-space:pre;overflow-x:auto;line-height:normal;font-family:Menlo,'DejaVu Sans Mono',consolas,'Courier New',monospace\"></pre>\n"
      ],
      "text/plain": []
     },
     "metadata": {},
     "output_type": "display_data"
    },
    {
     "data": {
      "text/html": [
       "<pre style=\"white-space:pre;overflow-x:auto;line-height:normal;font-family:Menlo,'DejaVu Sans Mono',consolas,'Courier New',monospace\">\n",
       "</pre>\n"
      ],
      "text/plain": [
       "\n"
      ]
     },
     "metadata": {},
     "output_type": "display_data"
    },
    {
     "data": {
      "text/html": [
       "<pre style=\"white-space:pre;overflow-x:auto;line-height:normal;font-family:Menlo,'DejaVu Sans Mono',consolas,'Courier New',monospace\">\n",
       "<span style=\"color: #008000; text-decoration-color: #008000\">The target environment has been updated successfully</span>\n",
       "\n",
       "</pre>\n"
      ],
      "text/plain": [
       "\n",
       "\u001b[32mThe target environment has been updated successfully\u001b[0m\n",
       "\n"
      ]
     },
     "metadata": {},
     "output_type": "display_data"
    }
   ],
   "source": [
    "%plan dev --no-prompts --auto-apply"
   ]
  },
  {
   "cell_type": "code",
   "execution_count": 24,
   "id": "1c0d39f8-62c9-43e3-bbbf-f154826f3615",
   "metadata": {},
   "outputs": [],
   "source": [
    "!mkdir -p $TARGET_SUSHI_DIR/html"
   ]
  },
  {
   "cell_type": "code",
   "execution_count": 25,
   "id": "7e6fb605-f6fd-469b-a02c-cbd5d7f662ee",
   "metadata": {},
   "outputs": [
    {
     "data": {
      "text/html": [
       "<div>\n",
       "  <div id=\"sqlglot-lineage\"></div>\n",
       "  <script type=\"text/javascript\" src=\"https://unpkg.com/vis-data@latest/peer/umd/vis-data.min.js\"></script>\n",
       "  <script type=\"text/javascript\" src=\"https://unpkg.com/vis-network@latest/peer/umd/vis-network.min.js\"></script>\n",
       "  <link rel=\"stylesheet\" type=\"text/css\" href=\"https://unpkg.com/vis-network/styles/vis-network.min.css\" />\n",
       "  <script type=\"text/javascript\">\n",
       "    var nodes = new vis.DataSet([{\"id\": \"\\\"local\\\".\\\"sushi\\\".\\\"waiter_revenue_by_day\\\"\", \"label\": \"\\\"waiter_revenue_by_day\\\"\", \"title\": \"<span>\\\"local\\\".\\\"sushi\\\".\\\"waiter_revenue_by_day\\\"</span>\"}, {\"id\": \"\\\"local\\\".\\\"sushi\\\".\\\"orders\\\"\", \"label\": \"\\\"orders\\\"\", \"title\": \"<span>\\\"local\\\".\\\"sushi\\\".\\\"orders\\\"</span>\"}, {\"id\": \"\\\"local\\\".\\\"sushi\\\".\\\"order_items\\\"\", \"label\": \"\\\"order_items\\\"\", \"title\": \"<span>\\\"local\\\".\\\"sushi\\\".\\\"order_items\\\"</span>\"}, {\"id\": \"\\\"local\\\".\\\"sushi\\\".\\\"items\\\"\", \"label\": \"\\\"items\\\"\", \"title\": \"<span>\\\"local\\\".\\\"sushi\\\".\\\"items\\\"</span>\"}, {\"id\": \"\\\"local\\\".\\\"sushi\\\".\\\"customers\\\"\", \"label\": \"\\\"customers\\\"\", \"title\": \"<span>\\\"local\\\".\\\"sushi\\\".\\\"customers\\\"</span>\"}, {\"id\": \"\\\"local\\\".\\\"raw\\\".\\\"demographics\\\"\", \"label\": \"\\\"demographics\\\"\", \"title\": \"<span>\\\"local\\\".\\\"raw\\\".\\\"demographics\\\"</span>\"}, {\"id\": \"\\\"local\\\".\\\"sushi\\\".\\\"marketing\\\"\", \"label\": \"\\\"marketing\\\"\", \"title\": \"<span>\\\"local\\\".\\\"sushi\\\".\\\"marketing\\\"</span>\"}, {\"id\": \"\\\"local\\\".\\\"sushi\\\".\\\"waiter_as_customer_by_day\\\"\", \"label\": \"\\\"waiter_as_customer_by_day\\\"\", \"title\": \"<span>\\\"local\\\".\\\"sushi\\\".\\\"waiter_as_customer_by_day\\\"</span>\"}, {\"id\": \"\\\"local\\\".\\\"sushi\\\".\\\"waiters\\\"\", \"label\": \"\\\"waiters\\\"\", \"title\": \"<span>\\\"local\\\".\\\"sushi\\\".\\\"waiters\\\"</span>\"}, {\"id\": \"\\\"local\\\".\\\"sushi\\\".\\\"waiter_names\\\"\", \"label\": \"\\\"waiter_names\\\"\", \"title\": \"<span>\\\"local\\\".\\\"sushi\\\".\\\"waiter_names\\\"</span>\"}, {\"id\": \"\\\"local\\\".\\\"sushi\\\".\\\"raw_marketing\\\"\", \"label\": \"\\\"raw_marketing\\\"\", \"title\": \"<span>\\\"local\\\".\\\"sushi\\\".\\\"raw_marketing\\\"</span>\"}, {\"id\": \"\\\"local\\\".\\\"sushi\\\".\\\"customer_revenue_lifetime\\\"\", \"label\": \"\\\"customer_revenue_lifetime\\\"\", \"title\": \"<span>\\\"local\\\".\\\"sushi\\\".\\\"customer_revenue_lifetime\\\"</span>\"}, {\"id\": \"\\\"local\\\".\\\"sushi\\\".\\\"top_waiters\\\"\", \"label\": \"\\\"top_waiters\\\"\", \"title\": \"<span>\\\"local\\\".\\\"sushi\\\".\\\"top_waiters\\\"</span>\"}, {\"id\": \"\\\"local\\\".\\\"sushi\\\".\\\"customer_revenue_by_day\\\"\", \"label\": \"\\\"customer_revenue_by_day\\\"\", \"title\": \"<span>\\\"local\\\".\\\"sushi\\\".\\\"customer_revenue_by_day\\\"</span>\"}, {\"id\": \"\\\"local\\\".\\\"raw\\\".\\\"model1\\\"\", \"label\": \"\\\"model1\\\"\", \"title\": \"<span>\\\"local\\\".\\\"raw\\\".\\\"model1\\\"</span>\"}, {\"id\": \"\\\"local\\\".\\\"raw\\\".\\\"model2\\\"\", \"label\": \"\\\"model2\\\"\", \"title\": \"<span>\\\"local\\\".\\\"raw\\\".\\\"model2\\\"</span>\"}])\n",
       "    nodes.forEach(row => row[\"title\"] = new DOMParser().parseFromString(row[\"title\"], \"text/html\").body.childNodes[0])\n",
       "\n",
       "    new vis.Network(\n",
       "        document.getElementById(\"sqlglot-lineage\"),\n",
       "        {\n",
       "            nodes: nodes,\n",
       "            edges: new vis.DataSet([{\"from\": \"\\\"local\\\".\\\"sushi\\\".\\\"orders\\\"\", \"to\": \"\\\"local\\\".\\\"sushi\\\".\\\"waiter_revenue_by_day\\\"\"}, {\"from\": \"\\\"local\\\".\\\"sushi\\\".\\\"order_items\\\"\", \"to\": \"\\\"local\\\".\\\"sushi\\\".\\\"waiter_revenue_by_day\\\"\"}, {\"from\": \"\\\"local\\\".\\\"sushi\\\".\\\"items\\\"\", \"to\": \"\\\"local\\\".\\\"sushi\\\".\\\"waiter_revenue_by_day\\\"\"}, {\"from\": \"\\\"local\\\".\\\"sushi\\\".\\\"orders\\\"\", \"to\": \"\\\"local\\\".\\\"sushi\\\".\\\"order_items\\\"\"}, {\"from\": \"\\\"local\\\".\\\"sushi\\\".\\\"items\\\"\", \"to\": \"\\\"local\\\".\\\"sushi\\\".\\\"order_items\\\"\"}, {\"from\": \"\\\"local\\\".\\\"sushi\\\".\\\"orders\\\"\", \"to\": \"\\\"local\\\".\\\"sushi\\\".\\\"customers\\\"\"}, {\"from\": \"\\\"local\\\".\\\"raw\\\".\\\"demographics\\\"\", \"to\": \"\\\"local\\\".\\\"sushi\\\".\\\"customers\\\"\"}, {\"from\": \"\\\"local\\\".\\\"sushi\\\".\\\"marketing\\\"\", \"to\": \"\\\"local\\\".\\\"sushi\\\".\\\"customers\\\"\"}, {\"from\": \"\\\"local\\\".\\\"sushi\\\".\\\"raw_marketing\\\"\", \"to\": \"\\\"local\\\".\\\"sushi\\\".\\\"marketing\\\"\"}, {\"from\": \"\\\"local\\\".\\\"sushi\\\".\\\"waiters\\\"\", \"to\": \"\\\"local\\\".\\\"sushi\\\".\\\"waiter_as_customer_by_day\\\"\"}, {\"from\": \"\\\"local\\\".\\\"sushi\\\".\\\"customers\\\"\", \"to\": \"\\\"local\\\".\\\"sushi\\\".\\\"waiter_as_customer_by_day\\\"\"}, {\"from\": \"\\\"local\\\".\\\"sushi\\\".\\\"waiter_names\\\"\", \"to\": \"\\\"local\\\".\\\"sushi\\\".\\\"waiter_as_customer_by_day\\\"\"}, {\"from\": \"\\\"local\\\".\\\"sushi\\\".\\\"orders\\\"\", \"to\": \"\\\"local\\\".\\\"sushi\\\".\\\"waiters\\\"\"}, {\"from\": \"\\\"local\\\".\\\"sushi\\\".\\\"order_items\\\"\", \"to\": \"\\\"local\\\".\\\"sushi\\\".\\\"customer_revenue_lifetime\\\"\"}, {\"from\": \"\\\"local\\\".\\\"sushi\\\".\\\"orders\\\"\", \"to\": \"\\\"local\\\".\\\"sushi\\\".\\\"customer_revenue_lifetime\\\"\"}, {\"from\": \"\\\"local\\\".\\\"sushi\\\".\\\"items\\\"\", \"to\": \"\\\"local\\\".\\\"sushi\\\".\\\"customer_revenue_lifetime\\\"\"}, {\"from\": \"\\\"local\\\".\\\"sushi\\\".\\\"waiter_revenue_by_day\\\"\", \"to\": \"\\\"local\\\".\\\"sushi\\\".\\\"top_waiters\\\"\"}, {\"from\": \"\\\"local\\\".\\\"sushi\\\".\\\"order_items\\\"\", \"to\": \"\\\"local\\\".\\\"sushi\\\".\\\"customer_revenue_by_day\\\"\"}, {\"from\": \"\\\"local\\\".\\\"sushi\\\".\\\"orders\\\"\", \"to\": \"\\\"local\\\".\\\"sushi\\\".\\\"customer_revenue_by_day\\\"\"}, {\"from\": \"\\\"local\\\".\\\"sushi\\\".\\\"items\\\"\", \"to\": \"\\\"local\\\".\\\"sushi\\\".\\\"customer_revenue_by_day\\\"\"}])\n",
       "        },\n",
       "        {\"height\": \"100%\", \"width\": \"100%\", \"layout\": {\"hierarchical\": {\"enabled\": true, \"nodeSpacing\": 200, \"sortMethod\": \"directed\"}}, \"interaction\": {}, \"physics\": {\"enabled\": false}, \"edges\": {\"arrows\": \"to\"}, \"nodes\": {\"shape\": \"box\"}},\n",
       "    )\n",
       "  </script>\n",
       "</div>"
      ],
      "text/plain": [
       "<sqlglot.lineage.GraphHTML at 0x7fa9d59e7b50>"
      ]
     },
     "metadata": {},
     "output_type": "display_data"
    }
   ],
   "source": [
    "%dag --file $TARGET_SUSHI_DIR/html/dag.html"
   ]
  },
  {
   "cell_type": "code",
   "execution_count": 30,
   "id": "e090c42d-bf2f-4ae0-96e0-e214b00aa79e",
   "metadata": {},
   "outputs": [],
   "source": [
    "from IPython.display import IFrame"
   ]
  },
  {
   "cell_type": "code",
   "execution_count": 42,
   "id": "10f0c514-10c5-4359-9727-83ed8f7ff90e",
   "metadata": {},
   "outputs": [
    {
     "data": {
      "text/html": [
       "\n",
       "        <iframe\n",
       "            width=\"900\"\n",
       "            height=\"800\"\n",
       "            src=\"./dag.html\"\n",
       "            frameborder=\"0\"\n",
       "            allowfullscreen\n",
       "            \n",
       "        ></iframe>\n",
       "        "
      ],
      "text/plain": [
       "<IPython.lib.display.IFrame at 0x7fa9d520d410>"
      ]
     },
     "execution_count": 42,
     "metadata": {},
     "output_type": "execute_result"
    }
   ],
   "source": [
    "IFrame(src='./dag.html', width=900, height=800)"
   ]
  },
  {
   "cell_type": "code",
   "execution_count": 43,
   "id": "5daa9a5d-93d7-489c-b9ae-fc62039c3208",
   "metadata": {},
   "outputs": [
    {
     "data": {
      "text/html": [
       "<pre style=\"white-space:pre;overflow-x:auto;line-height:normal;font-family:Menlo,'DejaVu Sans Mono',consolas,'Courier New',monospace\">\n",
       "<span style=\"color: #008000; text-decoration-color: #008000\">Migration complete</span>\n",
       "\n",
       "</pre>\n"
      ],
      "text/plain": [
       "\n",
       "\u001b[32mMigration complete\u001b[0m\n",
       "\n"
      ]
     },
     "metadata": {},
     "output_type": "display_data"
    }
   ],
   "source": [
    "%migrate"
   ]
  },
  {
   "cell_type": "code",
   "execution_count": 44,
   "id": "f35db811-3874-4faf-b74e-e6cae3dbd1b9",
   "metadata": {},
   "outputs": [
    {
     "data": {
      "text/html": [
       "<pre style=\"white-space:pre;overflow-x:auto;line-height:normal;font-family:Menlo,'DejaVu Sans Mono',consolas,'Courier New',monospace\">\n",
       "<span style=\"font-weight: bold\">Schema Diff Between '</span><span style=\"color: #808000; text-decoration-color: #808000; font-weight: bold\">PROD</span><span style=\"font-weight: bold\">' and '</span><span style=\"color: #008000; text-decoration-color: #008000; font-weight: bold\">DEV</span><span style=\"font-weight: bold\">' environments for model '</span><span style=\"color: #000080; text-decoration-color: #000080; font-weight: bold\">sushi.top_waiters</span><span style=\"font-weight: bold\">':</span>\n",
       "└── <span style=\"color: #008000; text-decoration-color: #008000\">Added Columns:</span>\n",
       "    └── <span style=\"color: #008000; text-decoration-color: #008000\">new_col (INT)</span>\n",
       "</pre>\n"
      ],
      "text/plain": [
       "\n",
       "\u001b[1mSchema Diff Between '\u001b[0m\u001b[1;33mPROD\u001b[0m\u001b[1m' and '\u001b[0m\u001b[1;32mDEV\u001b[0m\u001b[1m' environments for model '\u001b[0m\u001b[1;34msushi.top_waiters\u001b[0m\u001b[1m':\u001b[0m\n",
       "└── \u001b[32mAdded Columns:\u001b[0m\n",
       "    └── \u001b[32mnew_col (INT)\u001b[0m\n"
      ]
     },
     "metadata": {},
     "output_type": "display_data"
    },
    {
     "data": {
      "text/html": [
       "<pre style=\"white-space:pre;overflow-x:auto;line-height:normal;font-family:Menlo,'DejaVu Sans Mono',consolas,'Courier New',monospace\">\n",
       "\n",
       "<span style=\"font-weight: bold\">Row Counts:</span>\n",
       "├──  <span style=\"color: #000080; text-decoration-color: #000080; font-weight: bold\">COMMON</span><span style=\"font-weight: bold\">:</span> 8 rows\n",
       "├──  <span style=\"color: #808000; text-decoration-color: #808000; font-weight: bold\">PROD ONLY</span><span style=\"font-weight: bold\">:</span> 0 rows\n",
       "└──  <span style=\"color: #008000; text-decoration-color: #008000; font-weight: bold\">DEV ONLY</span><span style=\"font-weight: bold\">:</span> 0 rows\n",
       "</pre>\n"
      ],
      "text/plain": [
       "\n",
       "\n",
       "\u001b[1mRow Counts:\u001b[0m\n",
       "├──  \u001b[1;34mCOMMON\u001b[0m\u001b[1m:\u001b[0m 8 rows\n",
       "├──  \u001b[1;33mPROD ONLY\u001b[0m\u001b[1m:\u001b[0m 0 rows\n",
       "└──  \u001b[1;32mDEV ONLY\u001b[0m\u001b[1m:\u001b[0m 0 rows\n"
      ]
     },
     "metadata": {},
     "output_type": "display_data"
    },
    {
     "data": {
      "text/html": [
       "<pre style=\"white-space:pre;overflow-x:auto;line-height:normal;font-family:Menlo,'DejaVu Sans Mono',consolas,'Courier New',monospace\">\n",
       "<span style=\"color: #000080; text-decoration-color: #000080; font-weight: bold\">COMMON ROWS</span><span style=\"font-weight: bold\"> column comparison stats:</span>\n",
       "</pre>\n"
      ],
      "text/plain": [
       "\n",
       "\u001b[1;34mCOMMON ROWS\u001b[0m\u001b[1m column comparison stats:\u001b[0m\n"
      ]
     },
     "metadata": {},
     "output_type": "display_data"
    },
    {
     "data": {
      "text/html": [
       "<pre style=\"white-space:pre;overflow-x:auto;line-height:normal;font-family:Menlo,'DejaVu Sans Mono',consolas,'Courier New',monospace\">         pct_match\n",
       "revenue      <span style=\"color: #008080; text-decoration-color: #008080; font-weight: bold\">100.0</span>\n",
       "\n",
       "</pre>\n"
      ],
      "text/plain": [
       "         pct_match\n",
       "revenue      \u001b[1;36m100.0\u001b[0m\n",
       "\n"
      ]
     },
     "metadata": {},
     "output_type": "display_data"
    }
   ],
   "source": [
    "%table_diff prod:dev --model sushi.top_waiters"
   ]
  },
  {
   "cell_type": "code",
   "execution_count": 45,
   "id": "08a3d152-19b6-47a0-8ca2-fe95cb5484c3",
   "metadata": {},
   "outputs": [
    {
     "name": "stderr",
     "output_type": "stream",
     "text": [
      "\n",
      "----------------------------------------------------------------------\n",
      "Ran 1 test in 0.000s\n",
      "\n",
      "OK\n"
     ]
    }
   ],
   "source": [
    "%run_test {TARGET_SUSHI_DIR}/tests/test_customer_revenue_by_day.yaml::test_customer_revenue_by_day"
   ]
  },
  {
   "cell_type": "code",
   "execution_count": 46,
   "id": "4ad5ed56-89cd-4eb0-a64c-ab6d26e92e9c",
   "metadata": {},
   "outputs": [
    {
     "data": {
      "text/html": [
       "<pre style=\"white-space:pre;overflow-x:auto;line-height:normal;font-family:Menlo,'DejaVu Sans Mono',consolas,'Courier New',monospace\">Found <span style=\"color: #008080; text-decoration-color: #008080; font-weight: bold\">1</span> <span style=\"color: #800080; text-decoration-color: #800080; font-weight: bold\">audit</span><span style=\"font-weight: bold\">(</span>s<span style=\"font-weight: bold\">)</span>.\n",
       "</pre>\n"
      ],
      "text/plain": [
       "Found \u001b[1;36m1\u001b[0m \u001b[1;35maudit\u001b[0m\u001b[1m(\u001b[0ms\u001b[1m)\u001b[0m.\n"
      ]
     },
     "metadata": {},
     "output_type": "display_data"
    },
    {
     "data": {
      "text/html": [
       "<pre style=\"white-space:pre;overflow-x:auto;line-height:normal;font-family:Menlo,'DejaVu Sans Mono',consolas,'Courier New',monospace\">unique_values on model sushi.top_waiters ✅ <span style=\"color: #008000; text-decoration-color: #008000\">PASS</span>.\n",
       "</pre>\n"
      ],
      "text/plain": [
       "unique_values on model sushi.top_waiters ✅ \u001b[32mPASS\u001b[0m.\n"
      ]
     },
     "metadata": {},
     "output_type": "display_data"
    },
    {
     "data": {
      "text/html": [
       "<pre style=\"white-space:pre;overflow-x:auto;line-height:normal;font-family:Menlo,'DejaVu Sans Mono',consolas,'Courier New',monospace\">\n",
       "Finished with <span style=\"color: #008080; text-decoration-color: #008080; font-weight: bold\">0</span> audit errors and <span style=\"color: #008080; text-decoration-color: #008080; font-weight: bold\">0</span> audits skipped.\n",
       "</pre>\n"
      ],
      "text/plain": [
       "\n",
       "Finished with \u001b[1;36m0\u001b[0m audit errors and \u001b[1;36m0\u001b[0m audits skipped.\n"
      ]
     },
     "metadata": {},
     "output_type": "display_data"
    },
    {
     "data": {
      "text/html": [
       "<pre style=\"white-space:pre;overflow-x:auto;line-height:normal;font-family:Menlo,'DejaVu Sans Mono',consolas,'Courier New',monospace\">Done.\n",
       "</pre>\n"
      ],
      "text/plain": [
       "Done.\n"
      ]
     },
     "metadata": {},
     "output_type": "display_data"
    }
   ],
   "source": [
    "%audit sushi.top_waiters"
   ]
  },
  {
   "cell_type": "code",
   "execution_count": 47,
   "id": "347cbe5d-e8d4-4d0f-b9c9-9b920c8df314",
   "metadata": {
    "scrolled": true
   },
   "outputs": [
    {
     "data": {
      "text/html": [
       "<div>\n",
       "<style scoped>\n",
       "    .dataframe tbody tr th:only-of-type {\n",
       "        vertical-align: middle;\n",
       "    }\n",
       "\n",
       "    .dataframe tbody tr th {\n",
       "        vertical-align: top;\n",
       "    }\n",
       "\n",
       "    .dataframe thead th {\n",
       "        text-align: right;\n",
       "    }\n",
       "</style>\n",
       "<table border=\"1\" class=\"dataframe\">\n",
       "  <thead>\n",
       "    <tr style=\"text-align: right;\">\n",
       "      <th></th>\n",
       "      <th>1</th>\n",
       "    </tr>\n",
       "  </thead>\n",
       "  <tbody>\n",
       "    <tr>\n",
       "      <th>0</th>\n",
       "      <td>1</td>\n",
       "    </tr>\n",
       "  </tbody>\n",
       "</table>\n",
       "</div>"
      ],
      "text/plain": [
       "   1\n",
       "0  1"
      ]
     },
     "metadata": {},
     "output_type": "display_data"
    }
   ],
   "source": [
    "%%fetchdf my_result\n",
    "SELECT 1"
   ]
  },
  {
   "cell_type": "code",
   "execution_count": 48,
   "id": "14a353df-26c0-4ab6-91ec-c8bab0847c6a",
   "metadata": {},
   "outputs": [
    {
     "data": {
      "text/html": [
       "<div>\n",
       "<style scoped>\n",
       "    .dataframe tbody tr th:only-of-type {\n",
       "        vertical-align: middle;\n",
       "    }\n",
       "\n",
       "    .dataframe tbody tr th {\n",
       "        vertical-align: top;\n",
       "    }\n",
       "\n",
       "    .dataframe thead th {\n",
       "        text-align: right;\n",
       "    }\n",
       "</style>\n",
       "<table border=\"1\" class=\"dataframe\">\n",
       "  <thead>\n",
       "    <tr style=\"text-align: right;\">\n",
       "      <th></th>\n",
       "      <th>1</th>\n",
       "    </tr>\n",
       "  </thead>\n",
       "  <tbody>\n",
       "    <tr>\n",
       "      <th>0</th>\n",
       "      <td>1</td>\n",
       "    </tr>\n",
       "  </tbody>\n",
       "</table>\n",
       "</div>"
      ],
      "text/plain": [
       "   1\n",
       "0  1"
      ]
     },
     "execution_count": 48,
     "metadata": {},
     "output_type": "execute_result"
    }
   ],
   "source": [
    "my_result"
   ]
  },
  {
   "cell_type": "code",
   "execution_count": 49,
   "id": "3eaf0519-bba8-4896-8c0f-1b30d9777988",
   "metadata": {},
   "outputs": [
    {
     "data": {
      "text/html": [
       "<pre style=\"white-space:pre;overflow-x:auto;line-height:normal;font-family:Menlo,'DejaVu Sans Mono',consolas,'Courier New',monospace\">Models: <span style=\"color: #008080; text-decoration-color: #008080; font-weight: bold\">16</span>\n",
       "</pre>\n"
      ],
      "text/plain": [
       "Models: \u001b[1;36m16\u001b[0m\n"
      ]
     },
     "metadata": {},
     "output_type": "display_data"
    },
    {
     "data": {
      "text/html": [
       "<pre style=\"white-space:pre;overflow-x:auto;line-height:normal;font-family:Menlo,'DejaVu Sans Mono',consolas,'Courier New',monospace\">Macros: <span style=\"color: #008080; text-decoration-color: #008080; font-weight: bold\">3</span>\n",
       "</pre>\n"
      ],
      "text/plain": [
       "Macros: \u001b[1;36m3\u001b[0m\n"
      ]
     },
     "metadata": {},
     "output_type": "display_data"
    },
    {
     "data": {
      "text/html": [
       "<pre style=\"white-space:pre;overflow-x:auto;line-height:normal;font-family:Menlo,'DejaVu Sans Mono',consolas,'Courier New',monospace\">Data warehouse connection <span style=\"color: #008000; text-decoration-color: #008000\">succeeded</span>\n",
       "</pre>\n"
      ],
      "text/plain": [
       "Data warehouse connection \u001b[32msucceeded\u001b[0m\n"
      ]
     },
     "metadata": {},
     "output_type": "display_data"
    },
    {
     "data": {
      "text/html": [
       "<pre style=\"white-space:pre;overflow-x:auto;line-height:normal;font-family:Menlo,'DejaVu Sans Mono',consolas,'Courier New',monospace\">Test connection <span style=\"color: #008000; text-decoration-color: #008000\">succeeded</span>\n",
       "</pre>\n"
      ],
      "text/plain": [
       "Test connection \u001b[32msucceeded\u001b[0m\n"
      ]
     },
     "metadata": {},
     "output_type": "display_data"
    }
   ],
   "source": [
    "%info"
   ]
  },
  {
   "cell_type": "code",
   "execution_count": 50,
   "id": "db0cc0ee-fd63-4376-8562-d5f9eab43710",
   "metadata": {},
   "outputs": [
    {
     "data": {
      "text/html": [
       "<pre style=\"white-space:pre;overflow-x:auto;line-height:normal;font-family:Menlo,'DejaVu Sans Mono',consolas,'Courier New',monospace\">\n",
       "<span style=\"color: #008000; text-decoration-color: #008000\">Migration complete</span>\n",
       "\n",
       "</pre>\n"
      ],
      "text/plain": [
       "\n",
       "\u001b[32mMigration complete\u001b[0m\n",
       "\n"
      ]
     },
     "metadata": {},
     "output_type": "display_data"
    }
   ],
   "source": [
    "%migrate"
   ]
  },
  {
   "cell_type": "code",
   "execution_count": 51,
   "id": "7c5009e8-fa98-48de-8d40-ec274d6cd97f",
   "metadata": {},
   "outputs": [
    {
     "data": {
      "text/plain": [
       "<freezegun.api.FrozenDateTimeFactory at 0x7fa9d7741890>"
      ]
     },
     "execution_count": 51,
     "metadata": {},
     "output_type": "execute_result"
    }
   ],
   "source": [
    "freezer = freeze_time(\"2032-01-02 00:00:00\")\n",
    "freezer.start()"
   ]
  },
  {
   "cell_type": "code",
   "execution_count": 52,
   "id": "f35ae832-de18-4d91-96f9-955af2cd9198",
   "metadata": {},
   "outputs": [
    {
     "data": {
      "application/vnd.jupyter.widget-view+json": {
       "model_id": "e5c7406ce57a4cccadae3e5a03447f5e",
       "version_major": 2,
       "version_minor": 0
      },
      "text/plain": [
       "Output()"
      ]
     },
     "metadata": {},
     "output_type": "display_data"
    },
    {
     "data": {
      "text/html": [
       "<pre style=\"white-space:pre;overflow-x:auto;line-height:normal;font-family:Menlo,'DejaVu Sans Mono',consolas,'Courier New',monospace\"></pre>\n"
      ],
      "text/plain": []
     },
     "metadata": {},
     "output_type": "display_data"
    },
    {
     "data": {
      "text/html": [
       "<pre style=\"white-space:pre;overflow-x:auto;line-height:normal;font-family:Menlo,'DejaVu Sans Mono',consolas,'Courier New',monospace\">\n",
       "<span style=\"color: #008000; text-decoration-color: #008000\">All model batches have been executed successfully</span>\n",
       "\n",
       "</pre>\n"
      ],
      "text/plain": [
       "\n",
       "\u001b[32mAll model batches have been executed successfully\u001b[0m\n",
       "\n"
      ]
     },
     "metadata": {},
     "output_type": "display_data"
    },
    {
     "data": {
      "text/html": [
       "<pre style=\"white-space:pre;overflow-x:auto;line-height:normal;font-family:Menlo,'DejaVu Sans Mono',consolas,'Courier New',monospace\">\n",
       "<span style=\"color: #008000; text-decoration-color: #008000\">Run finished for environment </span><span style=\"color: #008000; text-decoration-color: #008000\">'prod'</span>\n",
       "\n",
       "</pre>\n"
      ],
      "text/plain": [
       "\n",
       "\u001b[32mRun finished for environment \u001b[0m\u001b[32m'prod'\u001b[0m\n",
       "\n"
      ]
     },
     "metadata": {},
     "output_type": "display_data"
    }
   ],
   "source": [
    "%run_dag"
   ]
  },
  {
   "cell_type": "code",
   "execution_count": null,
   "id": "0138a5df-f136-47fd-8146-62c762ef776d",
   "metadata": {},
   "outputs": [],
   "source": [
    "# %invalidate dev"
   ]
  },
  {
   "cell_type": "code",
   "execution_count": null,
   "id": "483ca2f5-585b-4baf-8a0a-77f6aac5c31e",
   "metadata": {},
   "outputs": [],
   "source": [
    "# %context"
   ]
  },
  {
   "cell_type": "code",
   "execution_count": null,
   "id": "04d73a18-58d3-4599-9d56-7767c4320be1",
   "metadata": {},
   "outputs": [],
   "source": [
    "import sqlmesh"
   ]
  },
  {
   "cell_type": "code",
   "execution_count": null,
   "id": "38116170-c40c-45cb-88d1-f6198020ec76",
   "metadata": {},
   "outputs": [],
   "source": [
    "%create_test?"
   ]
  },
  {
   "cell_type": "code",
   "execution_count": null,
   "id": "849f85f0-f116-4a33-865f-e00f7176566f",
   "metadata": {},
   "outputs": [],
   "source": [
    "%lsmagic?"
   ]
  },
  {
   "cell_type": "code",
   "execution_count": null,
   "id": "9e85f5c7-37a9-4b32-8c76-ee444a83a36b",
   "metadata": {},
   "outputs": [],
   "source": [
    "%lsmagic"
   ]
  },
  {
   "cell_type": "code",
   "execution_count": null,
   "id": "5edbfc34-9b10-48ad-b963-9ba99c70220c",
   "metadata": {},
   "outputs": [],
   "source": [
    "%%model sushi.top_waiters\n",
    "/* View of top waiters. */\n",
    "MODEL (\n",
    "  name sushi.top_waiters,\n",
    "  owner jen,\n",
    "  dialect duckdb,\n",
    "  audits (UNIQUE_VALUES('columns' = [waiter_id])),\n",
    "  grains (waiter_id)\n",
    ");\n",
    "\n",
    "SELECT\n",
    "  waiter_id::INT AS waiter_id,\n",
    "  revenue::DOUBLE AS revenue,\n",
    "  1 AS new_col,\n",
    "  2 AS new_col2\n",
    "FROM sushi.waiter_revenue_by_day\n",
    "WHERE\n",
    "  event_date = (\n",
    "    SELECT\n",
    "      MAX(event_date)\n",
    "    FROM sushi.waiter_revenue_by_day\n",
    "  )\n",
    "ORDER BY\n",
    "  revenue DESC\n",
    "LIMIT 100"
   ]
  },
  {
   "cell_type": "code",
   "execution_count": null,
   "id": "5361f286-770a-4cf7-ac5e-08706637fd62",
   "metadata": {},
   "outputs": [],
   "source": [
    "%%model sushi.top_waiters\n",
    "/* View of top waiters. */\n",
    "MODEL (\n",
    "  name sushi.top_waiters,\n",
    "  owner jen,\n",
    "  dialect duckdb,\n",
    "  audits (UNIQUE_VALUES('columns' = [waiter_id])),\n",
    "  grains (waiter_id)\n",
    ");\n",
    "\n",
    "SELECT\n",
    "  waiter_id::INT AS waiter_id,\n",
    "  revenue::DOUBLE AS revenue,\n",
    "  1 AS new_col,\n",
    "  2 AS new_col2,\n",
    "  3 AS new_col3\n",
    "FROM sushi.waiter_revenue_by_day\n",
    "WHERE\n",
    "  event_date = (\n",
    "    SELECT\n",
    "      MAX(event_date)\n",
    "    FROM sushi.waiter_revenue_by_day\n",
    "  )\n",
    "ORDER BY\n",
    "  revenue DESC\n",
    "LIMIT 100"
   ]
  },
  {
   "cell_type": "code",
   "execution_count": null,
   "id": "b7f5b35f-99a8-48d2-b612-6b5008c43cf1",
   "metadata": {},
   "outputs": [],
   "source": []
  }
 ],
 "metadata": {
  "kernelspec": {
   "display_name": "Python 3 (ipykernel)",
   "language": "python",
   "name": "python3"
  },
  "language_info": {
   "codemirror_mode": {
    "name": "ipython",
    "version": 3
   },
   "file_extension": ".py",
   "mimetype": "text/x-python",
   "name": "python",
   "nbconvert_exporter": "python",
   "pygments_lexer": "ipython3",
   "version": "3.11.7"
  },
  "widgets": {
   "application/vnd.jupyter.widget-state+json": {
    "state": {},
    "version_major": 2,
    "version_minor": 0
   }
  }
 },
 "nbformat": 4,
 "nbformat_minor": 5
}
